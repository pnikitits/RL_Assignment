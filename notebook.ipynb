{
 "cells": [
  {
   "cell_type": "markdown",
   "metadata": {},
   "source": [
    "Pierre Nikitits"
   ]
  },
  {
   "cell_type": "markdown",
   "metadata": {},
   "source": [
    "<div class=\"alert alert-block alert-info\">\n",
    "<b>RL Assignment: Summary</b>\n",
    "\n",
    "- Model 1: On-policy first-visit Monte Carlo control\n",
    "\n",
    "- Model 2: Sarsa($\\lambda$)\n",
    "\n",
    "</div>"
   ]
  },
  {
   "cell_type": "markdown",
   "metadata": {},
   "source": [
    "---"
   ]
  },
  {
   "cell_type": "code",
   "execution_count": 15,
   "metadata": {},
   "outputs": [],
   "source": [
    "import gymnasium as gym\n",
    "import text_flappy_bird_gym\n",
    "\n",
    "import numpy as np\n",
    "import matplotlib.pyplot as plt\n",
    "from tqdm import tqdm\n",
    "\n",
    "from collections import defaultdict\n",
    "import wandb"
   ]
  },
  {
   "cell_type": "markdown",
   "metadata": {},
   "source": [
    "---"
   ]
  },
  {
   "cell_type": "markdown",
   "metadata": {},
   "source": [
    "<div class=\"alert alert-block alert-info\">\n",
    "<b>Part 1: Monte Carlo Agent</b>\n",
    "\n",
    "On-policy first-visit Monte Carlo control\n",
    "\n",
    "- Model definition\n",
    "- Training\n",
    "- Results\n",
    "    - Reward over episodes plot\n",
    "    - State value plot\n",
    "- Hyperparameter search\n",
    "\n",
    "</div>"
   ]
  },
  {
   "cell_type": "markdown",
   "metadata": {},
   "source": [
    "Model definition"
   ]
  },
  {
   "cell_type": "code",
   "execution_count": 16,
   "metadata": {},
   "outputs": [],
   "source": [
    "class EpsilonSoftMC:\n",
    "    def __init__(self , observation_space , action_space , gamma=0.95 , epsilon=0.4 , decay_rate=0.999 , min_epsilon=0.00001):\n",
    "        \n",
    "        self.observation_space = observation_space\n",
    "        self.num_states = observation_space[0].n * observation_space[1].n\n",
    "        self.num_actions = action_space.n\n",
    "        \n",
    "        self.gamma = gamma # discount factor\n",
    "        \n",
    "        # small epsilon for epsilon-soft policy\n",
    "        self.epsilon = epsilon\n",
    "        self.decay_rate = decay_rate\n",
    "        self.min_epsilon = min_epsilon\n",
    "        \n",
    "        # init Q for all state action pairs\n",
    "        self.Q = defaultdict(lambda: np.zeros(self.num_actions))\n",
    "        \n",
    "        # init returns list for all state action pairs\n",
    "        self.returns = defaultdict(list)\n",
    "        \n",
    "        # init policy\n",
    "        self.policy = defaultdict(lambda: 1 / self.num_actions)\n",
    "    \n",
    "    def choose_action(self , state):\n",
    "        # epsilon greedy\n",
    "        if np.random.rand() > self.epsilon:\n",
    "            action = np.argmax(self.Q[state])\n",
    "        else:\n",
    "            action = np.random.choice(self.num_actions)\n",
    "        return action\n",
    "    \n",
    "    def update(self , episode):\n",
    "        # find all state action pairs we've visited in this episode\n",
    "        sa_in_episode = set([(tuple(x[0]) , x[1]) for x in episode])\n",
    "\n",
    "        for state , action in sa_in_episode:\n",
    "\n",
    "            sa_pair = (state , action)\n",
    "            first_occurence_idx = next(i for i , x in enumerate(episode) if x[0] == state and x[1] == action)\n",
    "            \n",
    "            G = sum([x[2] * (self.gamma**i) for i , x in enumerate(episode[first_occurence_idx:])]) # sum up all rewards since the first occurrence\n",
    "            self.returns[sa_pair].append(G)\n",
    "\n",
    "            self.Q[state][action] = np.average(self.returns[sa_pair]) # calculate average return for this state over all sampled episodes\n",
    "            \n",
    "            A_star = np.argmax(self.Q[state]) # find the best action for this state\n",
    "\n",
    "            # update the policy to be epsilon greedy\n",
    "            for a in range(self.num_actions):\n",
    "                if a == A_star:\n",
    "                    self.policy[state] = [(1 - self.epsilon) + (self.epsilon / self.num_actions)]\n",
    "                else:\n",
    "                    self.policy[state] = [self.epsilon / self.num_actions]\n",
    "\n",
    "    def set_epsilon(self):\n",
    "        # decay epsilon\n",
    "        self.epsilon = max(self.min_epsilon , self.epsilon * self.decay_rate)\n",
    "\n",
    "\n",
    "    def plot_state_values(self):\n",
    "        # plot the max q value for each state\n",
    "        V = np.zeros((self.observation_space[1].n , self.observation_space[0].n))\n",
    "        \n",
    "        \n",
    "        for state in range(self.num_states):\n",
    "            \n",
    "            row = state % self.observation_space[1].n\n",
    "            col = state // self.observation_space[1].n\n",
    "\n",
    "            V[row , col] = np.max(self.Q[(row , col)])\n",
    "\n",
    "        fig , ax = plt.subplots(figsize=(10 , 8))\n",
    "        cax = ax.matshow(V, cmap=plt.cm.coolwarm)\n",
    "        fig.colorbar(cax)\n",
    "        plt.title(\"State-Value Function $V(s)$\")\n",
    "        plt.xlabel('x')\n",
    "        plt.ylabel('y')\n",
    "        plt.show()"
   ]
  },
  {
   "cell_type": "markdown",
   "metadata": {},
   "source": [
    "Train loop"
   ]
  },
  {
   "cell_type": "code",
   "execution_count": 17,
   "metadata": {},
   "outputs": [],
   "source": [
    "def train(env , agent , episodes):\n",
    "    rewards = []\n",
    "    epsilon_values = []\n",
    "\n",
    "    for ep in range(episodes):\n",
    "        agent.set_epsilon()\n",
    "        epsilon_values.append(agent.epsilon)\n",
    "\n",
    "        episode = []\n",
    "        state , _ = env.reset()\n",
    "\n",
    "        done = False\n",
    "        while not done:\n",
    "\n",
    "            # choose action according to the policy\n",
    "            action = agent.choose_action(state)\n",
    "            # take action and observe R, S'\n",
    "            next_state , reward , done , _ , _ = env.step(action)\n",
    "\n",
    "            episode.append((state , action , reward))\n",
    "            state = next_state\n",
    "\n",
    "        \n",
    "        agent.update(episode)\n",
    "\n",
    "        rewards.append(sum(x[2] for x in episode))\n",
    "    \n",
    "    return agent , rewards , epsilon_values"
   ]
  },
  {
   "cell_type": "markdown",
   "metadata": {},
   "source": [
    "Average over multiple runs"
   ]
  },
  {
   "cell_type": "code",
   "execution_count": 18,
   "metadata": {},
   "outputs": [
    {
     "name": "stderr",
     "output_type": "stream",
     "text": [
      "  0%|          | 0/20 [00:00<?, ?it/s]"
     ]
    },
    {
     "name": "stderr",
     "output_type": "stream",
     "text": [
      "100%|██████████| 20/20 [02:13<00:00,  6.65s/it]\n"
     ]
    },
    {
     "data": {
      "image/png": "[encoded data removed]",
      "text/plain": [
       "<Figure size 640x480 with 1 Axes>"
      ]
     },
     "metadata": {},
     "output_type": "display_data"
    }
   ],
   "source": [
    "number_of_runs = 20\n",
    "reward_arrays = []\n",
    "\n",
    "for i in tqdm(range(number_of_runs)):\n",
    "    env = gym.make('TextFlappyBird-v0' , height=15 , width=20 , pipe_gap=4)\n",
    "    agent = EpsilonSoftMC(env.observation_space , env.action_space)\n",
    "    trained_agent , rewards , epsilon_values = train(env , agent , 2000)\n",
    "    reward_arrays.append(rewards)\n",
    "    env.close()\n",
    "\n",
    "# calculate the average reward over all runs\n",
    "average_rewards = np.mean(reward_arrays , axis=0)\n",
    "\n",
    "\n",
    "\n",
    "plt.plot(average_rewards)\n",
    "plt.xlabel('Episodes')\n",
    "plt.ylabel('Total reward')\n",
    "plt.title(f'Average reward per episode over {number_of_runs} runs')\n",
    "plt.show()"
   ]
  },
  {
   "cell_type": "code",
   "execution_count": 19,
   "metadata": {},
   "outputs": [
    {
     "data": {
      "image/png": "[encoded data removed]",
      "text/plain": [
       "<Figure size 640x480 with 1 Axes>"
      ]
     },
     "metadata": {},
     "output_type": "display_data"
    }
   ],
   "source": [
    "# check the epsilon decay\n",
    "plt.plot(epsilon_values)\n",
    "plt.xlabel(\"Episode\")\n",
    "plt.ylabel(\"Epsilon\")\n",
    "plt.title(\"Epsilon vs Episode\")\n",
    "plt.show()"
   ]
  },
  {
   "cell_type": "markdown",
   "metadata": {},
   "source": [
    "State value function"
   ]
  },
  {
   "cell_type": "code",
   "execution_count": 20,
   "metadata": {},
   "outputs": [
    {
     "data": {
      "image/png": "[encoded data removed]",
      "text/plain": [
       "<Figure size 1000x800 with 2 Axes>"
      ]
     },
     "metadata": {},
     "output_type": "display_data"
    }
   ],
   "source": [
    "trained_agent.plot_state_values()"
   ]
  },
  {
   "cell_type": "markdown",
   "metadata": {},
   "source": [
    "Hyper parameter search"
   ]
  },
  {
   "cell_type": "code",
   "execution_count": 7,
   "metadata": {},
   "outputs": [
    {
     "name": "stderr",
     "output_type": "stream",
     "text": [
      "Failed to detect the name of this notebook, you can set it manually with the WANDB_NOTEBOOK_NAME environment variable to enable code saving.\n"
     ]
    },
    {
     "name": "stdout",
     "output_type": "stream",
     "text": [
      "Create sweep with ID: d5pj203r\n",
      "Sweep URL: https://wandb.ai/pnikitits_1/flappy-bird-mc/sweeps/d5pj203r\n"
     ]
    },
    {
     "name": "stderr",
     "output_type": "stream",
     "text": [
      "\u001b[34m\u001b[1mwandb\u001b[0m: Agent Starting Run: r2tnar7n with config:\n",
      "\u001b[34m\u001b[1mwandb\u001b[0m: \tdecay_rate: 0.5\n",
      "\u001b[34m\u001b[1mwandb\u001b[0m: \tepsilon: 0.5\n",
      "\u001b[34m\u001b[1mwandb\u001b[0m: \tgamma: 0.1\n",
      "\u001b[34m\u001b[1mwandb\u001b[0m: \tmin_epsilon: 0.001\n",
      "Failed to detect the name of this notebook, you can set it manually with the WANDB_NOTEBOOK_NAME environment variable to enable code saving.\n",
      "\u001b[34m\u001b[1mwandb\u001b[0m: Currently logged in as: \u001b[33mpnikitits\u001b[0m (\u001b[33mpnikitits_1\u001b[0m). Use \u001b[1m`wandb login --relogin`\u001b[0m to force relogin\n"
     ]
    },
    {
     "data": {
      "text/html": [
       "Tracking run with wandb version 0.16.6"
      ],
      "text/plain": [
       "<IPython.core.display.HTML object>"
      ]
     },
     "metadata": {},
     "output_type": "display_data"
    },
    {
     "data": {
      "text/html": [
       "Run data is saved locally in <code>/Users/pierre/Documents/GitHub/RL_Assignment/wandb/run-20240412_232555-r2tnar7n</code>"
      ],
      "text/plain": [
       "<IPython.core.display.HTML object>"
      ]
     },
     "metadata": {},
     "output_type": "display_data"
    },
    {
     "data": {
      "text/html": [
       "Syncing run <strong><a href='https://wandb.ai/pnikitits_1/flappy-bird-mc/runs/r2tnar7n' target=\"_blank\">glowing-sweep-1</a></strong> to <a href='https://wandb.ai/pnikitits_1/flappy-bird-mc' target=\"_blank\">Weights & Biases</a> (<a href='https://wandb.me/run' target=\"_blank\">docs</a>)<br/>Sweep page: <a href='https://wandb.ai/pnikitits_1/flappy-bird-mc/sweeps/d5pj203r' target=\"_blank\">https://wandb.ai/pnikitits_1/flappy-bird-mc/sweeps/d5pj203r</a>"
      ],
      "text/plain": [
       "<IPython.core.display.HTML object>"
      ]
     },
     "metadata": {},
     "output_type": "display_data"
    },
    {
     "data": {
      "text/html": [
       " View project at <a href='https://wandb.ai/pnikitits_1/flappy-bird-mc' target=\"_blank\">https://wandb.ai/pnikitits_1/flappy-bird-mc</a>"
      ],
      "text/plain": [
       "<IPython.core.display.HTML object>"
      ]
     },
     "metadata": {},
     "output_type": "display_data"
    },
    {
     "data": {
      "text/html": [
       " View sweep at <a href='https://wandb.ai/pnikitits_1/flappy-bird-mc/sweeps/d5pj203r' target=\"_blank\">https://wandb.ai/pnikitits_1/flappy-bird-mc/sweeps/d5pj203r</a>"
      ],
      "text/plain": [
       "<IPython.core.display.HTML object>"
      ]
     },
     "metadata": {},
     "output_type": "display_data"
    },
    {
     "data": {
      "text/html": [
       " View run at <a href='https://wandb.ai/pnikitits_1/flappy-bird-mc/runs/r2tnar7n' target=\"_blank\">https://wandb.ai/pnikitits_1/flappy-bird-mc/runs/r2tnar7n</a>"
      ],
      "text/plain": [
       "<IPython.core.display.HTML object>"
      ]
     },
     "metadata": {},
     "output_type": "display_data"
    },
    {
     "data": {
      "text/html": [
       "<style>\n",
       "    table.wandb td:nth-child(1) { padding: 0 10px; text-align: left ; width: auto;} td:nth-child(2) {text-align: left ; width: 100%}\n",
       "    .wandb-row { display: flex; flex-direction: row; flex-wrap: wrap; justify-content: flex-start; width: 100% }\n",
       "    .wandb-col { display: flex; flex-direction: column; flex-basis: 100%; flex: 1; padding: 10px; }\n",
       "    </style>\n",
       "<div class=\"wandb-row\"><div class=\"wandb-col\"><h3>Run history:</h3><br/><table class=\"wandb\"><tr><td>reward</td><td>▁</td></tr></table><br/></div><div class=\"wandb-col\"><h3>Run summary:</h3><br/><table class=\"wandb\"><tr><td>reward</td><td>4.545</td></tr></table><br/></div></div>"
      ],
      "text/plain": [
       "<IPython.core.display.HTML object>"
      ]
     },
     "metadata": {},
     "output_type": "display_data"
    },
    {
     "data": {
      "text/html": [
       " View run <strong style=\"color:#cdcd00\">glowing-sweep-1</strong> at: <a href='https://wandb.ai/pnikitits_1/flappy-bird-mc/runs/r2tnar7n' target=\"_blank\">https://wandb.ai/pnikitits_1/flappy-bird-mc/runs/r2tnar7n</a><br/> View project at: <a href='https://wandb.ai/pnikitits_1/flappy-bird-mc' target=\"_blank\">https://wandb.ai/pnikitits_1/flappy-bird-mc</a><br/>Synced 5 W&B file(s), 0 media file(s), 0 artifact file(s) and 0 other file(s)"
      ],
      "text/plain": [
       "<IPython.core.display.HTML object>"
      ]
     },
     "metadata": {},
     "output_type": "display_data"
    },
    {
     "data": {
      "text/html": [
       "Find logs at: <code>./wandb/run-20240412_232555-r2tnar7n/logs</code>"
      ],
      "text/plain": [
       "<IPython.core.display.HTML object>"
      ]
     },
     "metadata": {},
     "output_type": "display_data"
    },
    {
     "name": "stderr",
     "output_type": "stream",
     "text": [
      "\u001b[34m\u001b[1mwandb\u001b[0m: Agent Starting Run: 2dzaxj7a with config:\n",
      "\u001b[34m\u001b[1mwandb\u001b[0m: \tdecay_rate: 0.5\n",
      "\u001b[34m\u001b[1mwandb\u001b[0m: \tepsilon: 0.5\n",
      "\u001b[34m\u001b[1mwandb\u001b[0m: \tgamma: 0.1\n",
      "\u001b[34m\u001b[1mwandb\u001b[0m: \tmin_epsilon: 0.0001\n",
      "Failed to detect the name of this notebook, you can set it manually with the WANDB_NOTEBOOK_NAME environment variable to enable code saving.\n"
     ]
    },
    {
     "data": {
      "text/html": [
       "Tracking run with wandb version 0.16.6"
      ],
      "text/plain": [
       "<IPython.core.display.HTML object>"
      ]
     },
     "metadata": {},
     "output_type": "display_data"
    },
    {
     "data": {
      "text/html": [
       "Run data is saved locally in <code>/Users/pierre/Documents/GitHub/RL_Assignment/wandb/run-20240412_232606-2dzaxj7a</code>"
      ],
      "text/plain": [
       "<IPython.core.display.HTML object>"
      ]
     },
     "metadata": {},
     "output_type": "display_data"
    },
    {
     "data": {
      "text/html": [
       "Syncing run <strong><a href='https://wandb.ai/pnikitits_1/flappy-bird-mc/runs/2dzaxj7a' target=\"_blank\">major-sweep-2</a></strong> to <a href='https://wandb.ai/pnikitits_1/flappy-bird-mc' target=\"_blank\">Weights & Biases</a> (<a href='https://wandb.me/run' target=\"_blank\">docs</a>)<br/>Sweep page: <a href='https://wandb.ai/pnikitits_1/flappy-bird-mc/sweeps/d5pj203r' target=\"_blank\">https://wandb.ai/pnikitits_1/flappy-bird-mc/sweeps/d5pj203r</a>"
      ],
      "text/plain": [
       "<IPython.core.display.HTML object>"
      ]
     },
     "metadata": {},
     "output_type": "display_data"
    },
    {
     "data": {
      "text/html": [
       " View project at <a href='https://wandb.ai/pnikitits_1/flappy-bird-mc' target=\"_blank\">https://wandb.ai/pnikitits_1/flappy-bird-mc</a>"
      ],
      "text/plain": [
       "<IPython.core.display.HTML object>"
      ]
     },
     "metadata": {},
     "output_type": "display_data"
    },
    {
     "data": {
      "text/html": [
       " View sweep at <a href='https://wandb.ai/pnikitits_1/flappy-bird-mc/sweeps/d5pj203r' target=\"_blank\">https://wandb.ai/pnikitits_1/flappy-bird-mc/sweeps/d5pj203r</a>"
      ],
      "text/plain": [
       "<IPython.core.display.HTML object>"
      ]
     },
     "metadata": {},
     "output_type": "display_data"
    },
    {
     "data": {
      "text/html": [
       " View run at <a href='https://wandb.ai/pnikitits_1/flappy-bird-mc/runs/2dzaxj7a' target=\"_blank\">https://wandb.ai/pnikitits_1/flappy-bird-mc/runs/2dzaxj7a</a>"
      ],
      "text/plain": [
       "<IPython.core.display.HTML object>"
      ]
     },
     "metadata": {},
     "output_type": "display_data"
    },
    {
     "data": {
      "text/html": [
       "<style>\n",
       "    table.wandb td:nth-child(1) { padding: 0 10px; text-align: left ; width: auto;} td:nth-child(2) {text-align: left ; width: 100%}\n",
       "    .wandb-row { display: flex; flex-direction: row; flex-wrap: wrap; justify-content: flex-start; width: 100% }\n",
       "    .wandb-col { display: flex; flex-direction: column; flex-basis: 100%; flex: 1; padding: 10px; }\n",
       "    </style>\n",
       "<div class=\"wandb-row\"><div class=\"wandb-col\"><h3>Run history:</h3><br/><table class=\"wandb\"><tr><td>reward</td><td>▁</td></tr></table><br/></div><div class=\"wandb-col\"><h3>Run summary:</h3><br/><table class=\"wandb\"><tr><td>reward</td><td>4.108</td></tr></table><br/></div></div>"
      ],
      "text/plain": [
       "<IPython.core.display.HTML object>"
      ]
     },
     "metadata": {},
     "output_type": "display_data"
    },
    {
     "data": {
      "text/html": [
       " View run <strong style=\"color:#cdcd00\">major-sweep-2</strong> at: <a href='https://wandb.ai/pnikitits_1/flappy-bird-mc/runs/2dzaxj7a' target=\"_blank\">https://wandb.ai/pnikitits_1/flappy-bird-mc/runs/2dzaxj7a</a><br/> View project at: <a href='https://wandb.ai/pnikitits_1/flappy-bird-mc' target=\"_blank\">https://wandb.ai/pnikitits_1/flappy-bird-mc</a><br/>Synced 5 W&B file(s), 0 media file(s), 0 artifact file(s) and 0 other file(s)"
      ],
      "text/plain": [
       "<IPython.core.display.HTML object>"
      ]
     },
     "metadata": {},
     "output_type": "display_data"
    },
    {
     "data": {
      "text/html": [
       "Find logs at: <code>./wandb/run-20240412_232606-2dzaxj7a/logs</code>"
      ],
      "text/plain": [
       "<IPython.core.display.HTML object>"
      ]
     },
     "metadata": {},
     "output_type": "display_data"
    },
    {
     "name": "stderr",
     "output_type": "stream",
     "text": [
      "\u001b[34m\u001b[1mwandb\u001b[0m: Agent Starting Run: x9ofut1q with config:\n",
      "\u001b[34m\u001b[1mwandb\u001b[0m: \tdecay_rate: 0.9\n",
      "\u001b[34m\u001b[1mwandb\u001b[0m: \tepsilon: 0.5\n",
      "\u001b[34m\u001b[1mwandb\u001b[0m: \tgamma: 0.9\n",
      "\u001b[34m\u001b[1mwandb\u001b[0m: \tmin_epsilon: 0.0001\n",
      "Failed to detect the name of this notebook, you can set it manually with the WANDB_NOTEBOOK_NAME environment variable to enable code saving.\n"
     ]
    },
    {
     "data": {
      "text/html": [
       "Tracking run with wandb version 0.16.6"
      ],
      "text/plain": [
       "<IPython.core.display.HTML object>"
      ]
     },
     "metadata": {},
     "output_type": "display_data"
    },
    {
     "data": {
      "text/html": [
       "Run data is saved locally in <code>/Users/pierre/Documents/GitHub/RL_Assignment/wandb/run-20240412_232617-x9ofut1q</code>"
      ],
      "text/plain": [
       "<IPython.core.display.HTML object>"
      ]
     },
     "metadata": {},
     "output_type": "display_data"
    },
    {
     "data": {
      "text/html": [
       "Syncing run <strong><a href='https://wandb.ai/pnikitits_1/flappy-bird-mc/runs/x9ofut1q' target=\"_blank\">cool-sweep-3</a></strong> to <a href='https://wandb.ai/pnikitits_1/flappy-bird-mc' target=\"_blank\">Weights & Biases</a> (<a href='https://wandb.me/run' target=\"_blank\">docs</a>)<br/>Sweep page: <a href='https://wandb.ai/pnikitits_1/flappy-bird-mc/sweeps/d5pj203r' target=\"_blank\">https://wandb.ai/pnikitits_1/flappy-bird-mc/sweeps/d5pj203r</a>"
      ],
      "text/plain": [
       "<IPython.core.display.HTML object>"
      ]
     },
     "metadata": {},
     "output_type": "display_data"
    },
    {
     "data": {
      "text/html": [
       " View project at <a href='https://wandb.ai/pnikitits_1/flappy-bird-mc' target=\"_blank\">https://wandb.ai/pnikitits_1/flappy-bird-mc</a>"
      ],
      "text/plain": [
       "<IPython.core.display.HTML object>"
      ]
     },
     "metadata": {},
     "output_type": "display_data"
    },
    {
     "data": {
      "text/html": [
       " View sweep at <a href='https://wandb.ai/pnikitits_1/flappy-bird-mc/sweeps/d5pj203r' target=\"_blank\">https://wandb.ai/pnikitits_1/flappy-bird-mc/sweeps/d5pj203r</a>"
      ],
      "text/plain": [
       "<IPython.core.display.HTML object>"
      ]
     },
     "metadata": {},
     "output_type": "display_data"
    },
    {
     "data": {
      "text/html": [
       " View run at <a href='https://wandb.ai/pnikitits_1/flappy-bird-mc/runs/x9ofut1q' target=\"_blank\">https://wandb.ai/pnikitits_1/flappy-bird-mc/runs/x9ofut1q</a>"
      ],
      "text/plain": [
       "<IPython.core.display.HTML object>"
      ]
     },
     "metadata": {},
     "output_type": "display_data"
    },
    {
     "data": {
      "text/html": [
       "<style>\n",
       "    table.wandb td:nth-child(1) { padding: 0 10px; text-align: left ; width: auto;} td:nth-child(2) {text-align: left ; width: 100%}\n",
       "    .wandb-row { display: flex; flex-direction: row; flex-wrap: wrap; justify-content: flex-start; width: 100% }\n",
       "    .wandb-col { display: flex; flex-direction: column; flex-basis: 100%; flex: 1; padding: 10px; }\n",
       "    </style>\n",
       "<div class=\"wandb-row\"><div class=\"wandb-col\"><h3>Run history:</h3><br/><table class=\"wandb\"><tr><td>reward</td><td>▁</td></tr></table><br/></div><div class=\"wandb-col\"><h3>Run summary:</h3><br/><table class=\"wandb\"><tr><td>reward</td><td>6.127</td></tr></table><br/></div></div>"
      ],
      "text/plain": [
       "<IPython.core.display.HTML object>"
      ]
     },
     "metadata": {},
     "output_type": "display_data"
    },
    {
     "data": {
      "text/html": [
       " View run <strong style=\"color:#cdcd00\">cool-sweep-3</strong> at: <a href='https://wandb.ai/pnikitits_1/flappy-bird-mc/runs/x9ofut1q' target=\"_blank\">https://wandb.ai/pnikitits_1/flappy-bird-mc/runs/x9ofut1q</a><br/> View project at: <a href='https://wandb.ai/pnikitits_1/flappy-bird-mc' target=\"_blank\">https://wandb.ai/pnikitits_1/flappy-bird-mc</a><br/>Synced 5 W&B file(s), 0 media file(s), 0 artifact file(s) and 0 other file(s)"
      ],
      "text/plain": [
       "<IPython.core.display.HTML object>"
      ]
     },
     "metadata": {},
     "output_type": "display_data"
    },
    {
     "data": {
      "text/html": [
       "Find logs at: <code>./wandb/run-20240412_232617-x9ofut1q/logs</code>"
      ],
      "text/plain": [
       "<IPython.core.display.HTML object>"
      ]
     },
     "metadata": {},
     "output_type": "display_data"
    },
    {
     "name": "stderr",
     "output_type": "stream",
     "text": [
      "\u001b[34m\u001b[1mwandb\u001b[0m: Sweep Agent: Waiting for job.\n",
      "\u001b[34m\u001b[1mwandb\u001b[0m: Job received.\n",
      "\u001b[34m\u001b[1mwandb\u001b[0m: Agent Starting Run: qd1esxy9 with config:\n",
      "\u001b[34m\u001b[1mwandb\u001b[0m: \tdecay_rate: 0.9\n",
      "\u001b[34m\u001b[1mwandb\u001b[0m: \tepsilon: 0.9\n",
      "\u001b[34m\u001b[1mwandb\u001b[0m: \tgamma: 0.9\n",
      "\u001b[34m\u001b[1mwandb\u001b[0m: \tmin_epsilon: 0.001\n",
      "Failed to detect the name of this notebook, you can set it manually with the WANDB_NOTEBOOK_NAME environment variable to enable code saving.\n"
     ]
    },
    {
     "data": {
      "text/html": [
       "Tracking run with wandb version 0.16.6"
      ],
      "text/plain": [
       "<IPython.core.display.HTML object>"
      ]
     },
     "metadata": {},
     "output_type": "display_data"
    },
    {
     "data": {
      "text/html": [
       "Run data is saved locally in <code>/Users/pierre/Documents/GitHub/RL_Assignment/wandb/run-20240412_232655-qd1esxy9</code>"
      ],
      "text/plain": [
       "<IPython.core.display.HTML object>"
      ]
     },
     "metadata": {},
     "output_type": "display_data"
    },
    {
     "data": {
      "text/html": [
       "Syncing run <strong><a href='https://wandb.ai/pnikitits_1/flappy-bird-mc/runs/qd1esxy9' target=\"_blank\">crisp-sweep-4</a></strong> to <a href='https://wandb.ai/pnikitits_1/flappy-bird-mc' target=\"_blank\">Weights & Biases</a> (<a href='https://wandb.me/run' target=\"_blank\">docs</a>)<br/>Sweep page: <a href='https://wandb.ai/pnikitits_1/flappy-bird-mc/sweeps/d5pj203r' target=\"_blank\">https://wandb.ai/pnikitits_1/flappy-bird-mc/sweeps/d5pj203r</a>"
      ],
      "text/plain": [
       "<IPython.core.display.HTML object>"
      ]
     },
     "metadata": {},
     "output_type": "display_data"
    },
    {
     "data": {
      "text/html": [
       " View project at <a href='https://wandb.ai/pnikitits_1/flappy-bird-mc' target=\"_blank\">https://wandb.ai/pnikitits_1/flappy-bird-mc</a>"
      ],
      "text/plain": [
       "<IPython.core.display.HTML object>"
      ]
     },
     "metadata": {},
     "output_type": "display_data"
    },
    {
     "data": {
      "text/html": [
       " View sweep at <a href='https://wandb.ai/pnikitits_1/flappy-bird-mc/sweeps/d5pj203r' target=\"_blank\">https://wandb.ai/pnikitits_1/flappy-bird-mc/sweeps/d5pj203r</a>"
      ],
      "text/plain": [
       "<IPython.core.display.HTML object>"
      ]
     },
     "metadata": {},
     "output_type": "display_data"
    },
    {
     "data": {
      "text/html": [
       " View run at <a href='https://wandb.ai/pnikitits_1/flappy-bird-mc/runs/qd1esxy9' target=\"_blank\">https://wandb.ai/pnikitits_1/flappy-bird-mc/runs/qd1esxy9</a>"
      ],
      "text/plain": [
       "<IPython.core.display.HTML object>"
      ]
     },
     "metadata": {},
     "output_type": "display_data"
    },
    {
     "data": {
      "text/html": [
       "<style>\n",
       "    table.wandb td:nth-child(1) { padding: 0 10px; text-align: left ; width: auto;} td:nth-child(2) {text-align: left ; width: 100%}\n",
       "    .wandb-row { display: flex; flex-direction: row; flex-wrap: wrap; justify-content: flex-start; width: 100% }\n",
       "    .wandb-col { display: flex; flex-direction: column; flex-basis: 100%; flex: 1; padding: 10px; }\n",
       "    </style>\n",
       "<div class=\"wandb-row\"><div class=\"wandb-col\"><h3>Run history:</h3><br/><table class=\"wandb\"><tr><td>reward</td><td>▁</td></tr></table><br/></div><div class=\"wandb-col\"><h3>Run summary:</h3><br/><table class=\"wandb\"><tr><td>reward</td><td>7.115</td></tr></table><br/></div></div>"
      ],
      "text/plain": [
       "<IPython.core.display.HTML object>"
      ]
     },
     "metadata": {},
     "output_type": "display_data"
    },
    {
     "data": {
      "text/html": [
       " View run <strong style=\"color:#cdcd00\">crisp-sweep-4</strong> at: <a href='https://wandb.ai/pnikitits_1/flappy-bird-mc/runs/qd1esxy9' target=\"_blank\">https://wandb.ai/pnikitits_1/flappy-bird-mc/runs/qd1esxy9</a><br/> View project at: <a href='https://wandb.ai/pnikitits_1/flappy-bird-mc' target=\"_blank\">https://wandb.ai/pnikitits_1/flappy-bird-mc</a><br/>Synced 5 W&B file(s), 0 media file(s), 0 artifact file(s) and 0 other file(s)"
      ],
      "text/plain": [
       "<IPython.core.display.HTML object>"
      ]
     },
     "metadata": {},
     "output_type": "display_data"
    },
    {
     "data": {
      "text/html": [
       "Find logs at: <code>./wandb/run-20240412_232655-qd1esxy9/logs</code>"
      ],
      "text/plain": [
       "<IPython.core.display.HTML object>"
      ]
     },
     "metadata": {},
     "output_type": "display_data"
    },
    {
     "name": "stderr",
     "output_type": "stream",
     "text": [
      "\u001b[34m\u001b[1mwandb\u001b[0m: Agent Starting Run: y2o6svto with config:\n",
      "\u001b[34m\u001b[1mwandb\u001b[0m: \tdecay_rate: 0.5\n",
      "\u001b[34m\u001b[1mwandb\u001b[0m: \tepsilon: 0.9\n",
      "\u001b[34m\u001b[1mwandb\u001b[0m: \tgamma: 0.9\n",
      "\u001b[34m\u001b[1mwandb\u001b[0m: \tmin_epsilon: 0.001\n",
      "Failed to detect the name of this notebook, you can set it manually with the WANDB_NOTEBOOK_NAME environment variable to enable code saving.\n"
     ]
    },
    {
     "data": {
      "text/html": [
       "Tracking run with wandb version 0.16.6"
      ],
      "text/plain": [
       "<IPython.core.display.HTML object>"
      ]
     },
     "metadata": {},
     "output_type": "display_data"
    },
    {
     "data": {
      "text/html": [
       "Run data is saved locally in <code>/Users/pierre/Documents/GitHub/RL_Assignment/wandb/run-20240412_232706-y2o6svto</code>"
      ],
      "text/plain": [
       "<IPython.core.display.HTML object>"
      ]
     },
     "metadata": {},
     "output_type": "display_data"
    },
    {
     "data": {
      "text/html": [
       "Syncing run <strong><a href='https://wandb.ai/pnikitits_1/flappy-bird-mc/runs/y2o6svto' target=\"_blank\">logical-sweep-5</a></strong> to <a href='https://wandb.ai/pnikitits_1/flappy-bird-mc' target=\"_blank\">Weights & Biases</a> (<a href='https://wandb.me/run' target=\"_blank\">docs</a>)<br/>Sweep page: <a href='https://wandb.ai/pnikitits_1/flappy-bird-mc/sweeps/d5pj203r' target=\"_blank\">https://wandb.ai/pnikitits_1/flappy-bird-mc/sweeps/d5pj203r</a>"
      ],
      "text/plain": [
       "<IPython.core.display.HTML object>"
      ]
     },
     "metadata": {},
     "output_type": "display_data"
    },
    {
     "data": {
      "text/html": [
       " View project at <a href='https://wandb.ai/pnikitits_1/flappy-bird-mc' target=\"_blank\">https://wandb.ai/pnikitits_1/flappy-bird-mc</a>"
      ],
      "text/plain": [
       "<IPython.core.display.HTML object>"
      ]
     },
     "metadata": {},
     "output_type": "display_data"
    },
    {
     "data": {
      "text/html": [
       " View sweep at <a href='https://wandb.ai/pnikitits_1/flappy-bird-mc/sweeps/d5pj203r' target=\"_blank\">https://wandb.ai/pnikitits_1/flappy-bird-mc/sweeps/d5pj203r</a>"
      ],
      "text/plain": [
       "<IPython.core.display.HTML object>"
      ]
     },
     "metadata": {},
     "output_type": "display_data"
    },
    {
     "data": {
      "text/html": [
       " View run at <a href='https://wandb.ai/pnikitits_1/flappy-bird-mc/runs/y2o6svto' target=\"_blank\">https://wandb.ai/pnikitits_1/flappy-bird-mc/runs/y2o6svto</a>"
      ],
      "text/plain": [
       "<IPython.core.display.HTML object>"
      ]
     },
     "metadata": {},
     "output_type": "display_data"
    },
    {
     "data": {
      "text/html": [
       "<style>\n",
       "    table.wandb td:nth-child(1) { padding: 0 10px; text-align: left ; width: auto;} td:nth-child(2) {text-align: left ; width: 100%}\n",
       "    .wandb-row { display: flex; flex-direction: row; flex-wrap: wrap; justify-content: flex-start; width: 100% }\n",
       "    .wandb-col { display: flex; flex-direction: column; flex-basis: 100%; flex: 1; padding: 10px; }\n",
       "    </style>\n",
       "<div class=\"wandb-row\"><div class=\"wandb-col\"><h3>Run history:</h3><br/><table class=\"wandb\"><tr><td>reward</td><td>▁</td></tr></table><br/></div><div class=\"wandb-col\"><h3>Run summary:</h3><br/><table class=\"wandb\"><tr><td>reward</td><td>4.387</td></tr></table><br/></div></div>"
      ],
      "text/plain": [
       "<IPython.core.display.HTML object>"
      ]
     },
     "metadata": {},
     "output_type": "display_data"
    },
    {
     "data": {
      "text/html": [
       " View run <strong style=\"color:#cdcd00\">logical-sweep-5</strong> at: <a href='https://wandb.ai/pnikitits_1/flappy-bird-mc/runs/y2o6svto' target=\"_blank\">https://wandb.ai/pnikitits_1/flappy-bird-mc/runs/y2o6svto</a><br/> View project at: <a href='https://wandb.ai/pnikitits_1/flappy-bird-mc' target=\"_blank\">https://wandb.ai/pnikitits_1/flappy-bird-mc</a><br/>Synced 5 W&B file(s), 0 media file(s), 0 artifact file(s) and 0 other file(s)"
      ],
      "text/plain": [
       "<IPython.core.display.HTML object>"
      ]
     },
     "metadata": {},
     "output_type": "display_data"
    },
    {
     "data": {
      "text/html": [
       "Find logs at: <code>./wandb/run-20240412_232706-y2o6svto/logs</code>"
      ],
      "text/plain": [
       "<IPython.core.display.HTML object>"
      ]
     },
     "metadata": {},
     "output_type": "display_data"
    },
    {
     "name": "stderr",
     "output_type": "stream",
     "text": [
      "\u001b[34m\u001b[1mwandb\u001b[0m: Agent Starting Run: kjctnffu with config:\n",
      "\u001b[34m\u001b[1mwandb\u001b[0m: \tdecay_rate: 0.1\n",
      "\u001b[34m\u001b[1mwandb\u001b[0m: \tepsilon: 0.1\n",
      "\u001b[34m\u001b[1mwandb\u001b[0m: \tgamma: 0.5\n",
      "\u001b[34m\u001b[1mwandb\u001b[0m: \tmin_epsilon: 0.001\n",
      "Failed to detect the name of this notebook, you can set it manually with the WANDB_NOTEBOOK_NAME environment variable to enable code saving.\n"
     ]
    },
    {
     "data": {
      "text/html": [
       "Tracking run with wandb version 0.16.6"
      ],
      "text/plain": [
       "<IPython.core.display.HTML object>"
      ]
     },
     "metadata": {},
     "output_type": "display_data"
    },
    {
     "data": {
      "text/html": [
       "Run data is saved locally in <code>/Users/pierre/Documents/GitHub/RL_Assignment/wandb/run-20240412_232717-kjctnffu</code>"
      ],
      "text/plain": [
       "<IPython.core.display.HTML object>"
      ]
     },
     "metadata": {},
     "output_type": "display_data"
    },
    {
     "data": {
      "text/html": [
       "Syncing run <strong><a href='https://wandb.ai/pnikitits_1/flappy-bird-mc/runs/kjctnffu' target=\"_blank\">neat-sweep-6</a></strong> to <a href='https://wandb.ai/pnikitits_1/flappy-bird-mc' target=\"_blank\">Weights & Biases</a> (<a href='https://wandb.me/run' target=\"_blank\">docs</a>)<br/>Sweep page: <a href='https://wandb.ai/pnikitits_1/flappy-bird-mc/sweeps/d5pj203r' target=\"_blank\">https://wandb.ai/pnikitits_1/flappy-bird-mc/sweeps/d5pj203r</a>"
      ],
      "text/plain": [
       "<IPython.core.display.HTML object>"
      ]
     },
     "metadata": {},
     "output_type": "display_data"
    },
    {
     "data": {
      "text/html": [
       " View project at <a href='https://wandb.ai/pnikitits_1/flappy-bird-mc' target=\"_blank\">https://wandb.ai/pnikitits_1/flappy-bird-mc</a>"
      ],
      "text/plain": [
       "<IPython.core.display.HTML object>"
      ]
     },
     "metadata": {},
     "output_type": "display_data"
    },
    {
     "data": {
      "text/html": [
       " View sweep at <a href='https://wandb.ai/pnikitits_1/flappy-bird-mc/sweeps/d5pj203r' target=\"_blank\">https://wandb.ai/pnikitits_1/flappy-bird-mc/sweeps/d5pj203r</a>"
      ],
      "text/plain": [
       "<IPython.core.display.HTML object>"
      ]
     },
     "metadata": {},
     "output_type": "display_data"
    },
    {
     "data": {
      "text/html": [
       " View run at <a href='https://wandb.ai/pnikitits_1/flappy-bird-mc/runs/kjctnffu' target=\"_blank\">https://wandb.ai/pnikitits_1/flappy-bird-mc/runs/kjctnffu</a>"
      ],
      "text/plain": [
       "<IPython.core.display.HTML object>"
      ]
     },
     "metadata": {},
     "output_type": "display_data"
    },
    {
     "data": {
      "text/html": [
       "<style>\n",
       "    table.wandb td:nth-child(1) { padding: 0 10px; text-align: left ; width: auto;} td:nth-child(2) {text-align: left ; width: 100%}\n",
       "    .wandb-row { display: flex; flex-direction: row; flex-wrap: wrap; justify-content: flex-start; width: 100% }\n",
       "    .wandb-col { display: flex; flex-direction: column; flex-basis: 100%; flex: 1; padding: 10px; }\n",
       "    </style>\n",
       "<div class=\"wandb-row\"><div class=\"wandb-col\"><h3>Run history:</h3><br/><table class=\"wandb\"><tr><td>reward</td><td>▁</td></tr></table><br/></div><div class=\"wandb-col\"><h3>Run summary:</h3><br/><table class=\"wandb\"><tr><td>reward</td><td>4.306</td></tr></table><br/></div></div>"
      ],
      "text/plain": [
       "<IPython.core.display.HTML object>"
      ]
     },
     "metadata": {},
     "output_type": "display_data"
    },
    {
     "data": {
      "text/html": [
       " View run <strong style=\"color:#cdcd00\">neat-sweep-6</strong> at: <a href='https://wandb.ai/pnikitits_1/flappy-bird-mc/runs/kjctnffu' target=\"_blank\">https://wandb.ai/pnikitits_1/flappy-bird-mc/runs/kjctnffu</a><br/> View project at: <a href='https://wandb.ai/pnikitits_1/flappy-bird-mc' target=\"_blank\">https://wandb.ai/pnikitits_1/flappy-bird-mc</a><br/>Synced 5 W&B file(s), 0 media file(s), 0 artifact file(s) and 0 other file(s)"
      ],
      "text/plain": [
       "<IPython.core.display.HTML object>"
      ]
     },
     "metadata": {},
     "output_type": "display_data"
    },
    {
     "data": {
      "text/html": [
       "Find logs at: <code>./wandb/run-20240412_232717-kjctnffu/logs</code>"
      ],
      "text/plain": [
       "<IPython.core.display.HTML object>"
      ]
     },
     "metadata": {},
     "output_type": "display_data"
    },
    {
     "name": "stderr",
     "output_type": "stream",
     "text": [
      "\u001b[34m\u001b[1mwandb\u001b[0m: Agent Starting Run: j958io8o with config:\n",
      "\u001b[34m\u001b[1mwandb\u001b[0m: \tdecay_rate: 0.5\n",
      "\u001b[34m\u001b[1mwandb\u001b[0m: \tepsilon: 0.1\n",
      "\u001b[34m\u001b[1mwandb\u001b[0m: \tgamma: 0.5\n",
      "\u001b[34m\u001b[1mwandb\u001b[0m: \tmin_epsilon: 1e-05\n",
      "Failed to detect the name of this notebook, you can set it manually with the WANDB_NOTEBOOK_NAME environment variable to enable code saving.\n"
     ]
    },
    {
     "data": {
      "text/html": [
       "Tracking run with wandb version 0.16.6"
      ],
      "text/plain": [
       "<IPython.core.display.HTML object>"
      ]
     },
     "metadata": {},
     "output_type": "display_data"
    },
    {
     "data": {
      "text/html": [
       "Run data is saved locally in <code>/Users/pierre/Documents/GitHub/RL_Assignment/wandb/run-20240412_232728-j958io8o</code>"
      ],
      "text/plain": [
       "<IPython.core.display.HTML object>"
      ]
     },
     "metadata": {},
     "output_type": "display_data"
    },
    {
     "data": {
      "text/html": [
       "Syncing run <strong><a href='https://wandb.ai/pnikitits_1/flappy-bird-mc/runs/j958io8o' target=\"_blank\">rural-sweep-7</a></strong> to <a href='https://wandb.ai/pnikitits_1/flappy-bird-mc' target=\"_blank\">Weights & Biases</a> (<a href='https://wandb.me/run' target=\"_blank\">docs</a>)<br/>Sweep page: <a href='https://wandb.ai/pnikitits_1/flappy-bird-mc/sweeps/d5pj203r' target=\"_blank\">https://wandb.ai/pnikitits_1/flappy-bird-mc/sweeps/d5pj203r</a>"
      ],
      "text/plain": [
       "<IPython.core.display.HTML object>"
      ]
     },
     "metadata": {},
     "output_type": "display_data"
    },
    {
     "data": {
      "text/html": [
       " View project at <a href='https://wandb.ai/pnikitits_1/flappy-bird-mc' target=\"_blank\">https://wandb.ai/pnikitits_1/flappy-bird-mc</a>"
      ],
      "text/plain": [
       "<IPython.core.display.HTML object>"
      ]
     },
     "metadata": {},
     "output_type": "display_data"
    },
    {
     "data": {
      "text/html": [
       " View sweep at <a href='https://wandb.ai/pnikitits_1/flappy-bird-mc/sweeps/d5pj203r' target=\"_blank\">https://wandb.ai/pnikitits_1/flappy-bird-mc/sweeps/d5pj203r</a>"
      ],
      "text/plain": [
       "<IPython.core.display.HTML object>"
      ]
     },
     "metadata": {},
     "output_type": "display_data"
    },
    {
     "data": {
      "text/html": [
       " View run at <a href='https://wandb.ai/pnikitits_1/flappy-bird-mc/runs/j958io8o' target=\"_blank\">https://wandb.ai/pnikitits_1/flappy-bird-mc/runs/j958io8o</a>"
      ],
      "text/plain": [
       "<IPython.core.display.HTML object>"
      ]
     },
     "metadata": {},
     "output_type": "display_data"
    },
    {
     "data": {
      "text/html": [
       "<style>\n",
       "    table.wandb td:nth-child(1) { padding: 0 10px; text-align: left ; width: auto;} td:nth-child(2) {text-align: left ; width: 100%}\n",
       "    .wandb-row { display: flex; flex-direction: row; flex-wrap: wrap; justify-content: flex-start; width: 100% }\n",
       "    .wandb-col { display: flex; flex-direction: column; flex-basis: 100%; flex: 1; padding: 10px; }\n",
       "    </style>\n",
       "<div class=\"wandb-row\"><div class=\"wandb-col\"><h3>Run history:</h3><br/><table class=\"wandb\"><tr><td>reward</td><td>▁</td></tr></table><br/></div><div class=\"wandb-col\"><h3>Run summary:</h3><br/><table class=\"wandb\"><tr><td>reward</td><td>4.107</td></tr></table><br/></div></div>"
      ],
      "text/plain": [
       "<IPython.core.display.HTML object>"
      ]
     },
     "metadata": {},
     "output_type": "display_data"
    },
    {
     "data": {
      "text/html": [
       " View run <strong style=\"color:#cdcd00\">rural-sweep-7</strong> at: <a href='https://wandb.ai/pnikitits_1/flappy-bird-mc/runs/j958io8o' target=\"_blank\">https://wandb.ai/pnikitits_1/flappy-bird-mc/runs/j958io8o</a><br/> View project at: <a href='https://wandb.ai/pnikitits_1/flappy-bird-mc' target=\"_blank\">https://wandb.ai/pnikitits_1/flappy-bird-mc</a><br/>Synced 5 W&B file(s), 0 media file(s), 0 artifact file(s) and 0 other file(s)"
      ],
      "text/plain": [
       "<IPython.core.display.HTML object>"
      ]
     },
     "metadata": {},
     "output_type": "display_data"
    },
    {
     "data": {
      "text/html": [
       "Find logs at: <code>./wandb/run-20240412_232728-j958io8o/logs</code>"
      ],
      "text/plain": [
       "<IPython.core.display.HTML object>"
      ]
     },
     "metadata": {},
     "output_type": "display_data"
    },
    {
     "name": "stderr",
     "output_type": "stream",
     "text": [
      "\u001b[34m\u001b[1mwandb\u001b[0m: Agent Starting Run: 10ylg6ub with config:\n",
      "\u001b[34m\u001b[1mwandb\u001b[0m: \tdecay_rate: 0.1\n",
      "\u001b[34m\u001b[1mwandb\u001b[0m: \tepsilon: 0.1\n",
      "\u001b[34m\u001b[1mwandb\u001b[0m: \tgamma: 0.5\n",
      "\u001b[34m\u001b[1mwandb\u001b[0m: \tmin_epsilon: 0.001\n",
      "Failed to detect the name of this notebook, you can set it manually with the WANDB_NOTEBOOK_NAME environment variable to enable code saving.\n"
     ]
    },
    {
     "data": {
      "text/html": [
       "Tracking run with wandb version 0.16.6"
      ],
      "text/plain": [
       "<IPython.core.display.HTML object>"
      ]
     },
     "metadata": {},
     "output_type": "display_data"
    },
    {
     "data": {
      "text/html": [
       "Run data is saved locally in <code>/Users/pierre/Documents/GitHub/RL_Assignment/wandb/run-20240412_232739-10ylg6ub</code>"
      ],
      "text/plain": [
       "<IPython.core.display.HTML object>"
      ]
     },
     "metadata": {},
     "output_type": "display_data"
    },
    {
     "data": {
      "text/html": [
       "Syncing run <strong><a href='https://wandb.ai/pnikitits_1/flappy-bird-mc/runs/10ylg6ub' target=\"_blank\">legendary-sweep-8</a></strong> to <a href='https://wandb.ai/pnikitits_1/flappy-bird-mc' target=\"_blank\">Weights & Biases</a> (<a href='https://wandb.me/run' target=\"_blank\">docs</a>)<br/>Sweep page: <a href='https://wandb.ai/pnikitits_1/flappy-bird-mc/sweeps/d5pj203r' target=\"_blank\">https://wandb.ai/pnikitits_1/flappy-bird-mc/sweeps/d5pj203r</a>"
      ],
      "text/plain": [
       "<IPython.core.display.HTML object>"
      ]
     },
     "metadata": {},
     "output_type": "display_data"
    },
    {
     "data": {
      "text/html": [
       " View project at <a href='https://wandb.ai/pnikitits_1/flappy-bird-mc' target=\"_blank\">https://wandb.ai/pnikitits_1/flappy-bird-mc</a>"
      ],
      "text/plain": [
       "<IPython.core.display.HTML object>"
      ]
     },
     "metadata": {},
     "output_type": "display_data"
    },
    {
     "data": {
      "text/html": [
       " View sweep at <a href='https://wandb.ai/pnikitits_1/flappy-bird-mc/sweeps/d5pj203r' target=\"_blank\">https://wandb.ai/pnikitits_1/flappy-bird-mc/sweeps/d5pj203r</a>"
      ],
      "text/plain": [
       "<IPython.core.display.HTML object>"
      ]
     },
     "metadata": {},
     "output_type": "display_data"
    },
    {
     "data": {
      "text/html": [
       " View run at <a href='https://wandb.ai/pnikitits_1/flappy-bird-mc/runs/10ylg6ub' target=\"_blank\">https://wandb.ai/pnikitits_1/flappy-bird-mc/runs/10ylg6ub</a>"
      ],
      "text/plain": [
       "<IPython.core.display.HTML object>"
      ]
     },
     "metadata": {},
     "output_type": "display_data"
    },
    {
     "data": {
      "text/html": [
       "<style>\n",
       "    table.wandb td:nth-child(1) { padding: 0 10px; text-align: left ; width: auto;} td:nth-child(2) {text-align: left ; width: 100%}\n",
       "    .wandb-row { display: flex; flex-direction: row; flex-wrap: wrap; justify-content: flex-start; width: 100% }\n",
       "    .wandb-col { display: flex; flex-direction: column; flex-basis: 100%; flex: 1; padding: 10px; }\n",
       "    </style>\n",
       "<div class=\"wandb-row\"><div class=\"wandb-col\"><h3>Run history:</h3><br/><table class=\"wandb\"><tr><td>reward</td><td>▁</td></tr></table><br/></div><div class=\"wandb-col\"><h3>Run summary:</h3><br/><table class=\"wandb\"><tr><td>reward</td><td>4.012</td></tr></table><br/></div></div>"
      ],
      "text/plain": [
       "<IPython.core.display.HTML object>"
      ]
     },
     "metadata": {},
     "output_type": "display_data"
    },
    {
     "data": {
      "text/html": [
       " View run <strong style=\"color:#cdcd00\">legendary-sweep-8</strong> at: <a href='https://wandb.ai/pnikitits_1/flappy-bird-mc/runs/10ylg6ub' target=\"_blank\">https://wandb.ai/pnikitits_1/flappy-bird-mc/runs/10ylg6ub</a><br/> View project at: <a href='https://wandb.ai/pnikitits_1/flappy-bird-mc' target=\"_blank\">https://wandb.ai/pnikitits_1/flappy-bird-mc</a><br/>Synced 5 W&B file(s), 0 media file(s), 0 artifact file(s) and 0 other file(s)"
      ],
      "text/plain": [
       "<IPython.core.display.HTML object>"
      ]
     },
     "metadata": {},
     "output_type": "display_data"
    },
    {
     "data": {
      "text/html": [
       "Find logs at: <code>./wandb/run-20240412_232739-10ylg6ub/logs</code>"
      ],
      "text/plain": [
       "<IPython.core.display.HTML object>"
      ]
     },
     "metadata": {},
     "output_type": "display_data"
    },
    {
     "name": "stderr",
     "output_type": "stream",
     "text": [
      "\u001b[34m\u001b[1mwandb\u001b[0m: Agent Starting Run: vxumd3r1 with config:\n",
      "\u001b[34m\u001b[1mwandb\u001b[0m: \tdecay_rate: 0.1\n",
      "\u001b[34m\u001b[1mwandb\u001b[0m: \tepsilon: 0.1\n",
      "\u001b[34m\u001b[1mwandb\u001b[0m: \tgamma: 0.1\n",
      "\u001b[34m\u001b[1mwandb\u001b[0m: \tmin_epsilon: 0.001\n",
      "Failed to detect the name of this notebook, you can set it manually with the WANDB_NOTEBOOK_NAME environment variable to enable code saving.\n"
     ]
    },
    {
     "data": {
      "text/html": [
       "Tracking run with wandb version 0.16.6"
      ],
      "text/plain": [
       "<IPython.core.display.HTML object>"
      ]
     },
     "metadata": {},
     "output_type": "display_data"
    },
    {
     "data": {
      "text/html": [
       "Run data is saved locally in <code>/Users/pierre/Documents/GitHub/RL_Assignment/wandb/run-20240412_232749-vxumd3r1</code>"
      ],
      "text/plain": [
       "<IPython.core.display.HTML object>"
      ]
     },
     "metadata": {},
     "output_type": "display_data"
    },
    {
     "data": {
      "text/html": [
       "Syncing run <strong><a href='https://wandb.ai/pnikitits_1/flappy-bird-mc/runs/vxumd3r1' target=\"_blank\">gentle-sweep-9</a></strong> to <a href='https://wandb.ai/pnikitits_1/flappy-bird-mc' target=\"_blank\">Weights & Biases</a> (<a href='https://wandb.me/run' target=\"_blank\">docs</a>)<br/>Sweep page: <a href='https://wandb.ai/pnikitits_1/flappy-bird-mc/sweeps/d5pj203r' target=\"_blank\">https://wandb.ai/pnikitits_1/flappy-bird-mc/sweeps/d5pj203r</a>"
      ],
      "text/plain": [
       "<IPython.core.display.HTML object>"
      ]
     },
     "metadata": {},
     "output_type": "display_data"
    },
    {
     "data": {
      "text/html": [
       " View project at <a href='https://wandb.ai/pnikitits_1/flappy-bird-mc' target=\"_blank\">https://wandb.ai/pnikitits_1/flappy-bird-mc</a>"
      ],
      "text/plain": [
       "<IPython.core.display.HTML object>"
      ]
     },
     "metadata": {},
     "output_type": "display_data"
    },
    {
     "data": {
      "text/html": [
       " View sweep at <a href='https://wandb.ai/pnikitits_1/flappy-bird-mc/sweeps/d5pj203r' target=\"_blank\">https://wandb.ai/pnikitits_1/flappy-bird-mc/sweeps/d5pj203r</a>"
      ],
      "text/plain": [
       "<IPython.core.display.HTML object>"
      ]
     },
     "metadata": {},
     "output_type": "display_data"
    },
    {
     "data": {
      "text/html": [
       " View run at <a href='https://wandb.ai/pnikitits_1/flappy-bird-mc/runs/vxumd3r1' target=\"_blank\">https://wandb.ai/pnikitits_1/flappy-bird-mc/runs/vxumd3r1</a>"
      ],
      "text/plain": [
       "<IPython.core.display.HTML object>"
      ]
     },
     "metadata": {},
     "output_type": "display_data"
    },
    {
     "data": {
      "text/html": [
       "<style>\n",
       "    table.wandb td:nth-child(1) { padding: 0 10px; text-align: left ; width: auto;} td:nth-child(2) {text-align: left ; width: 100%}\n",
       "    .wandb-row { display: flex; flex-direction: row; flex-wrap: wrap; justify-content: flex-start; width: 100% }\n",
       "    .wandb-col { display: flex; flex-direction: column; flex-basis: 100%; flex: 1; padding: 10px; }\n",
       "    </style>\n",
       "<div class=\"wandb-row\"><div class=\"wandb-col\"><h3>Run history:</h3><br/><table class=\"wandb\"><tr><td>reward</td><td>▁</td></tr></table><br/></div><div class=\"wandb-col\"><h3>Run summary:</h3><br/><table class=\"wandb\"><tr><td>reward</td><td>4.003</td></tr></table><br/></div></div>"
      ],
      "text/plain": [
       "<IPython.core.display.HTML object>"
      ]
     },
     "metadata": {},
     "output_type": "display_data"
    },
    {
     "data": {
      "text/html": [
       " View run <strong style=\"color:#cdcd00\">gentle-sweep-9</strong> at: <a href='https://wandb.ai/pnikitits_1/flappy-bird-mc/runs/vxumd3r1' target=\"_blank\">https://wandb.ai/pnikitits_1/flappy-bird-mc/runs/vxumd3r1</a><br/> View project at: <a href='https://wandb.ai/pnikitits_1/flappy-bird-mc' target=\"_blank\">https://wandb.ai/pnikitits_1/flappy-bird-mc</a><br/>Synced 5 W&B file(s), 0 media file(s), 0 artifact file(s) and 0 other file(s)"
      ],
      "text/plain": [
       "<IPython.core.display.HTML object>"
      ]
     },
     "metadata": {},
     "output_type": "display_data"
    },
    {
     "data": {
      "text/html": [
       "Find logs at: <code>./wandb/run-20240412_232749-vxumd3r1/logs</code>"
      ],
      "text/plain": [
       "<IPython.core.display.HTML object>"
      ]
     },
     "metadata": {},
     "output_type": "display_data"
    },
    {
     "name": "stderr",
     "output_type": "stream",
     "text": [
      "\u001b[34m\u001b[1mwandb\u001b[0m: Agent Starting Run: gvyj8goy with config:\n",
      "\u001b[34m\u001b[1mwandb\u001b[0m: \tdecay_rate: 0.9\n",
      "\u001b[34m\u001b[1mwandb\u001b[0m: \tepsilon: 0.9\n",
      "\u001b[34m\u001b[1mwandb\u001b[0m: \tgamma: 0.9\n",
      "\u001b[34m\u001b[1mwandb\u001b[0m: \tmin_epsilon: 0.001\n",
      "Failed to detect the name of this notebook, you can set it manually with the WANDB_NOTEBOOK_NAME environment variable to enable code saving.\n"
     ]
    },
    {
     "data": {
      "text/html": [
       "Tracking run with wandb version 0.16.6"
      ],
      "text/plain": [
       "<IPython.core.display.HTML object>"
      ]
     },
     "metadata": {},
     "output_type": "display_data"
    },
    {
     "data": {
      "text/html": [
       "Run data is saved locally in <code>/Users/pierre/Documents/GitHub/RL_Assignment/wandb/run-20240412_232800-gvyj8goy</code>"
      ],
      "text/plain": [
       "<IPython.core.display.HTML object>"
      ]
     },
     "metadata": {},
     "output_type": "display_data"
    },
    {
     "data": {
      "text/html": [
       "Syncing run <strong><a href='https://wandb.ai/pnikitits_1/flappy-bird-mc/runs/gvyj8goy' target=\"_blank\">sleek-sweep-10</a></strong> to <a href='https://wandb.ai/pnikitits_1/flappy-bird-mc' target=\"_blank\">Weights & Biases</a> (<a href='https://wandb.me/run' target=\"_blank\">docs</a>)<br/>Sweep page: <a href='https://wandb.ai/pnikitits_1/flappy-bird-mc/sweeps/d5pj203r' target=\"_blank\">https://wandb.ai/pnikitits_1/flappy-bird-mc/sweeps/d5pj203r</a>"
      ],
      "text/plain": [
       "<IPython.core.display.HTML object>"
      ]
     },
     "metadata": {},
     "output_type": "display_data"
    },
    {
     "data": {
      "text/html": [
       " View project at <a href='https://wandb.ai/pnikitits_1/flappy-bird-mc' target=\"_blank\">https://wandb.ai/pnikitits_1/flappy-bird-mc</a>"
      ],
      "text/plain": [
       "<IPython.core.display.HTML object>"
      ]
     },
     "metadata": {},
     "output_type": "display_data"
    },
    {
     "data": {
      "text/html": [
       " View sweep at <a href='https://wandb.ai/pnikitits_1/flappy-bird-mc/sweeps/d5pj203r' target=\"_blank\">https://wandb.ai/pnikitits_1/flappy-bird-mc/sweeps/d5pj203r</a>"
      ],
      "text/plain": [
       "<IPython.core.display.HTML object>"
      ]
     },
     "metadata": {},
     "output_type": "display_data"
    },
    {
     "data": {
      "text/html": [
       " View run at <a href='https://wandb.ai/pnikitits_1/flappy-bird-mc/runs/gvyj8goy' target=\"_blank\">https://wandb.ai/pnikitits_1/flappy-bird-mc/runs/gvyj8goy</a>"
      ],
      "text/plain": [
       "<IPython.core.display.HTML object>"
      ]
     },
     "metadata": {},
     "output_type": "display_data"
    },
    {
     "data": {
      "text/html": [
       "<style>\n",
       "    table.wandb td:nth-child(1) { padding: 0 10px; text-align: left ; width: auto;} td:nth-child(2) {text-align: left ; width: 100%}\n",
       "    .wandb-row { display: flex; flex-direction: row; flex-wrap: wrap; justify-content: flex-start; width: 100% }\n",
       "    .wandb-col { display: flex; flex-direction: column; flex-basis: 100%; flex: 1; padding: 10px; }\n",
       "    </style>\n",
       "<div class=\"wandb-row\"><div class=\"wandb-col\"><h3>Run history:</h3><br/><table class=\"wandb\"><tr><td>reward</td><td>▁</td></tr></table><br/></div><div class=\"wandb-col\"><h3>Run summary:</h3><br/><table class=\"wandb\"><tr><td>reward</td><td>13.067</td></tr></table><br/></div></div>"
      ],
      "text/plain": [
       "<IPython.core.display.HTML object>"
      ]
     },
     "metadata": {},
     "output_type": "display_data"
    },
    {
     "data": {
      "text/html": [
       " View run <strong style=\"color:#cdcd00\">sleek-sweep-10</strong> at: <a href='https://wandb.ai/pnikitits_1/flappy-bird-mc/runs/gvyj8goy' target=\"_blank\">https://wandb.ai/pnikitits_1/flappy-bird-mc/runs/gvyj8goy</a><br/> View project at: <a href='https://wandb.ai/pnikitits_1/flappy-bird-mc' target=\"_blank\">https://wandb.ai/pnikitits_1/flappy-bird-mc</a><br/>Synced 5 W&B file(s), 0 media file(s), 0 artifact file(s) and 0 other file(s)"
      ],
      "text/plain": [
       "<IPython.core.display.HTML object>"
      ]
     },
     "metadata": {},
     "output_type": "display_data"
    },
    {
     "data": {
      "text/html": [
       "Find logs at: <code>./wandb/run-20240412_232800-gvyj8goy/logs</code>"
      ],
      "text/plain": [
       "<IPython.core.display.HTML object>"
      ]
     },
     "metadata": {},
     "output_type": "display_data"
    },
    {
     "name": "stderr",
     "output_type": "stream",
     "text": [
      "\u001b[34m\u001b[1mwandb\u001b[0m: Agent Starting Run: 8qo8pvl6 with config:\n",
      "\u001b[34m\u001b[1mwandb\u001b[0m: \tdecay_rate: 0.9\n",
      "\u001b[34m\u001b[1mwandb\u001b[0m: \tepsilon: 0.9\n",
      "\u001b[34m\u001b[1mwandb\u001b[0m: \tgamma: 0.9\n",
      "\u001b[34m\u001b[1mwandb\u001b[0m: \tmin_epsilon: 0.001\n",
      "Failed to detect the name of this notebook, you can set it manually with the WANDB_NOTEBOOK_NAME environment variable to enable code saving.\n"
     ]
    },
    {
     "data": {
      "text/html": [
       "Tracking run with wandb version 0.16.6"
      ],
      "text/plain": [
       "<IPython.core.display.HTML object>"
      ]
     },
     "metadata": {},
     "output_type": "display_data"
    },
    {
     "data": {
      "text/html": [
       "Run data is saved locally in <code>/Users/pierre/Documents/GitHub/RL_Assignment/wandb/run-20240412_232813-8qo8pvl6</code>"
      ],
      "text/plain": [
       "<IPython.core.display.HTML object>"
      ]
     },
     "metadata": {},
     "output_type": "display_data"
    },
    {
     "data": {
      "text/html": [
       "Syncing run <strong><a href='https://wandb.ai/pnikitits_1/flappy-bird-mc/runs/8qo8pvl6' target=\"_blank\">frosty-sweep-11</a></strong> to <a href='https://wandb.ai/pnikitits_1/flappy-bird-mc' target=\"_blank\">Weights & Biases</a> (<a href='https://wandb.me/run' target=\"_blank\">docs</a>)<br/>Sweep page: <a href='https://wandb.ai/pnikitits_1/flappy-bird-mc/sweeps/d5pj203r' target=\"_blank\">https://wandb.ai/pnikitits_1/flappy-bird-mc/sweeps/d5pj203r</a>"
      ],
      "text/plain": [
       "<IPython.core.display.HTML object>"
      ]
     },
     "metadata": {},
     "output_type": "display_data"
    },
    {
     "data": {
      "text/html": [
       " View project at <a href='https://wandb.ai/pnikitits_1/flappy-bird-mc' target=\"_blank\">https://wandb.ai/pnikitits_1/flappy-bird-mc</a>"
      ],
      "text/plain": [
       "<IPython.core.display.HTML object>"
      ]
     },
     "metadata": {},
     "output_type": "display_data"
    },
    {
     "data": {
      "text/html": [
       " View sweep at <a href='https://wandb.ai/pnikitits_1/flappy-bird-mc/sweeps/d5pj203r' target=\"_blank\">https://wandb.ai/pnikitits_1/flappy-bird-mc/sweeps/d5pj203r</a>"
      ],
      "text/plain": [
       "<IPython.core.display.HTML object>"
      ]
     },
     "metadata": {},
     "output_type": "display_data"
    },
    {
     "data": {
      "text/html": [
       " View run at <a href='https://wandb.ai/pnikitits_1/flappy-bird-mc/runs/8qo8pvl6' target=\"_blank\">https://wandb.ai/pnikitits_1/flappy-bird-mc/runs/8qo8pvl6</a>"
      ],
      "text/plain": [
       "<IPython.core.display.HTML object>"
      ]
     },
     "metadata": {},
     "output_type": "display_data"
    },
    {
     "data": {
      "text/html": [
       "<style>\n",
       "    table.wandb td:nth-child(1) { padding: 0 10px; text-align: left ; width: auto;} td:nth-child(2) {text-align: left ; width: 100%}\n",
       "    .wandb-row { display: flex; flex-direction: row; flex-wrap: wrap; justify-content: flex-start; width: 100% }\n",
       "    .wandb-col { display: flex; flex-direction: column; flex-basis: 100%; flex: 1; padding: 10px; }\n",
       "    </style>\n",
       "<div class=\"wandb-row\"><div class=\"wandb-col\"><h3>Run history:</h3><br/><table class=\"wandb\"><tr><td>reward</td><td>▁</td></tr></table><br/></div><div class=\"wandb-col\"><h3>Run summary:</h3><br/><table class=\"wandb\"><tr><td>reward</td><td>9.21</td></tr></table><br/></div></div>"
      ],
      "text/plain": [
       "<IPython.core.display.HTML object>"
      ]
     },
     "metadata": {},
     "output_type": "display_data"
    },
    {
     "data": {
      "text/html": [
       " View run <strong style=\"color:#cdcd00\">frosty-sweep-11</strong> at: <a href='https://wandb.ai/pnikitits_1/flappy-bird-mc/runs/8qo8pvl6' target=\"_blank\">https://wandb.ai/pnikitits_1/flappy-bird-mc/runs/8qo8pvl6</a><br/> View project at: <a href='https://wandb.ai/pnikitits_1/flappy-bird-mc' target=\"_blank\">https://wandb.ai/pnikitits_1/flappy-bird-mc</a><br/>Synced 5 W&B file(s), 0 media file(s), 0 artifact file(s) and 0 other file(s)"
      ],
      "text/plain": [
       "<IPython.core.display.HTML object>"
      ]
     },
     "metadata": {},
     "output_type": "display_data"
    },
    {
     "data": {
      "text/html": [
       "Find logs at: <code>./wandb/run-20240412_232813-8qo8pvl6/logs</code>"
      ],
      "text/plain": [
       "<IPython.core.display.HTML object>"
      ]
     },
     "metadata": {},
     "output_type": "display_data"
    },
    {
     "name": "stderr",
     "output_type": "stream",
     "text": [
      "\u001b[34m\u001b[1mwandb\u001b[0m: Agent Starting Run: 4q1ge3wm with config:\n",
      "\u001b[34m\u001b[1mwandb\u001b[0m: \tdecay_rate: 0.1\n",
      "\u001b[34m\u001b[1mwandb\u001b[0m: \tepsilon: 0.9\n",
      "\u001b[34m\u001b[1mwandb\u001b[0m: \tgamma: 0.1\n",
      "\u001b[34m\u001b[1mwandb\u001b[0m: \tmin_epsilon: 1e-05\n",
      "Failed to detect the name of this notebook, you can set it manually with the WANDB_NOTEBOOK_NAME environment variable to enable code saving.\n"
     ]
    },
    {
     "data": {
      "text/html": [
       "Tracking run with wandb version 0.16.6"
      ],
      "text/plain": [
       "<IPython.core.display.HTML object>"
      ]
     },
     "metadata": {},
     "output_type": "display_data"
    },
    {
     "data": {
      "text/html": [
       "Run data is saved locally in <code>/Users/pierre/Documents/GitHub/RL_Assignment/wandb/run-20240412_232823-4q1ge3wm</code>"
      ],
      "text/plain": [
       "<IPython.core.display.HTML object>"
      ]
     },
     "metadata": {},
     "output_type": "display_data"
    },
    {
     "data": {
      "text/html": [
       "Syncing run <strong><a href='https://wandb.ai/pnikitits_1/flappy-bird-mc/runs/4q1ge3wm' target=\"_blank\">upbeat-sweep-12</a></strong> to <a href='https://wandb.ai/pnikitits_1/flappy-bird-mc' target=\"_blank\">Weights & Biases</a> (<a href='https://wandb.me/run' target=\"_blank\">docs</a>)<br/>Sweep page: <a href='https://wandb.ai/pnikitits_1/flappy-bird-mc/sweeps/d5pj203r' target=\"_blank\">https://wandb.ai/pnikitits_1/flappy-bird-mc/sweeps/d5pj203r</a>"
      ],
      "text/plain": [
       "<IPython.core.display.HTML object>"
      ]
     },
     "metadata": {},
     "output_type": "display_data"
    },
    {
     "data": {
      "text/html": [
       " View project at <a href='https://wandb.ai/pnikitits_1/flappy-bird-mc' target=\"_blank\">https://wandb.ai/pnikitits_1/flappy-bird-mc</a>"
      ],
      "text/plain": [
       "<IPython.core.display.HTML object>"
      ]
     },
     "metadata": {},
     "output_type": "display_data"
    },
    {
     "data": {
      "text/html": [
       " View sweep at <a href='https://wandb.ai/pnikitits_1/flappy-bird-mc/sweeps/d5pj203r' target=\"_blank\">https://wandb.ai/pnikitits_1/flappy-bird-mc/sweeps/d5pj203r</a>"
      ],
      "text/plain": [
       "<IPython.core.display.HTML object>"
      ]
     },
     "metadata": {},
     "output_type": "display_data"
    },
    {
     "data": {
      "text/html": [
       " View run at <a href='https://wandb.ai/pnikitits_1/flappy-bird-mc/runs/4q1ge3wm' target=\"_blank\">https://wandb.ai/pnikitits_1/flappy-bird-mc/runs/4q1ge3wm</a>"
      ],
      "text/plain": [
       "<IPython.core.display.HTML object>"
      ]
     },
     "metadata": {},
     "output_type": "display_data"
    },
    {
     "data": {
      "text/html": [
       "<style>\n",
       "    table.wandb td:nth-child(1) { padding: 0 10px; text-align: left ; width: auto;} td:nth-child(2) {text-align: left ; width: 100%}\n",
       "    .wandb-row { display: flex; flex-direction: row; flex-wrap: wrap; justify-content: flex-start; width: 100% }\n",
       "    .wandb-col { display: flex; flex-direction: column; flex-basis: 100%; flex: 1; padding: 10px; }\n",
       "    </style>\n",
       "<div class=\"wandb-row\"><div class=\"wandb-col\"><h3>Run history:</h3><br/><table class=\"wandb\"><tr><td>reward</td><td>▁</td></tr></table><br/></div><div class=\"wandb-col\"><h3>Run summary:</h3><br/><table class=\"wandb\"><tr><td>reward</td><td>4.0</td></tr></table><br/></div></div>"
      ],
      "text/plain": [
       "<IPython.core.display.HTML object>"
      ]
     },
     "metadata": {},
     "output_type": "display_data"
    },
    {
     "data": {
      "text/html": [
       " View run <strong style=\"color:#cdcd00\">upbeat-sweep-12</strong> at: <a href='https://wandb.ai/pnikitits_1/flappy-bird-mc/runs/4q1ge3wm' target=\"_blank\">https://wandb.ai/pnikitits_1/flappy-bird-mc/runs/4q1ge3wm</a><br/> View project at: <a href='https://wandb.ai/pnikitits_1/flappy-bird-mc' target=\"_blank\">https://wandb.ai/pnikitits_1/flappy-bird-mc</a><br/>Synced 5 W&B file(s), 0 media file(s), 0 artifact file(s) and 0 other file(s)"
      ],
      "text/plain": [
       "<IPython.core.display.HTML object>"
      ]
     },
     "metadata": {},
     "output_type": "display_data"
    },
    {
     "data": {
      "text/html": [
       "Find logs at: <code>./wandb/run-20240412_232823-4q1ge3wm/logs</code>"
      ],
      "text/plain": [
       "<IPython.core.display.HTML object>"
      ]
     },
     "metadata": {},
     "output_type": "display_data"
    },
    {
     "name": "stderr",
     "output_type": "stream",
     "text": [
      "\u001b[34m\u001b[1mwandb\u001b[0m: Agent Starting Run: x08b4dtk with config:\n",
      "\u001b[34m\u001b[1mwandb\u001b[0m: \tdecay_rate: 0.1\n",
      "\u001b[34m\u001b[1mwandb\u001b[0m: \tepsilon: 0.1\n",
      "\u001b[34m\u001b[1mwandb\u001b[0m: \tgamma: 0.1\n",
      "\u001b[34m\u001b[1mwandb\u001b[0m: \tmin_epsilon: 1e-05\n",
      "Failed to detect the name of this notebook, you can set it manually with the WANDB_NOTEBOOK_NAME environment variable to enable code saving.\n"
     ]
    },
    {
     "data": {
      "text/html": [
       "Tracking run with wandb version 0.16.6"
      ],
      "text/plain": [
       "<IPython.core.display.HTML object>"
      ]
     },
     "metadata": {},
     "output_type": "display_data"
    },
    {
     "data": {
      "text/html": [
       "Run data is saved locally in <code>/Users/pierre/Documents/GitHub/RL_Assignment/wandb/run-20240412_232834-x08b4dtk</code>"
      ],
      "text/plain": [
       "<IPython.core.display.HTML object>"
      ]
     },
     "metadata": {},
     "output_type": "display_data"
    },
    {
     "data": {
      "text/html": [
       "Syncing run <strong><a href='https://wandb.ai/pnikitits_1/flappy-bird-mc/runs/x08b4dtk' target=\"_blank\">jumping-sweep-13</a></strong> to <a href='https://wandb.ai/pnikitits_1/flappy-bird-mc' target=\"_blank\">Weights & Biases</a> (<a href='https://wandb.me/run' target=\"_blank\">docs</a>)<br/>Sweep page: <a href='https://wandb.ai/pnikitits_1/flappy-bird-mc/sweeps/d5pj203r' target=\"_blank\">https://wandb.ai/pnikitits_1/flappy-bird-mc/sweeps/d5pj203r</a>"
      ],
      "text/plain": [
       "<IPython.core.display.HTML object>"
      ]
     },
     "metadata": {},
     "output_type": "display_data"
    },
    {
     "data": {
      "text/html": [
       " View project at <a href='https://wandb.ai/pnikitits_1/flappy-bird-mc' target=\"_blank\">https://wandb.ai/pnikitits_1/flappy-bird-mc</a>"
      ],
      "text/plain": [
       "<IPython.core.display.HTML object>"
      ]
     },
     "metadata": {},
     "output_type": "display_data"
    },
    {
     "data": {
      "text/html": [
       " View sweep at <a href='https://wandb.ai/pnikitits_1/flappy-bird-mc/sweeps/d5pj203r' target=\"_blank\">https://wandb.ai/pnikitits_1/flappy-bird-mc/sweeps/d5pj203r</a>"
      ],
      "text/plain": [
       "<IPython.core.display.HTML object>"
      ]
     },
     "metadata": {},
     "output_type": "display_data"
    },
    {
     "data": {
      "text/html": [
       " View run at <a href='https://wandb.ai/pnikitits_1/flappy-bird-mc/runs/x08b4dtk' target=\"_blank\">https://wandb.ai/pnikitits_1/flappy-bird-mc/runs/x08b4dtk</a>"
      ],
      "text/plain": [
       "<IPython.core.display.HTML object>"
      ]
     },
     "metadata": {},
     "output_type": "display_data"
    },
    {
     "data": {
      "text/html": [
       "<style>\n",
       "    table.wandb td:nth-child(1) { padding: 0 10px; text-align: left ; width: auto;} td:nth-child(2) {text-align: left ; width: 100%}\n",
       "    .wandb-row { display: flex; flex-direction: row; flex-wrap: wrap; justify-content: flex-start; width: 100% }\n",
       "    .wandb-col { display: flex; flex-direction: column; flex-basis: 100%; flex: 1; padding: 10px; }\n",
       "    </style>\n",
       "<div class=\"wandb-row\"><div class=\"wandb-col\"><h3>Run history:</h3><br/><table class=\"wandb\"><tr><td>reward</td><td>▁</td></tr></table><br/></div><div class=\"wandb-col\"><h3>Run summary:</h3><br/><table class=\"wandb\"><tr><td>reward</td><td>4.0</td></tr></table><br/></div></div>"
      ],
      "text/plain": [
       "<IPython.core.display.HTML object>"
      ]
     },
     "metadata": {},
     "output_type": "display_data"
    },
    {
     "data": {
      "text/html": [
       " View run <strong style=\"color:#cdcd00\">jumping-sweep-13</strong> at: <a href='https://wandb.ai/pnikitits_1/flappy-bird-mc/runs/x08b4dtk' target=\"_blank\">https://wandb.ai/pnikitits_1/flappy-bird-mc/runs/x08b4dtk</a><br/> View project at: <a href='https://wandb.ai/pnikitits_1/flappy-bird-mc' target=\"_blank\">https://wandb.ai/pnikitits_1/flappy-bird-mc</a><br/>Synced 5 W&B file(s), 0 media file(s), 0 artifact file(s) and 0 other file(s)"
      ],
      "text/plain": [
       "<IPython.core.display.HTML object>"
      ]
     },
     "metadata": {},
     "output_type": "display_data"
    },
    {
     "data": {
      "text/html": [
       "Find logs at: <code>./wandb/run-20240412_232834-x08b4dtk/logs</code>"
      ],
      "text/plain": [
       "<IPython.core.display.HTML object>"
      ]
     },
     "metadata": {},
     "output_type": "display_data"
    },
    {
     "name": "stderr",
     "output_type": "stream",
     "text": [
      "\u001b[34m\u001b[1mwandb\u001b[0m: Agent Starting Run: qtc2vkga with config:\n",
      "\u001b[34m\u001b[1mwandb\u001b[0m: \tdecay_rate: 0.1\n",
      "\u001b[34m\u001b[1mwandb\u001b[0m: \tepsilon: 0.1\n",
      "\u001b[34m\u001b[1mwandb\u001b[0m: \tgamma: 0.9\n",
      "\u001b[34m\u001b[1mwandb\u001b[0m: \tmin_epsilon: 1e-05\n",
      "Failed to detect the name of this notebook, you can set it manually with the WANDB_NOTEBOOK_NAME environment variable to enable code saving.\n"
     ]
    },
    {
     "data": {
      "text/html": [
       "Tracking run with wandb version 0.16.6"
      ],
      "text/plain": [
       "<IPython.core.display.HTML object>"
      ]
     },
     "metadata": {},
     "output_type": "display_data"
    },
    {
     "data": {
      "text/html": [
       "Run data is saved locally in <code>/Users/pierre/Documents/GitHub/RL_Assignment/wandb/run-20240412_232845-qtc2vkga</code>"
      ],
      "text/plain": [
       "<IPython.core.display.HTML object>"
      ]
     },
     "metadata": {},
     "output_type": "display_data"
    },
    {
     "data": {
      "text/html": [
       "Syncing run <strong><a href='https://wandb.ai/pnikitits_1/flappy-bird-mc/runs/qtc2vkga' target=\"_blank\">cerulean-sweep-14</a></strong> to <a href='https://wandb.ai/pnikitits_1/flappy-bird-mc' target=\"_blank\">Weights & Biases</a> (<a href='https://wandb.me/run' target=\"_blank\">docs</a>)<br/>Sweep page: <a href='https://wandb.ai/pnikitits_1/flappy-bird-mc/sweeps/d5pj203r' target=\"_blank\">https://wandb.ai/pnikitits_1/flappy-bird-mc/sweeps/d5pj203r</a>"
      ],
      "text/plain": [
       "<IPython.core.display.HTML object>"
      ]
     },
     "metadata": {},
     "output_type": "display_data"
    },
    {
     "data": {
      "text/html": [
       " View project at <a href='https://wandb.ai/pnikitits_1/flappy-bird-mc' target=\"_blank\">https://wandb.ai/pnikitits_1/flappy-bird-mc</a>"
      ],
      "text/plain": [
       "<IPython.core.display.HTML object>"
      ]
     },
     "metadata": {},
     "output_type": "display_data"
    },
    {
     "data": {
      "text/html": [
       " View sweep at <a href='https://wandb.ai/pnikitits_1/flappy-bird-mc/sweeps/d5pj203r' target=\"_blank\">https://wandb.ai/pnikitits_1/flappy-bird-mc/sweeps/d5pj203r</a>"
      ],
      "text/plain": [
       "<IPython.core.display.HTML object>"
      ]
     },
     "metadata": {},
     "output_type": "display_data"
    },
    {
     "data": {
      "text/html": [
       " View run at <a href='https://wandb.ai/pnikitits_1/flappy-bird-mc/runs/qtc2vkga' target=\"_blank\">https://wandb.ai/pnikitits_1/flappy-bird-mc/runs/qtc2vkga</a>"
      ],
      "text/plain": [
       "<IPython.core.display.HTML object>"
      ]
     },
     "metadata": {},
     "output_type": "display_data"
    },
    {
     "data": {
      "text/html": [
       "<style>\n",
       "    table.wandb td:nth-child(1) { padding: 0 10px; text-align: left ; width: auto;} td:nth-child(2) {text-align: left ; width: 100%}\n",
       "    .wandb-row { display: flex; flex-direction: row; flex-wrap: wrap; justify-content: flex-start; width: 100% }\n",
       "    .wandb-col { display: flex; flex-direction: column; flex-basis: 100%; flex: 1; padding: 10px; }\n",
       "    </style>\n",
       "<div class=\"wandb-row\"><div class=\"wandb-col\"><h3>Run history:</h3><br/><table class=\"wandb\"><tr><td>reward</td><td>▁</td></tr></table><br/></div><div class=\"wandb-col\"><h3>Run summary:</h3><br/><table class=\"wandb\"><tr><td>reward</td><td>4.0</td></tr></table><br/></div></div>"
      ],
      "text/plain": [
       "<IPython.core.display.HTML object>"
      ]
     },
     "metadata": {},
     "output_type": "display_data"
    },
    {
     "data": {
      "text/html": [
       " View run <strong style=\"color:#cdcd00\">cerulean-sweep-14</strong> at: <a href='https://wandb.ai/pnikitits_1/flappy-bird-mc/runs/qtc2vkga' target=\"_blank\">https://wandb.ai/pnikitits_1/flappy-bird-mc/runs/qtc2vkga</a><br/> View project at: <a href='https://wandb.ai/pnikitits_1/flappy-bird-mc' target=\"_blank\">https://wandb.ai/pnikitits_1/flappy-bird-mc</a><br/>Synced 5 W&B file(s), 0 media file(s), 0 artifact file(s) and 0 other file(s)"
      ],
      "text/plain": [
       "<IPython.core.display.HTML object>"
      ]
     },
     "metadata": {},
     "output_type": "display_data"
    },
    {
     "data": {
      "text/html": [
       "Find logs at: <code>./wandb/run-20240412_232845-qtc2vkga/logs</code>"
      ],
      "text/plain": [
       "<IPython.core.display.HTML object>"
      ]
     },
     "metadata": {},
     "output_type": "display_data"
    },
    {
     "name": "stderr",
     "output_type": "stream",
     "text": [
      "\u001b[34m\u001b[1mwandb\u001b[0m: Agent Starting Run: wmwavqts with config:\n",
      "\u001b[34m\u001b[1mwandb\u001b[0m: \tdecay_rate: 0.9\n",
      "\u001b[34m\u001b[1mwandb\u001b[0m: \tepsilon: 0.1\n",
      "\u001b[34m\u001b[1mwandb\u001b[0m: \tgamma: 0.1\n",
      "\u001b[34m\u001b[1mwandb\u001b[0m: \tmin_epsilon: 1e-05\n",
      "Failed to detect the name of this notebook, you can set it manually with the WANDB_NOTEBOOK_NAME environment variable to enable code saving.\n"
     ]
    },
    {
     "data": {
      "text/html": [
       "Tracking run with wandb version 0.16.6"
      ],
      "text/plain": [
       "<IPython.core.display.HTML object>"
      ]
     },
     "metadata": {},
     "output_type": "display_data"
    },
    {
     "data": {
      "text/html": [
       "Run data is saved locally in <code>/Users/pierre/Documents/GitHub/RL_Assignment/wandb/run-20240412_232856-wmwavqts</code>"
      ],
      "text/plain": [
       "<IPython.core.display.HTML object>"
      ]
     },
     "metadata": {},
     "output_type": "display_data"
    },
    {
     "data": {
      "text/html": [
       "Syncing run <strong><a href='https://wandb.ai/pnikitits_1/flappy-bird-mc/runs/wmwavqts' target=\"_blank\">leafy-sweep-15</a></strong> to <a href='https://wandb.ai/pnikitits_1/flappy-bird-mc' target=\"_blank\">Weights & Biases</a> (<a href='https://wandb.me/run' target=\"_blank\">docs</a>)<br/>Sweep page: <a href='https://wandb.ai/pnikitits_1/flappy-bird-mc/sweeps/d5pj203r' target=\"_blank\">https://wandb.ai/pnikitits_1/flappy-bird-mc/sweeps/d5pj203r</a>"
      ],
      "text/plain": [
       "<IPython.core.display.HTML object>"
      ]
     },
     "metadata": {},
     "output_type": "display_data"
    },
    {
     "data": {
      "text/html": [
       " View project at <a href='https://wandb.ai/pnikitits_1/flappy-bird-mc' target=\"_blank\">https://wandb.ai/pnikitits_1/flappy-bird-mc</a>"
      ],
      "text/plain": [
       "<IPython.core.display.HTML object>"
      ]
     },
     "metadata": {},
     "output_type": "display_data"
    },
    {
     "data": {
      "text/html": [
       " View sweep at <a href='https://wandb.ai/pnikitits_1/flappy-bird-mc/sweeps/d5pj203r' target=\"_blank\">https://wandb.ai/pnikitits_1/flappy-bird-mc/sweeps/d5pj203r</a>"
      ],
      "text/plain": [
       "<IPython.core.display.HTML object>"
      ]
     },
     "metadata": {},
     "output_type": "display_data"
    },
    {
     "data": {
      "text/html": [
       " View run at <a href='https://wandb.ai/pnikitits_1/flappy-bird-mc/runs/wmwavqts' target=\"_blank\">https://wandb.ai/pnikitits_1/flappy-bird-mc/runs/wmwavqts</a>"
      ],
      "text/plain": [
       "<IPython.core.display.HTML object>"
      ]
     },
     "metadata": {},
     "output_type": "display_data"
    },
    {
     "data": {
      "text/html": [
       "<style>\n",
       "    table.wandb td:nth-child(1) { padding: 0 10px; text-align: left ; width: auto;} td:nth-child(2) {text-align: left ; width: 100%}\n",
       "    .wandb-row { display: flex; flex-direction: row; flex-wrap: wrap; justify-content: flex-start; width: 100% }\n",
       "    .wandb-col { display: flex; flex-direction: column; flex-basis: 100%; flex: 1; padding: 10px; }\n",
       "    </style>\n",
       "<div class=\"wandb-row\"><div class=\"wandb-col\"><h3>Run history:</h3><br/><table class=\"wandb\"><tr><td>reward</td><td>▁</td></tr></table><br/></div><div class=\"wandb-col\"><h3>Run summary:</h3><br/><table class=\"wandb\"><tr><td>reward</td><td>4.091</td></tr></table><br/></div></div>"
      ],
      "text/plain": [
       "<IPython.core.display.HTML object>"
      ]
     },
     "metadata": {},
     "output_type": "display_data"
    },
    {
     "data": {
      "text/html": [
       " View run <strong style=\"color:#cdcd00\">leafy-sweep-15</strong> at: <a href='https://wandb.ai/pnikitits_1/flappy-bird-mc/runs/wmwavqts' target=\"_blank\">https://wandb.ai/pnikitits_1/flappy-bird-mc/runs/wmwavqts</a><br/> View project at: <a href='https://wandb.ai/pnikitits_1/flappy-bird-mc' target=\"_blank\">https://wandb.ai/pnikitits_1/flappy-bird-mc</a><br/>Synced 5 W&B file(s), 0 media file(s), 0 artifact file(s) and 0 other file(s)"
      ],
      "text/plain": [
       "<IPython.core.display.HTML object>"
      ]
     },
     "metadata": {},
     "output_type": "display_data"
    },
    {
     "data": {
      "text/html": [
       "Find logs at: <code>./wandb/run-20240412_232856-wmwavqts/logs</code>"
      ],
      "text/plain": [
       "<IPython.core.display.HTML object>"
      ]
     },
     "metadata": {},
     "output_type": "display_data"
    },
    {
     "name": "stderr",
     "output_type": "stream",
     "text": [
      "\u001b[34m\u001b[1mwandb\u001b[0m: Agent Starting Run: 8ezsjp4a with config:\n",
      "\u001b[34m\u001b[1mwandb\u001b[0m: \tdecay_rate: 0.9\n",
      "\u001b[34m\u001b[1mwandb\u001b[0m: \tepsilon: 0.9\n",
      "\u001b[34m\u001b[1mwandb\u001b[0m: \tgamma: 0.9\n",
      "\u001b[34m\u001b[1mwandb\u001b[0m: \tmin_epsilon: 1e-05\n",
      "Failed to detect the name of this notebook, you can set it manually with the WANDB_NOTEBOOK_NAME environment variable to enable code saving.\n"
     ]
    },
    {
     "data": {
      "text/html": [
       "Tracking run with wandb version 0.16.6"
      ],
      "text/plain": [
       "<IPython.core.display.HTML object>"
      ]
     },
     "metadata": {},
     "output_type": "display_data"
    },
    {
     "data": {
      "text/html": [
       "Run data is saved locally in <code>/Users/pierre/Documents/GitHub/RL_Assignment/wandb/run-20240412_232907-8ezsjp4a</code>"
      ],
      "text/plain": [
       "<IPython.core.display.HTML object>"
      ]
     },
     "metadata": {},
     "output_type": "display_data"
    },
    {
     "data": {
      "text/html": [
       "Syncing run <strong><a href='https://wandb.ai/pnikitits_1/flappy-bird-mc/runs/8ezsjp4a' target=\"_blank\">quiet-sweep-16</a></strong> to <a href='https://wandb.ai/pnikitits_1/flappy-bird-mc' target=\"_blank\">Weights & Biases</a> (<a href='https://wandb.me/run' target=\"_blank\">docs</a>)<br/>Sweep page: <a href='https://wandb.ai/pnikitits_1/flappy-bird-mc/sweeps/d5pj203r' target=\"_blank\">https://wandb.ai/pnikitits_1/flappy-bird-mc/sweeps/d5pj203r</a>"
      ],
      "text/plain": [
       "<IPython.core.display.HTML object>"
      ]
     },
     "metadata": {},
     "output_type": "display_data"
    },
    {
     "data": {
      "text/html": [
       " View project at <a href='https://wandb.ai/pnikitits_1/flappy-bird-mc' target=\"_blank\">https://wandb.ai/pnikitits_1/flappy-bird-mc</a>"
      ],
      "text/plain": [
       "<IPython.core.display.HTML object>"
      ]
     },
     "metadata": {},
     "output_type": "display_data"
    },
    {
     "data": {
      "text/html": [
       " View sweep at <a href='https://wandb.ai/pnikitits_1/flappy-bird-mc/sweeps/d5pj203r' target=\"_blank\">https://wandb.ai/pnikitits_1/flappy-bird-mc/sweeps/d5pj203r</a>"
      ],
      "text/plain": [
       "<IPython.core.display.HTML object>"
      ]
     },
     "metadata": {},
     "output_type": "display_data"
    },
    {
     "data": {
      "text/html": [
       " View run at <a href='https://wandb.ai/pnikitits_1/flappy-bird-mc/runs/8ezsjp4a' target=\"_blank\">https://wandb.ai/pnikitits_1/flappy-bird-mc/runs/8ezsjp4a</a>"
      ],
      "text/plain": [
       "<IPython.core.display.HTML object>"
      ]
     },
     "metadata": {},
     "output_type": "display_data"
    },
    {
     "data": {
      "text/html": [
       "<style>\n",
       "    table.wandb td:nth-child(1) { padding: 0 10px; text-align: left ; width: auto;} td:nth-child(2) {text-align: left ; width: 100%}\n",
       "    .wandb-row { display: flex; flex-direction: row; flex-wrap: wrap; justify-content: flex-start; width: 100% }\n",
       "    .wandb-col { display: flex; flex-direction: column; flex-basis: 100%; flex: 1; padding: 10px; }\n",
       "    </style>\n",
       "<div class=\"wandb-row\"><div class=\"wandb-col\"><h3>Run history:</h3><br/><table class=\"wandb\"><tr><td>reward</td><td>▁</td></tr></table><br/></div><div class=\"wandb-col\"><h3>Run summary:</h3><br/><table class=\"wandb\"><tr><td>reward</td><td>14.01</td></tr></table><br/></div></div>"
      ],
      "text/plain": [
       "<IPython.core.display.HTML object>"
      ]
     },
     "metadata": {},
     "output_type": "display_data"
    },
    {
     "data": {
      "text/html": [
       " View run <strong style=\"color:#cdcd00\">quiet-sweep-16</strong> at: <a href='https://wandb.ai/pnikitits_1/flappy-bird-mc/runs/8ezsjp4a' target=\"_blank\">https://wandb.ai/pnikitits_1/flappy-bird-mc/runs/8ezsjp4a</a><br/> View project at: <a href='https://wandb.ai/pnikitits_1/flappy-bird-mc' target=\"_blank\">https://wandb.ai/pnikitits_1/flappy-bird-mc</a><br/>Synced 5 W&B file(s), 0 media file(s), 0 artifact file(s) and 0 other file(s)"
      ],
      "text/plain": [
       "<IPython.core.display.HTML object>"
      ]
     },
     "metadata": {},
     "output_type": "display_data"
    },
    {
     "data": {
      "text/html": [
       "Find logs at: <code>./wandb/run-20240412_232907-8ezsjp4a/logs</code>"
      ],
      "text/plain": [
       "<IPython.core.display.HTML object>"
      ]
     },
     "metadata": {},
     "output_type": "display_data"
    },
    {
     "name": "stderr",
     "output_type": "stream",
     "text": [
      "\u001b[34m\u001b[1mwandb\u001b[0m: Agent Starting Run: nvkgq6aj with config:\n",
      "\u001b[34m\u001b[1mwandb\u001b[0m: \tdecay_rate: 0.9\n",
      "\u001b[34m\u001b[1mwandb\u001b[0m: \tepsilon: 0.9\n",
      "\u001b[34m\u001b[1mwandb\u001b[0m: \tgamma: 0.9\n",
      "\u001b[34m\u001b[1mwandb\u001b[0m: \tmin_epsilon: 0.0001\n",
      "Failed to detect the name of this notebook, you can set it manually with the WANDB_NOTEBOOK_NAME environment variable to enable code saving.\n"
     ]
    },
    {
     "data": {
      "text/html": [
       "Tracking run with wandb version 0.16.6"
      ],
      "text/plain": [
       "<IPython.core.display.HTML object>"
      ]
     },
     "metadata": {},
     "output_type": "display_data"
    },
    {
     "data": {
      "text/html": [
       "Run data is saved locally in <code>/Users/pierre/Documents/GitHub/RL_Assignment/wandb/run-20240412_232918-nvkgq6aj</code>"
      ],
      "text/plain": [
       "<IPython.core.display.HTML object>"
      ]
     },
     "metadata": {},
     "output_type": "display_data"
    },
    {
     "data": {
      "text/html": [
       "Syncing run <strong><a href='https://wandb.ai/pnikitits_1/flappy-bird-mc/runs/nvkgq6aj' target=\"_blank\">flowing-sweep-17</a></strong> to <a href='https://wandb.ai/pnikitits_1/flappy-bird-mc' target=\"_blank\">Weights & Biases</a> (<a href='https://wandb.me/run' target=\"_blank\">docs</a>)<br/>Sweep page: <a href='https://wandb.ai/pnikitits_1/flappy-bird-mc/sweeps/d5pj203r' target=\"_blank\">https://wandb.ai/pnikitits_1/flappy-bird-mc/sweeps/d5pj203r</a>"
      ],
      "text/plain": [
       "<IPython.core.display.HTML object>"
      ]
     },
     "metadata": {},
     "output_type": "display_data"
    },
    {
     "data": {
      "text/html": [
       " View project at <a href='https://wandb.ai/pnikitits_1/flappy-bird-mc' target=\"_blank\">https://wandb.ai/pnikitits_1/flappy-bird-mc</a>"
      ],
      "text/plain": [
       "<IPython.core.display.HTML object>"
      ]
     },
     "metadata": {},
     "output_type": "display_data"
    },
    {
     "data": {
      "text/html": [
       " View sweep at <a href='https://wandb.ai/pnikitits_1/flappy-bird-mc/sweeps/d5pj203r' target=\"_blank\">https://wandb.ai/pnikitits_1/flappy-bird-mc/sweeps/d5pj203r</a>"
      ],
      "text/plain": [
       "<IPython.core.display.HTML object>"
      ]
     },
     "metadata": {},
     "output_type": "display_data"
    },
    {
     "data": {
      "text/html": [
       " View run at <a href='https://wandb.ai/pnikitits_1/flappy-bird-mc/runs/nvkgq6aj' target=\"_blank\">https://wandb.ai/pnikitits_1/flappy-bird-mc/runs/nvkgq6aj</a>"
      ],
      "text/plain": [
       "<IPython.core.display.HTML object>"
      ]
     },
     "metadata": {},
     "output_type": "display_data"
    },
    {
     "data": {
      "text/html": [
       "<style>\n",
       "    table.wandb td:nth-child(1) { padding: 0 10px; text-align: left ; width: auto;} td:nth-child(2) {text-align: left ; width: 100%}\n",
       "    .wandb-row { display: flex; flex-direction: row; flex-wrap: wrap; justify-content: flex-start; width: 100% }\n",
       "    .wandb-col { display: flex; flex-direction: column; flex-basis: 100%; flex: 1; padding: 10px; }\n",
       "    </style>\n",
       "<div class=\"wandb-row\"><div class=\"wandb-col\"><h3>Run history:</h3><br/><table class=\"wandb\"><tr><td>reward</td><td>▁</td></tr></table><br/></div><div class=\"wandb-col\"><h3>Run summary:</h3><br/><table class=\"wandb\"><tr><td>reward</td><td>8.706</td></tr></table><br/></div></div>"
      ],
      "text/plain": [
       "<IPython.core.display.HTML object>"
      ]
     },
     "metadata": {},
     "output_type": "display_data"
    },
    {
     "data": {
      "text/html": [
       " View run <strong style=\"color:#cdcd00\">flowing-sweep-17</strong> at: <a href='https://wandb.ai/pnikitits_1/flappy-bird-mc/runs/nvkgq6aj' target=\"_blank\">https://wandb.ai/pnikitits_1/flappy-bird-mc/runs/nvkgq6aj</a><br/> View project at: <a href='https://wandb.ai/pnikitits_1/flappy-bird-mc' target=\"_blank\">https://wandb.ai/pnikitits_1/flappy-bird-mc</a><br/>Synced 5 W&B file(s), 0 media file(s), 0 artifact file(s) and 0 other file(s)"
      ],
      "text/plain": [
       "<IPython.core.display.HTML object>"
      ]
     },
     "metadata": {},
     "output_type": "display_data"
    },
    {
     "data": {
      "text/html": [
       "Find logs at: <code>./wandb/run-20240412_232918-nvkgq6aj/logs</code>"
      ],
      "text/plain": [
       "<IPython.core.display.HTML object>"
      ]
     },
     "metadata": {},
     "output_type": "display_data"
    },
    {
     "name": "stderr",
     "output_type": "stream",
     "text": [
      "\u001b[34m\u001b[1mwandb\u001b[0m: Agent Starting Run: k8mqpclg with config:\n",
      "\u001b[34m\u001b[1mwandb\u001b[0m: \tdecay_rate: 0.9\n",
      "\u001b[34m\u001b[1mwandb\u001b[0m: \tepsilon: 0.9\n",
      "\u001b[34m\u001b[1mwandb\u001b[0m: \tgamma: 0.9\n",
      "\u001b[34m\u001b[1mwandb\u001b[0m: \tmin_epsilon: 1e-05\n",
      "Failed to detect the name of this notebook, you can set it manually with the WANDB_NOTEBOOK_NAME environment variable to enable code saving.\n"
     ]
    },
    {
     "data": {
      "text/html": [
       "Tracking run with wandb version 0.16.6"
      ],
      "text/plain": [
       "<IPython.core.display.HTML object>"
      ]
     },
     "metadata": {},
     "output_type": "display_data"
    },
    {
     "data": {
      "text/html": [
       "Run data is saved locally in <code>/Users/pierre/Documents/GitHub/RL_Assignment/wandb/run-20240412_232928-k8mqpclg</code>"
      ],
      "text/plain": [
       "<IPython.core.display.HTML object>"
      ]
     },
     "metadata": {},
     "output_type": "display_data"
    },
    {
     "data": {
      "text/html": [
       "Syncing run <strong><a href='https://wandb.ai/pnikitits_1/flappy-bird-mc/runs/k8mqpclg' target=\"_blank\">fast-sweep-18</a></strong> to <a href='https://wandb.ai/pnikitits_1/flappy-bird-mc' target=\"_blank\">Weights & Biases</a> (<a href='https://wandb.me/run' target=\"_blank\">docs</a>)<br/>Sweep page: <a href='https://wandb.ai/pnikitits_1/flappy-bird-mc/sweeps/d5pj203r' target=\"_blank\">https://wandb.ai/pnikitits_1/flappy-bird-mc/sweeps/d5pj203r</a>"
      ],
      "text/plain": [
       "<IPython.core.display.HTML object>"
      ]
     },
     "metadata": {},
     "output_type": "display_data"
    },
    {
     "data": {
      "text/html": [
       " View project at <a href='https://wandb.ai/pnikitits_1/flappy-bird-mc' target=\"_blank\">https://wandb.ai/pnikitits_1/flappy-bird-mc</a>"
      ],
      "text/plain": [
       "<IPython.core.display.HTML object>"
      ]
     },
     "metadata": {},
     "output_type": "display_data"
    },
    {
     "data": {
      "text/html": [
       " View sweep at <a href='https://wandb.ai/pnikitits_1/flappy-bird-mc/sweeps/d5pj203r' target=\"_blank\">https://wandb.ai/pnikitits_1/flappy-bird-mc/sweeps/d5pj203r</a>"
      ],
      "text/plain": [
       "<IPython.core.display.HTML object>"
      ]
     },
     "metadata": {},
     "output_type": "display_data"
    },
    {
     "data": {
      "text/html": [
       " View run at <a href='https://wandb.ai/pnikitits_1/flappy-bird-mc/runs/k8mqpclg' target=\"_blank\">https://wandb.ai/pnikitits_1/flappy-bird-mc/runs/k8mqpclg</a>"
      ],
      "text/plain": [
       "<IPython.core.display.HTML object>"
      ]
     },
     "metadata": {},
     "output_type": "display_data"
    },
    {
     "data": {
      "text/html": [
       "<style>\n",
       "    table.wandb td:nth-child(1) { padding: 0 10px; text-align: left ; width: auto;} td:nth-child(2) {text-align: left ; width: 100%}\n",
       "    .wandb-row { display: flex; flex-direction: row; flex-wrap: wrap; justify-content: flex-start; width: 100% }\n",
       "    .wandb-col { display: flex; flex-direction: column; flex-basis: 100%; flex: 1; padding: 10px; }\n",
       "    </style>\n",
       "<div class=\"wandb-row\"><div class=\"wandb-col\"><h3>Run history:</h3><br/><table class=\"wandb\"><tr><td>reward</td><td>▁</td></tr></table><br/></div><div class=\"wandb-col\"><h3>Run summary:</h3><br/><table class=\"wandb\"><tr><td>reward</td><td>11.993</td></tr></table><br/></div></div>"
      ],
      "text/plain": [
       "<IPython.core.display.HTML object>"
      ]
     },
     "metadata": {},
     "output_type": "display_data"
    },
    {
     "data": {
      "text/html": [
       " View run <strong style=\"color:#cdcd00\">fast-sweep-18</strong> at: <a href='https://wandb.ai/pnikitits_1/flappy-bird-mc/runs/k8mqpclg' target=\"_blank\">https://wandb.ai/pnikitits_1/flappy-bird-mc/runs/k8mqpclg</a><br/> View project at: <a href='https://wandb.ai/pnikitits_1/flappy-bird-mc' target=\"_blank\">https://wandb.ai/pnikitits_1/flappy-bird-mc</a><br/>Synced 5 W&B file(s), 0 media file(s), 0 artifact file(s) and 0 other file(s)"
      ],
      "text/plain": [
       "<IPython.core.display.HTML object>"
      ]
     },
     "metadata": {},
     "output_type": "display_data"
    },
    {
     "data": {
      "text/html": [
       "Find logs at: <code>./wandb/run-20240412_232928-k8mqpclg/logs</code>"
      ],
      "text/plain": [
       "<IPython.core.display.HTML object>"
      ]
     },
     "metadata": {},
     "output_type": "display_data"
    },
    {
     "name": "stderr",
     "output_type": "stream",
     "text": [
      "\u001b[34m\u001b[1mwandb\u001b[0m: Agent Starting Run: i9aj7b5o with config:\n",
      "\u001b[34m\u001b[1mwandb\u001b[0m: \tdecay_rate: 0.9\n",
      "\u001b[34m\u001b[1mwandb\u001b[0m: \tepsilon: 0.9\n",
      "\u001b[34m\u001b[1mwandb\u001b[0m: \tgamma: 0.9\n",
      "\u001b[34m\u001b[1mwandb\u001b[0m: \tmin_epsilon: 1e-05\n",
      "Failed to detect the name of this notebook, you can set it manually with the WANDB_NOTEBOOK_NAME environment variable to enable code saving.\n"
     ]
    },
    {
     "data": {
      "text/html": [
       "Tracking run with wandb version 0.16.6"
      ],
      "text/plain": [
       "<IPython.core.display.HTML object>"
      ]
     },
     "metadata": {},
     "output_type": "display_data"
    },
    {
     "data": {
      "text/html": [
       "Run data is saved locally in <code>/Users/pierre/Documents/GitHub/RL_Assignment/wandb/run-20240412_232939-i9aj7b5o</code>"
      ],
      "text/plain": [
       "<IPython.core.display.HTML object>"
      ]
     },
     "metadata": {},
     "output_type": "display_data"
    },
    {
     "data": {
      "text/html": [
       "Syncing run <strong><a href='https://wandb.ai/pnikitits_1/flappy-bird-mc/runs/i9aj7b5o' target=\"_blank\">lilac-sweep-19</a></strong> to <a href='https://wandb.ai/pnikitits_1/flappy-bird-mc' target=\"_blank\">Weights & Biases</a> (<a href='https://wandb.me/run' target=\"_blank\">docs</a>)<br/>Sweep page: <a href='https://wandb.ai/pnikitits_1/flappy-bird-mc/sweeps/d5pj203r' target=\"_blank\">https://wandb.ai/pnikitits_1/flappy-bird-mc/sweeps/d5pj203r</a>"
      ],
      "text/plain": [
       "<IPython.core.display.HTML object>"
      ]
     },
     "metadata": {},
     "output_type": "display_data"
    },
    {
     "data": {
      "text/html": [
       " View project at <a href='https://wandb.ai/pnikitits_1/flappy-bird-mc' target=\"_blank\">https://wandb.ai/pnikitits_1/flappy-bird-mc</a>"
      ],
      "text/plain": [
       "<IPython.core.display.HTML object>"
      ]
     },
     "metadata": {},
     "output_type": "display_data"
    },
    {
     "data": {
      "text/html": [
       " View sweep at <a href='https://wandb.ai/pnikitits_1/flappy-bird-mc/sweeps/d5pj203r' target=\"_blank\">https://wandb.ai/pnikitits_1/flappy-bird-mc/sweeps/d5pj203r</a>"
      ],
      "text/plain": [
       "<IPython.core.display.HTML object>"
      ]
     },
     "metadata": {},
     "output_type": "display_data"
    },
    {
     "data": {
      "text/html": [
       " View run at <a href='https://wandb.ai/pnikitits_1/flappy-bird-mc/runs/i9aj7b5o' target=\"_blank\">https://wandb.ai/pnikitits_1/flappy-bird-mc/runs/i9aj7b5o</a>"
      ],
      "text/plain": [
       "<IPython.core.display.HTML object>"
      ]
     },
     "metadata": {},
     "output_type": "display_data"
    },
    {
     "data": {
      "text/html": [
       "<style>\n",
       "    table.wandb td:nth-child(1) { padding: 0 10px; text-align: left ; width: auto;} td:nth-child(2) {text-align: left ; width: 100%}\n",
       "    .wandb-row { display: flex; flex-direction: row; flex-wrap: wrap; justify-content: flex-start; width: 100% }\n",
       "    .wandb-col { display: flex; flex-direction: column; flex-basis: 100%; flex: 1; padding: 10px; }\n",
       "    </style>\n",
       "<div class=\"wandb-row\"><div class=\"wandb-col\"><h3>Run history:</h3><br/><table class=\"wandb\"><tr><td>reward</td><td>▁</td></tr></table><br/></div><div class=\"wandb-col\"><h3>Run summary:</h3><br/><table class=\"wandb\"><tr><td>reward</td><td>8.402</td></tr></table><br/></div></div>"
      ],
      "text/plain": [
       "<IPython.core.display.HTML object>"
      ]
     },
     "metadata": {},
     "output_type": "display_data"
    },
    {
     "data": {
      "text/html": [
       " View run <strong style=\"color:#cdcd00\">lilac-sweep-19</strong> at: <a href='https://wandb.ai/pnikitits_1/flappy-bird-mc/runs/i9aj7b5o' target=\"_blank\">https://wandb.ai/pnikitits_1/flappy-bird-mc/runs/i9aj7b5o</a><br/> View project at: <a href='https://wandb.ai/pnikitits_1/flappy-bird-mc' target=\"_blank\">https://wandb.ai/pnikitits_1/flappy-bird-mc</a><br/>Synced 5 W&B file(s), 0 media file(s), 0 artifact file(s) and 0 other file(s)"
      ],
      "text/plain": [
       "<IPython.core.display.HTML object>"
      ]
     },
     "metadata": {},
     "output_type": "display_data"
    },
    {
     "data": {
      "text/html": [
       "Find logs at: <code>./wandb/run-20240412_232939-i9aj7b5o/logs</code>"
      ],
      "text/plain": [
       "<IPython.core.display.HTML object>"
      ]
     },
     "metadata": {},
     "output_type": "display_data"
    },
    {
     "name": "stderr",
     "output_type": "stream",
     "text": [
      "\u001b[34m\u001b[1mwandb\u001b[0m: Agent Starting Run: 9571nv4u with config:\n",
      "\u001b[34m\u001b[1mwandb\u001b[0m: \tdecay_rate: 0.9\n",
      "\u001b[34m\u001b[1mwandb\u001b[0m: \tepsilon: 0.9\n",
      "\u001b[34m\u001b[1mwandb\u001b[0m: \tgamma: 0.9\n",
      "\u001b[34m\u001b[1mwandb\u001b[0m: \tmin_epsilon: 1e-05\n",
      "Failed to detect the name of this notebook, you can set it manually with the WANDB_NOTEBOOK_NAME environment variable to enable code saving.\n"
     ]
    },
    {
     "data": {
      "text/html": [
       "Tracking run with wandb version 0.16.6"
      ],
      "text/plain": [
       "<IPython.core.display.HTML object>"
      ]
     },
     "metadata": {},
     "output_type": "display_data"
    },
    {
     "data": {
      "text/html": [
       "Run data is saved locally in <code>/Users/pierre/Documents/GitHub/RL_Assignment/wandb/run-20240412_232950-9571nv4u</code>"
      ],
      "text/plain": [
       "<IPython.core.display.HTML object>"
      ]
     },
     "metadata": {},
     "output_type": "display_data"
    },
    {
     "data": {
      "text/html": [
       "Syncing run <strong><a href='https://wandb.ai/pnikitits_1/flappy-bird-mc/runs/9571nv4u' target=\"_blank\">sparkling-sweep-20</a></strong> to <a href='https://wandb.ai/pnikitits_1/flappy-bird-mc' target=\"_blank\">Weights & Biases</a> (<a href='https://wandb.me/run' target=\"_blank\">docs</a>)<br/>Sweep page: <a href='https://wandb.ai/pnikitits_1/flappy-bird-mc/sweeps/d5pj203r' target=\"_blank\">https://wandb.ai/pnikitits_1/flappy-bird-mc/sweeps/d5pj203r</a>"
      ],
      "text/plain": [
       "<IPython.core.display.HTML object>"
      ]
     },
     "metadata": {},
     "output_type": "display_data"
    },
    {
     "data": {
      "text/html": [
       " View project at <a href='https://wandb.ai/pnikitits_1/flappy-bird-mc' target=\"_blank\">https://wandb.ai/pnikitits_1/flappy-bird-mc</a>"
      ],
      "text/plain": [
       "<IPython.core.display.HTML object>"
      ]
     },
     "metadata": {},
     "output_type": "display_data"
    },
    {
     "data": {
      "text/html": [
       " View sweep at <a href='https://wandb.ai/pnikitits_1/flappy-bird-mc/sweeps/d5pj203r' target=\"_blank\">https://wandb.ai/pnikitits_1/flappy-bird-mc/sweeps/d5pj203r</a>"
      ],
      "text/plain": [
       "<IPython.core.display.HTML object>"
      ]
     },
     "metadata": {},
     "output_type": "display_data"
    },
    {
     "data": {
      "text/html": [
       " View run at <a href='https://wandb.ai/pnikitits_1/flappy-bird-mc/runs/9571nv4u' target=\"_blank\">https://wandb.ai/pnikitits_1/flappy-bird-mc/runs/9571nv4u</a>"
      ],
      "text/plain": [
       "<IPython.core.display.HTML object>"
      ]
     },
     "metadata": {},
     "output_type": "display_data"
    },
    {
     "data": {
      "text/html": [
       "<style>\n",
       "    table.wandb td:nth-child(1) { padding: 0 10px; text-align: left ; width: auto;} td:nth-child(2) {text-align: left ; width: 100%}\n",
       "    .wandb-row { display: flex; flex-direction: row; flex-wrap: wrap; justify-content: flex-start; width: 100% }\n",
       "    .wandb-col { display: flex; flex-direction: column; flex-basis: 100%; flex: 1; padding: 10px; }\n",
       "    </style>\n",
       "<div class=\"wandb-row\"><div class=\"wandb-col\"><h3>Run history:</h3><br/><table class=\"wandb\"><tr><td>reward</td><td>▁</td></tr></table><br/></div><div class=\"wandb-col\"><h3>Run summary:</h3><br/><table class=\"wandb\"><tr><td>reward</td><td>5.253</td></tr></table><br/></div></div>"
      ],
      "text/plain": [
       "<IPython.core.display.HTML object>"
      ]
     },
     "metadata": {},
     "output_type": "display_data"
    },
    {
     "data": {
      "text/html": [
       " View run <strong style=\"color:#cdcd00\">sparkling-sweep-20</strong> at: <a href='https://wandb.ai/pnikitits_1/flappy-bird-mc/runs/9571nv4u' target=\"_blank\">https://wandb.ai/pnikitits_1/flappy-bird-mc/runs/9571nv4u</a><br/> View project at: <a href='https://wandb.ai/pnikitits_1/flappy-bird-mc' target=\"_blank\">https://wandb.ai/pnikitits_1/flappy-bird-mc</a><br/>Synced 5 W&B file(s), 0 media file(s), 0 artifact file(s) and 0 other file(s)"
      ],
      "text/plain": [
       "<IPython.core.display.HTML object>"
      ]
     },
     "metadata": {},
     "output_type": "display_data"
    },
    {
     "data": {
      "text/html": [
       "Find logs at: <code>./wandb/run-20240412_232950-9571nv4u/logs</code>"
      ],
      "text/plain": [
       "<IPython.core.display.HTML object>"
      ]
     },
     "metadata": {},
     "output_type": "display_data"
    },
    {
     "name": "stderr",
     "output_type": "stream",
     "text": [
      "\u001b[34m\u001b[1mwandb\u001b[0m: Sorting runs by -summary_metrics.reward\n"
     ]
    },
    {
     "name": "stdout",
     "output_type": "stream",
     "text": [
      "Best config: {'gamma': 0.9, 'epsilon': 0.9, 'decay_rate': 0.9, 'min_epsilon': 1e-05}\n"
     ]
    }
   ],
   "source": [
    "# setup setting for wandb bayesian optimisation\n",
    "sweep_config = {\n",
    "    'method': 'bayes',\n",
    "    'metric': {\n",
    "        'name': 'reward',\n",
    "        'goal': 'maximize'\n",
    "    },\n",
    "    'parameters': {\n",
    "        'gamma': {\n",
    "            'values': [0.1 , 0.5 , 0.9]\n",
    "        },\n",
    "        'epsilon': {\n",
    "            'values': [0.1 , 0.5 , 0.9]\n",
    "        },\n",
    "        'decay_rate': {\n",
    "            'values': [0.1 , 0.5 , 0.9]\n",
    "        },\n",
    "        'min_epsilon': {\n",
    "            'values': [0.00001 , 0.0001 , 0.001]\n",
    "        }\n",
    "    }\n",
    "}\n",
    "\n",
    "sweep_id = wandb.sweep(sweep_config , project=\"flappy-bird-mc\")\n",
    "\n",
    "def train_agent():\n",
    "    with wandb.init() as run:\n",
    "        config = wandb.config\n",
    "        env = gym.make('TextFlappyBird-v0' , height=15 , width=20 , pipe_gap=4)\n",
    "        agent = EpsilonSoftMC(env.observation_space,\n",
    "                              env.action_space,\n",
    "                              gamma       = config.gamma,\n",
    "                              epsilon     = config.epsilon,\n",
    "                              decay_rate  = config.decay_rate,\n",
    "                              min_epsilon = config.min_epsilon)\n",
    "        \n",
    "        _ , rewards , _ = train(env , agent , 1000)\n",
    "        env.close()\n",
    "        wandb.log({'reward': np.mean(rewards)})\n",
    "        return np.mean(rewards)\n",
    "    \n",
    "# set to true to run the sweep (takes a long time)\n",
    "if True:\n",
    "    wandb.agent(sweep_id , train_agent , count=20)\n",
    "\n",
    "\n",
    "    # get the results of the sweep\n",
    "    sweep_results = wandb.Api().sweep(sweep_id)\n",
    "    best_run = sweep_results.best_run()\n",
    "    best_config = best_run.config\n",
    "\n",
    "    print(f\"Best config: {best_config}\")"
   ]
  },
  {
   "cell_type": "markdown",
   "metadata": {},
   "source": [
    "<div class=\"alert alert-block alert-info\">\n",
    "<b>Part 2: Sarsa Agent</b>\n",
    "\n",
    "Sarsa($\\lambda$) with binary features and linear function approximation\n",
    "\n",
    "</div>"
   ]
  },
  {
   "cell_type": "markdown",
   "metadata": {},
   "source": [
    "Model definition"
   ]
  },
  {
   "cell_type": "code",
   "execution_count": 8,
   "metadata": {},
   "outputs": [],
   "source": [
    "class SarsaLambdaAgent:\n",
    "    def __init__(self , action_space , agent_settings):\n",
    "        self.action_space = action_space\n",
    "\n",
    "        self.alpha = agent_settings[\"alpha\"]\n",
    "        self.gamma = agent_settings[\"gamma\"]\n",
    "        self.lam = agent_settings[\"lam\"]\n",
    "        self.epsilon = agent_settings[\"epsilon\"]\n",
    "        self.epsilon_decay = agent_settings[\"epsilon_decay\"]\n",
    "        self.epsilon_min = agent_settings[\"epsilon_min\"]\n",
    "\n",
    "        self.Q = {} # q values\n",
    "        self.E = {} # eligibility traces\n",
    "\n",
    "    def choose_action(self , state):\n",
    "        # epsilon greedy\n",
    "        if np.random.uniform(0 , 1) < self.epsilon:\n",
    "            return self.action_space.sample()\n",
    "        else:\n",
    "            q_values = [self.get_Q(state , a) for a in range(self.action_space.n)]\n",
    "            return np.argmax(q_values)\n",
    "\n",
    "    def get_Q(self , state , action):\n",
    "        # return 0 if we haven't seen this state-action pair before\n",
    "        return self.Q.get((state , action) , 0.0)\n",
    "\n",
    "    def update(self , state , action , reward , next_state , next_action , done):\n",
    "        sa_pair = (state , action)\n",
    "\n",
    "        q_current = self.get_Q(state , action)\n",
    "        q_next = self.get_Q(next_state , next_action) if not done else 0\n",
    "\n",
    "        delta = reward + self.gamma * q_next - q_current\n",
    "\n",
    "        self.E[sa_pair] = self.E.get(sa_pair , 0.0) + 1\n",
    "\n",
    "        for sa in self.E:\n",
    "            self.Q[sa] = self.Q.get(sa , 0.0) + self.alpha * delta * self.E[sa]\n",
    "            self.E[sa] *= self.gamma * self.lam\n",
    "\n",
    "        self.epsilon = max(self.epsilon * self.epsilon_decay , self.epsilon_min)\n",
    "\n",
    "\n",
    "\n",
    "\n",
    "    def plot_state_values(self):\n",
    "        grid_width = 15\n",
    "        grid_height = 20\n",
    "        V = np.zeros((grid_height , grid_width))\n",
    "\n",
    "        for state in self.Q:\n",
    "            x , y = state[0]\n",
    "            action_values = [self.get_Q((x , y) , a) for a in range(self.action_space.n)]\n",
    "            V[x , y] = np.max(action_values)\n",
    "\n",
    "        fig , ax = plt.subplots(figsize=(10 , 8))\n",
    "        cax = ax.matshow(V, cmap=plt.cm.coolwarm)\n",
    "        fig.colorbar(cax)\n",
    "        plt.title(\"State-Value Function $V(s)$\")\n",
    "        plt.xlabel('x')\n",
    "        plt.ylabel('y')\n",
    "        plt.show()"
   ]
  },
  {
   "cell_type": "markdown",
   "metadata": {},
   "source": [
    "Train loop"
   ]
  },
  {
   "cell_type": "code",
   "execution_count": 9,
   "metadata": {},
   "outputs": [],
   "source": [
    "def train_sarsa(env , agent , episodes):\n",
    "\n",
    "    rewards = []\n",
    "    log_epsilons = []\n",
    "\n",
    "    for _ in tqdm(range(episodes)):\n",
    "        state = env.reset()[0]\n",
    "        action = agent.choose_action(state)\n",
    "        done = False\n",
    "\n",
    "        total_reward = 0\n",
    "\n",
    "        while not done:\n",
    "            next_state , reward , done , _ , _ = env.step(action)\n",
    "            next_action = agent.choose_action(next_state)\n",
    "            agent.update(state , action , reward , next_state , next_action , done)\n",
    "            state , action = next_state , next_action\n",
    "            total_reward += reward\n",
    "\n",
    "        rewards.append(total_reward)\n",
    "        log_epsilons.append(agent.epsilon)\n",
    "\n",
    "    env.close()\n",
    "    return agent , rewards , log_epsilons"
   ]
  },
  {
   "cell_type": "code",
   "execution_count": 10,
   "metadata": {},
   "outputs": [
    {
     "name": "stderr",
     "output_type": "stream",
     "text": [
      "100%|██████████| 4000/4000 [00:30<00:00, 130.90it/s] \n"
     ]
    }
   ],
   "source": [
    "env = gym.make('TextFlappyBird-v0' , height=15 , width=20 , pipe_gap=4)\n",
    "\n",
    "SarsaSettings = {\n",
    "    \"alpha\": 0.12,\n",
    "    \"gamma\": 0.9999,\n",
    "    \"lam\": 0.9,\n",
    "    \"epsilon\": 0.1,\n",
    "    \"epsilon_decay\": 0.99999,\n",
    "    \"epsilon_min\": 0.0001\n",
    "}\n",
    "\n",
    "agent = SarsaLambdaAgent(env.action_space , SarsaSettings)\n",
    "\n",
    "episodes = 4000\n",
    "trained_agent , rewards , log_epsilons = train_sarsa(env , agent , episodes)"
   ]
  },
  {
   "cell_type": "code",
   "execution_count": 11,
   "metadata": {},
   "outputs": [
    {
     "data": {
      "image/png": "[encoded data removed]",
      "text/plain": [
       "<Figure size 640x480 with 1 Axes>"
      ]
     },
     "metadata": {},
     "output_type": "display_data"
    }
   ],
   "source": [
    "# plot the rewards\n",
    "plt.plot(rewards)\n",
    "plt.xlabel(\"Episode\")\n",
    "plt.ylabel(\"Total Reward\")\n",
    "plt.title(\"Total Reward per Episode\")\n",
    "plt.show()"
   ]
  },
  {
   "cell_type": "code",
   "execution_count": 12,
   "metadata": {},
   "outputs": [
    {
     "data": {
      "image/png": "[encoded data removed]",
      "text/plain": [
       "<Figure size 640x480 with 1 Axes>"
      ]
     },
     "metadata": {},
     "output_type": "display_data"
    }
   ],
   "source": [
    "# plot the epsilon decay\n",
    "plt.plot(log_epsilons)\n",
    "plt.xlabel(\"Episode\")\n",
    "plt.ylabel(\"Epsilon\")\n",
    "plt.title(\"Epsilon vs Episode\")\n",
    "plt.show()"
   ]
  },
  {
   "cell_type": "markdown",
   "metadata": {},
   "source": [
    "State value function"
   ]
  },
  {
   "cell_type": "code",
   "execution_count": 13,
   "metadata": {},
   "outputs": [
    {
     "data": {
      "image/png": "[encoded data removed]",
      "text/plain": [
       "<Figure size 1000x800 with 2 Axes>"
      ]
     },
     "metadata": {},
     "output_type": "display_data"
    }
   ],
   "source": [
    "trained_agent.plot_state_values()"
   ]
  },
  {
   "cell_type": "markdown",
   "metadata": {},
   "source": [
    "Hyper parameter search"
   ]
  },
  {
   "cell_type": "code",
   "execution_count": 14,
   "metadata": {},
   "outputs": [
    {
     "name": "stdout",
     "output_type": "stream",
     "text": [
      "Create sweep with ID: 4zn6ispr\n",
      "Sweep URL: https://wandb.ai/pnikitits_1/flappy-bird-sarsa/sweeps/4zn6ispr\n"
     ]
    },
    {
     "name": "stderr",
     "output_type": "stream",
     "text": [
      "\u001b[34m\u001b[1mwandb\u001b[0m: Agent Starting Run: f3df4hgl with config:\n",
      "\u001b[34m\u001b[1mwandb\u001b[0m: \talpha: 0.1\n",
      "\u001b[34m\u001b[1mwandb\u001b[0m: \tepsilon: 0.9\n",
      "\u001b[34m\u001b[1mwandb\u001b[0m: \tepsilon_decay: 0.5\n",
      "\u001b[34m\u001b[1mwandb\u001b[0m: \tepsilon_min: 0.0001\n",
      "\u001b[34m\u001b[1mwandb\u001b[0m: \tgamma: 0.1\n",
      "\u001b[34m\u001b[1mwandb\u001b[0m: \tlam: 0.1\n",
      "Failed to detect the name of this notebook, you can set it manually with the WANDB_NOTEBOOK_NAME environment variable to enable code saving.\n"
     ]
    },
    {
     "data": {
      "text/html": [
       "Tracking run with wandb version 0.16.6"
      ],
      "text/plain": [
       "<IPython.core.display.HTML object>"
      ]
     },
     "metadata": {},
     "output_type": "display_data"
    },
    {
     "data": {
      "text/html": [
       "Run data is saved locally in <code>/Users/pierre/Documents/GitHub/RL_Assignment/wandb/run-20240412_233031-f3df4hgl</code>"
      ],
      "text/plain": [
       "<IPython.core.display.HTML object>"
      ]
     },
     "metadata": {},
     "output_type": "display_data"
    },
    {
     "data": {
      "text/html": [
       "Syncing run <strong><a href='https://wandb.ai/pnikitits_1/flappy-bird-sarsa/runs/f3df4hgl' target=\"_blank\">deft-sweep-1</a></strong> to <a href='https://wandb.ai/pnikitits_1/flappy-bird-sarsa' target=\"_blank\">Weights & Biases</a> (<a href='https://wandb.me/run' target=\"_blank\">docs</a>)<br/>Sweep page: <a href='https://wandb.ai/pnikitits_1/flappy-bird-sarsa/sweeps/4zn6ispr' target=\"_blank\">https://wandb.ai/pnikitits_1/flappy-bird-sarsa/sweeps/4zn6ispr</a>"
      ],
      "text/plain": [
       "<IPython.core.display.HTML object>"
      ]
     },
     "metadata": {},
     "output_type": "display_data"
    },
    {
     "data": {
      "text/html": [
       " View project at <a href='https://wandb.ai/pnikitits_1/flappy-bird-sarsa' target=\"_blank\">https://wandb.ai/pnikitits_1/flappy-bird-sarsa</a>"
      ],
      "text/plain": [
       "<IPython.core.display.HTML object>"
      ]
     },
     "metadata": {},
     "output_type": "display_data"
    },
    {
     "data": {
      "text/html": [
       " View sweep at <a href='https://wandb.ai/pnikitits_1/flappy-bird-sarsa/sweeps/4zn6ispr' target=\"_blank\">https://wandb.ai/pnikitits_1/flappy-bird-sarsa/sweeps/4zn6ispr</a>"
      ],
      "text/plain": [
       "<IPython.core.display.HTML object>"
      ]
     },
     "metadata": {},
     "output_type": "display_data"
    },
    {
     "data": {
      "text/html": [
       " View run at <a href='https://wandb.ai/pnikitits_1/flappy-bird-sarsa/runs/f3df4hgl' target=\"_blank\">https://wandb.ai/pnikitits_1/flappy-bird-sarsa/runs/f3df4hgl</a>"
      ],
      "text/plain": [
       "<IPython.core.display.HTML object>"
      ]
     },
     "metadata": {},
     "output_type": "display_data"
    },
    {
     "name": "stderr",
     "output_type": "stream",
     "text": [
      "100%|██████████| 1000/1000 [00:00<00:00, 5856.79it/s]\n"
     ]
    },
    {
     "data": {
      "text/html": [
       "<style>\n",
       "    table.wandb td:nth-child(1) { padding: 0 10px; text-align: left ; width: auto;} td:nth-child(2) {text-align: left ; width: 100%}\n",
       "    .wandb-row { display: flex; flex-direction: row; flex-wrap: wrap; justify-content: flex-start; width: 100% }\n",
       "    .wandb-col { display: flex; flex-direction: column; flex-basis: 100%; flex: 1; padding: 10px; }\n",
       "    </style>\n",
       "<div class=\"wandb-row\"><div class=\"wandb-col\"><h3>Run history:</h3><br/><table class=\"wandb\"><tr><td>reward</td><td>▁</td></tr></table><br/></div><div class=\"wandb-col\"><h3>Run summary:</h3><br/><table class=\"wandb\"><tr><td>reward</td><td>4.212</td></tr></table><br/></div></div>"
      ],
      "text/plain": [
       "<IPython.core.display.HTML object>"
      ]
     },
     "metadata": {},
     "output_type": "display_data"
    },
    {
     "data": {
      "text/html": [
       " View run <strong style=\"color:#cdcd00\">deft-sweep-1</strong> at: <a href='https://wandb.ai/pnikitits_1/flappy-bird-sarsa/runs/f3df4hgl' target=\"_blank\">https://wandb.ai/pnikitits_1/flappy-bird-sarsa/runs/f3df4hgl</a><br/> View project at: <a href='https://wandb.ai/pnikitits_1/flappy-bird-sarsa' target=\"_blank\">https://wandb.ai/pnikitits_1/flappy-bird-sarsa</a><br/>Synced 6 W&B file(s), 0 media file(s), 0 artifact file(s) and 0 other file(s)"
      ],
      "text/plain": [
       "<IPython.core.display.HTML object>"
      ]
     },
     "metadata": {},
     "output_type": "display_data"
    },
    {
     "data": {
      "text/html": [
       "Find logs at: <code>./wandb/run-20240412_233031-f3df4hgl/logs</code>"
      ],
      "text/plain": [
       "<IPython.core.display.HTML object>"
      ]
     },
     "metadata": {},
     "output_type": "display_data"
    },
    {
     "name": "stderr",
     "output_type": "stream",
     "text": [
      "\u001b[34m\u001b[1mwandb\u001b[0m: Agent Starting Run: w3keuf1v with config:\n",
      "\u001b[34m\u001b[1mwandb\u001b[0m: \talpha: 0.9\n",
      "\u001b[34m\u001b[1mwandb\u001b[0m: \tepsilon: 0.9\n",
      "\u001b[34m\u001b[1mwandb\u001b[0m: \tepsilon_decay: 0.1\n",
      "\u001b[34m\u001b[1mwandb\u001b[0m: \tepsilon_min: 1e-05\n",
      "\u001b[34m\u001b[1mwandb\u001b[0m: \tgamma: 0.9\n",
      "\u001b[34m\u001b[1mwandb\u001b[0m: \tlam: 0.1\n",
      "Failed to detect the name of this notebook, you can set it manually with the WANDB_NOTEBOOK_NAME environment variable to enable code saving.\n"
     ]
    },
    {
     "data": {
      "text/html": [
       "Tracking run with wandb version 0.16.6"
      ],
      "text/plain": [
       "<IPython.core.display.HTML object>"
      ]
     },
     "metadata": {},
     "output_type": "display_data"
    },
    {
     "data": {
      "text/html": [
       "Run data is saved locally in <code>/Users/pierre/Documents/GitHub/RL_Assignment/wandb/run-20240412_233047-w3keuf1v</code>"
      ],
      "text/plain": [
       "<IPython.core.display.HTML object>"
      ]
     },
     "metadata": {},
     "output_type": "display_data"
    },
    {
     "data": {
      "text/html": [
       "Syncing run <strong><a href='https://wandb.ai/pnikitits_1/flappy-bird-sarsa/runs/w3keuf1v' target=\"_blank\">devout-sweep-2</a></strong> to <a href='https://wandb.ai/pnikitits_1/flappy-bird-sarsa' target=\"_blank\">Weights & Biases</a> (<a href='https://wandb.me/run' target=\"_blank\">docs</a>)<br/>Sweep page: <a href='https://wandb.ai/pnikitits_1/flappy-bird-sarsa/sweeps/4zn6ispr' target=\"_blank\">https://wandb.ai/pnikitits_1/flappy-bird-sarsa/sweeps/4zn6ispr</a>"
      ],
      "text/plain": [
       "<IPython.core.display.HTML object>"
      ]
     },
     "metadata": {},
     "output_type": "display_data"
    },
    {
     "data": {
      "text/html": [
       " View project at <a href='https://wandb.ai/pnikitits_1/flappy-bird-sarsa' target=\"_blank\">https://wandb.ai/pnikitits_1/flappy-bird-sarsa</a>"
      ],
      "text/plain": [
       "<IPython.core.display.HTML object>"
      ]
     },
     "metadata": {},
     "output_type": "display_data"
    },
    {
     "data": {
      "text/html": [
       " View sweep at <a href='https://wandb.ai/pnikitits_1/flappy-bird-sarsa/sweeps/4zn6ispr' target=\"_blank\">https://wandb.ai/pnikitits_1/flappy-bird-sarsa/sweeps/4zn6ispr</a>"
      ],
      "text/plain": [
       "<IPython.core.display.HTML object>"
      ]
     },
     "metadata": {},
     "output_type": "display_data"
    },
    {
     "data": {
      "text/html": [
       " View run at <a href='https://wandb.ai/pnikitits_1/flappy-bird-sarsa/runs/w3keuf1v' target=\"_blank\">https://wandb.ai/pnikitits_1/flappy-bird-sarsa/runs/w3keuf1v</a>"
      ],
      "text/plain": [
       "<IPython.core.display.HTML object>"
      ]
     },
     "metadata": {},
     "output_type": "display_data"
    },
    {
     "name": "stderr",
     "output_type": "stream",
     "text": [
      "100%|██████████| 1000/1000 [00:00<00:00, 5907.86it/s]\n"
     ]
    },
    {
     "data": {
      "text/html": [
       "<style>\n",
       "    table.wandb td:nth-child(1) { padding: 0 10px; text-align: left ; width: auto;} td:nth-child(2) {text-align: left ; width: 100%}\n",
       "    .wandb-row { display: flex; flex-direction: row; flex-wrap: wrap; justify-content: flex-start; width: 100% }\n",
       "    .wandb-col { display: flex; flex-direction: column; flex-basis: 100%; flex: 1; padding: 10px; }\n",
       "    </style>\n",
       "<div class=\"wandb-row\"><div class=\"wandb-col\"><h3>Run history:</h3><br/><table class=\"wandb\"><tr><td>reward</td><td>▁</td></tr></table><br/></div><div class=\"wandb-col\"><h3>Run summary:</h3><br/><table class=\"wandb\"><tr><td>reward</td><td>4.0</td></tr></table><br/></div></div>"
      ],
      "text/plain": [
       "<IPython.core.display.HTML object>"
      ]
     },
     "metadata": {},
     "output_type": "display_data"
    },
    {
     "data": {
      "text/html": [
       " View run <strong style=\"color:#cdcd00\">devout-sweep-2</strong> at: <a href='https://wandb.ai/pnikitits_1/flappy-bird-sarsa/runs/w3keuf1v' target=\"_blank\">https://wandb.ai/pnikitits_1/flappy-bird-sarsa/runs/w3keuf1v</a><br/> View project at: <a href='https://wandb.ai/pnikitits_1/flappy-bird-sarsa' target=\"_blank\">https://wandb.ai/pnikitits_1/flappy-bird-sarsa</a><br/>Synced 6 W&B file(s), 0 media file(s), 0 artifact file(s) and 0 other file(s)"
      ],
      "text/plain": [
       "<IPython.core.display.HTML object>"
      ]
     },
     "metadata": {},
     "output_type": "display_data"
    },
    {
     "data": {
      "text/html": [
       "Find logs at: <code>./wandb/run-20240412_233047-w3keuf1v/logs</code>"
      ],
      "text/plain": [
       "<IPython.core.display.HTML object>"
      ]
     },
     "metadata": {},
     "output_type": "display_data"
    },
    {
     "name": "stderr",
     "output_type": "stream",
     "text": [
      "\u001b[34m\u001b[1mwandb\u001b[0m: Sweep Agent: Waiting for job.\n",
      "\u001b[34m\u001b[1mwandb\u001b[0m: Job received.\n",
      "\u001b[34m\u001b[1mwandb\u001b[0m: Agent Starting Run: jy0vsst3 with config:\n",
      "\u001b[34m\u001b[1mwandb\u001b[0m: \talpha: 0.9\n",
      "\u001b[34m\u001b[1mwandb\u001b[0m: \tepsilon: 0.1\n",
      "\u001b[34m\u001b[1mwandb\u001b[0m: \tepsilon_decay: 0.1\n",
      "\u001b[34m\u001b[1mwandb\u001b[0m: \tepsilon_min: 0.001\n",
      "\u001b[34m\u001b[1mwandb\u001b[0m: \tgamma: 0.5\n",
      "\u001b[34m\u001b[1mwandb\u001b[0m: \tlam: 0.1\n",
      "Failed to detect the name of this notebook, you can set it manually with the WANDB_NOTEBOOK_NAME environment variable to enable code saving.\n"
     ]
    },
    {
     "data": {
      "text/html": [
       "Tracking run with wandb version 0.16.6"
      ],
      "text/plain": [
       "<IPython.core.display.HTML object>"
      ]
     },
     "metadata": {},
     "output_type": "display_data"
    },
    {
     "data": {
      "text/html": [
       "Run data is saved locally in <code>/Users/pierre/Documents/GitHub/RL_Assignment/wandb/run-20240412_233107-jy0vsst3</code>"
      ],
      "text/plain": [
       "<IPython.core.display.HTML object>"
      ]
     },
     "metadata": {},
     "output_type": "display_data"
    },
    {
     "data": {
      "text/html": [
       "Syncing run <strong><a href='https://wandb.ai/pnikitits_1/flappy-bird-sarsa/runs/jy0vsst3' target=\"_blank\">apricot-sweep-3</a></strong> to <a href='https://wandb.ai/pnikitits_1/flappy-bird-sarsa' target=\"_blank\">Weights & Biases</a> (<a href='https://wandb.me/run' target=\"_blank\">docs</a>)<br/>Sweep page: <a href='https://wandb.ai/pnikitits_1/flappy-bird-sarsa/sweeps/4zn6ispr' target=\"_blank\">https://wandb.ai/pnikitits_1/flappy-bird-sarsa/sweeps/4zn6ispr</a>"
      ],
      "text/plain": [
       "<IPython.core.display.HTML object>"
      ]
     },
     "metadata": {},
     "output_type": "display_data"
    },
    {
     "data": {
      "text/html": [
       " View project at <a href='https://wandb.ai/pnikitits_1/flappy-bird-sarsa' target=\"_blank\">https://wandb.ai/pnikitits_1/flappy-bird-sarsa</a>"
      ],
      "text/plain": [
       "<IPython.core.display.HTML object>"
      ]
     },
     "metadata": {},
     "output_type": "display_data"
    },
    {
     "data": {
      "text/html": [
       " View sweep at <a href='https://wandb.ai/pnikitits_1/flappy-bird-sarsa/sweeps/4zn6ispr' target=\"_blank\">https://wandb.ai/pnikitits_1/flappy-bird-sarsa/sweeps/4zn6ispr</a>"
      ],
      "text/plain": [
       "<IPython.core.display.HTML object>"
      ]
     },
     "metadata": {},
     "output_type": "display_data"
    },
    {
     "data": {
      "text/html": [
       " View run at <a href='https://wandb.ai/pnikitits_1/flappy-bird-sarsa/runs/jy0vsst3' target=\"_blank\">https://wandb.ai/pnikitits_1/flappy-bird-sarsa/runs/jy0vsst3</a>"
      ],
      "text/plain": [
       "<IPython.core.display.HTML object>"
      ]
     },
     "metadata": {},
     "output_type": "display_data"
    },
    {
     "name": "stderr",
     "output_type": "stream",
     "text": [
      "100%|██████████| 1000/1000 [00:00<00:00, 5858.71it/s]\n"
     ]
    },
    {
     "data": {
      "text/html": [
       "<style>\n",
       "    table.wandb td:nth-child(1) { padding: 0 10px; text-align: left ; width: auto;} td:nth-child(2) {text-align: left ; width: 100%}\n",
       "    .wandb-row { display: flex; flex-direction: row; flex-wrap: wrap; justify-content: flex-start; width: 100% }\n",
       "    .wandb-col { display: flex; flex-direction: column; flex-basis: 100%; flex: 1; padding: 10px; }\n",
       "    </style>\n",
       "<div class=\"wandb-row\"><div class=\"wandb-col\"><h3>Run history:</h3><br/><table class=\"wandb\"><tr><td>reward</td><td>▁</td></tr></table><br/></div><div class=\"wandb-col\"><h3>Run summary:</h3><br/><table class=\"wandb\"><tr><td>reward</td><td>4.088</td></tr></table><br/></div></div>"
      ],
      "text/plain": [
       "<IPython.core.display.HTML object>"
      ]
     },
     "metadata": {},
     "output_type": "display_data"
    },
    {
     "data": {
      "text/html": [
       " View run <strong style=\"color:#cdcd00\">apricot-sweep-3</strong> at: <a href='https://wandb.ai/pnikitits_1/flappy-bird-sarsa/runs/jy0vsst3' target=\"_blank\">https://wandb.ai/pnikitits_1/flappy-bird-sarsa/runs/jy0vsst3</a><br/> View project at: <a href='https://wandb.ai/pnikitits_1/flappy-bird-sarsa' target=\"_blank\">https://wandb.ai/pnikitits_1/flappy-bird-sarsa</a><br/>Synced 6 W&B file(s), 0 media file(s), 0 artifact file(s) and 0 other file(s)"
      ],
      "text/plain": [
       "<IPython.core.display.HTML object>"
      ]
     },
     "metadata": {},
     "output_type": "display_data"
    },
    {
     "data": {
      "text/html": [
       "Find logs at: <code>./wandb/run-20240412_233107-jy0vsst3/logs</code>"
      ],
      "text/plain": [
       "<IPython.core.display.HTML object>"
      ]
     },
     "metadata": {},
     "output_type": "display_data"
    },
    {
     "name": "stderr",
     "output_type": "stream",
     "text": [
      "\u001b[34m\u001b[1mwandb\u001b[0m: Agent Starting Run: rxau5y08 with config:\n",
      "\u001b[34m\u001b[1mwandb\u001b[0m: \talpha: 0.5\n",
      "\u001b[34m\u001b[1mwandb\u001b[0m: \tepsilon: 0.9\n",
      "\u001b[34m\u001b[1mwandb\u001b[0m: \tepsilon_decay: 0.1\n",
      "\u001b[34m\u001b[1mwandb\u001b[0m: \tepsilon_min: 0.0001\n",
      "\u001b[34m\u001b[1mwandb\u001b[0m: \tgamma: 0.1\n",
      "\u001b[34m\u001b[1mwandb\u001b[0m: \tlam: 0.1\n",
      "Failed to detect the name of this notebook, you can set it manually with the WANDB_NOTEBOOK_NAME environment variable to enable code saving.\n"
     ]
    },
    {
     "data": {
      "text/html": [
       "Tracking run with wandb version 0.16.6"
      ],
      "text/plain": [
       "<IPython.core.display.HTML object>"
      ]
     },
     "metadata": {},
     "output_type": "display_data"
    },
    {
     "data": {
      "text/html": [
       "Run data is saved locally in <code>/Users/pierre/Documents/GitHub/RL_Assignment/wandb/run-20240412_233119-rxau5y08</code>"
      ],
      "text/plain": [
       "<IPython.core.display.HTML object>"
      ]
     },
     "metadata": {},
     "output_type": "display_data"
    },
    {
     "data": {
      "text/html": [
       "Syncing run <strong><a href='https://wandb.ai/pnikitits_1/flappy-bird-sarsa/runs/rxau5y08' target=\"_blank\">graceful-sweep-4</a></strong> to <a href='https://wandb.ai/pnikitits_1/flappy-bird-sarsa' target=\"_blank\">Weights & Biases</a> (<a href='https://wandb.me/run' target=\"_blank\">docs</a>)<br/>Sweep page: <a href='https://wandb.ai/pnikitits_1/flappy-bird-sarsa/sweeps/4zn6ispr' target=\"_blank\">https://wandb.ai/pnikitits_1/flappy-bird-sarsa/sweeps/4zn6ispr</a>"
      ],
      "text/plain": [
       "<IPython.core.display.HTML object>"
      ]
     },
     "metadata": {},
     "output_type": "display_data"
    },
    {
     "data": {
      "text/html": [
       " View project at <a href='https://wandb.ai/pnikitits_1/flappy-bird-sarsa' target=\"_blank\">https://wandb.ai/pnikitits_1/flappy-bird-sarsa</a>"
      ],
      "text/plain": [
       "<IPython.core.display.HTML object>"
      ]
     },
     "metadata": {},
     "output_type": "display_data"
    },
    {
     "data": {
      "text/html": [
       " View sweep at <a href='https://wandb.ai/pnikitits_1/flappy-bird-sarsa/sweeps/4zn6ispr' target=\"_blank\">https://wandb.ai/pnikitits_1/flappy-bird-sarsa/sweeps/4zn6ispr</a>"
      ],
      "text/plain": [
       "<IPython.core.display.HTML object>"
      ]
     },
     "metadata": {},
     "output_type": "display_data"
    },
    {
     "data": {
      "text/html": [
       " View run at <a href='https://wandb.ai/pnikitits_1/flappy-bird-sarsa/runs/rxau5y08' target=\"_blank\">https://wandb.ai/pnikitits_1/flappy-bird-sarsa/runs/rxau5y08</a>"
      ],
      "text/plain": [
       "<IPython.core.display.HTML object>"
      ]
     },
     "metadata": {},
     "output_type": "display_data"
    },
    {
     "name": "stderr",
     "output_type": "stream",
     "text": [
      "100%|██████████| 1000/1000 [00:00<00:00, 6412.60it/s]\n"
     ]
    },
    {
     "data": {
      "text/html": [
       "<style>\n",
       "    table.wandb td:nth-child(1) { padding: 0 10px; text-align: left ; width: auto;} td:nth-child(2) {text-align: left ; width: 100%}\n",
       "    .wandb-row { display: flex; flex-direction: row; flex-wrap: wrap; justify-content: flex-start; width: 100% }\n",
       "    .wandb-col { display: flex; flex-direction: column; flex-basis: 100%; flex: 1; padding: 10px; }\n",
       "    </style>\n",
       "<div class=\"wandb-row\"><div class=\"wandb-col\"><h3>Run history:</h3><br/><table class=\"wandb\"><tr><td>reward</td><td>▁</td></tr></table><br/></div><div class=\"wandb-col\"><h3>Run summary:</h3><br/><table class=\"wandb\"><tr><td>reward</td><td>4.0</td></tr></table><br/></div></div>"
      ],
      "text/plain": [
       "<IPython.core.display.HTML object>"
      ]
     },
     "metadata": {},
     "output_type": "display_data"
    },
    {
     "data": {
      "text/html": [
       " View run <strong style=\"color:#cdcd00\">graceful-sweep-4</strong> at: <a href='https://wandb.ai/pnikitits_1/flappy-bird-sarsa/runs/rxau5y08' target=\"_blank\">https://wandb.ai/pnikitits_1/flappy-bird-sarsa/runs/rxau5y08</a><br/> View project at: <a href='https://wandb.ai/pnikitits_1/flappy-bird-sarsa' target=\"_blank\">https://wandb.ai/pnikitits_1/flappy-bird-sarsa</a><br/>Synced 6 W&B file(s), 0 media file(s), 0 artifact file(s) and 0 other file(s)"
      ],
      "text/plain": [
       "<IPython.core.display.HTML object>"
      ]
     },
     "metadata": {},
     "output_type": "display_data"
    },
    {
     "data": {
      "text/html": [
       "Find logs at: <code>./wandb/run-20240412_233119-rxau5y08/logs</code>"
      ],
      "text/plain": [
       "<IPython.core.display.HTML object>"
      ]
     },
     "metadata": {},
     "output_type": "display_data"
    },
    {
     "name": "stderr",
     "output_type": "stream",
     "text": [
      "\u001b[34m\u001b[1mwandb\u001b[0m: Agent Starting Run: b4sm9lye with config:\n",
      "\u001b[34m\u001b[1mwandb\u001b[0m: \talpha: 0.1\n",
      "\u001b[34m\u001b[1mwandb\u001b[0m: \tepsilon: 0.1\n",
      "\u001b[34m\u001b[1mwandb\u001b[0m: \tepsilon_decay: 0.9\n",
      "\u001b[34m\u001b[1mwandb\u001b[0m: \tepsilon_min: 1e-05\n",
      "\u001b[34m\u001b[1mwandb\u001b[0m: \tgamma: 0.1\n",
      "\u001b[34m\u001b[1mwandb\u001b[0m: \tlam: 0.1\n",
      "Failed to detect the name of this notebook, you can set it manually with the WANDB_NOTEBOOK_NAME environment variable to enable code saving.\n"
     ]
    },
    {
     "data": {
      "text/html": [
       "Tracking run with wandb version 0.16.6"
      ],
      "text/plain": [
       "<IPython.core.display.HTML object>"
      ]
     },
     "metadata": {},
     "output_type": "display_data"
    },
    {
     "data": {
      "text/html": [
       "Run data is saved locally in <code>/Users/pierre/Documents/GitHub/RL_Assignment/wandb/run-20240412_233134-b4sm9lye</code>"
      ],
      "text/plain": [
       "<IPython.core.display.HTML object>"
      ]
     },
     "metadata": {},
     "output_type": "display_data"
    },
    {
     "data": {
      "text/html": [
       "Syncing run <strong><a href='https://wandb.ai/pnikitits_1/flappy-bird-sarsa/runs/b4sm9lye' target=\"_blank\">snowy-sweep-5</a></strong> to <a href='https://wandb.ai/pnikitits_1/flappy-bird-sarsa' target=\"_blank\">Weights & Biases</a> (<a href='https://wandb.me/run' target=\"_blank\">docs</a>)<br/>Sweep page: <a href='https://wandb.ai/pnikitits_1/flappy-bird-sarsa/sweeps/4zn6ispr' target=\"_blank\">https://wandb.ai/pnikitits_1/flappy-bird-sarsa/sweeps/4zn6ispr</a>"
      ],
      "text/plain": [
       "<IPython.core.display.HTML object>"
      ]
     },
     "metadata": {},
     "output_type": "display_data"
    },
    {
     "data": {
      "text/html": [
       " View project at <a href='https://wandb.ai/pnikitits_1/flappy-bird-sarsa' target=\"_blank\">https://wandb.ai/pnikitits_1/flappy-bird-sarsa</a>"
      ],
      "text/plain": [
       "<IPython.core.display.HTML object>"
      ]
     },
     "metadata": {},
     "output_type": "display_data"
    },
    {
     "data": {
      "text/html": [
       " View sweep at <a href='https://wandb.ai/pnikitits_1/flappy-bird-sarsa/sweeps/4zn6ispr' target=\"_blank\">https://wandb.ai/pnikitits_1/flappy-bird-sarsa/sweeps/4zn6ispr</a>"
      ],
      "text/plain": [
       "<IPython.core.display.HTML object>"
      ]
     },
     "metadata": {},
     "output_type": "display_data"
    },
    {
     "data": {
      "text/html": [
       " View run at <a href='https://wandb.ai/pnikitits_1/flappy-bird-sarsa/runs/b4sm9lye' target=\"_blank\">https://wandb.ai/pnikitits_1/flappy-bird-sarsa/runs/b4sm9lye</a>"
      ],
      "text/plain": [
       "<IPython.core.display.HTML object>"
      ]
     },
     "metadata": {},
     "output_type": "display_data"
    },
    {
     "name": "stderr",
     "output_type": "stream",
     "text": [
      "100%|██████████| 1000/1000 [00:00<00:00, 6201.86it/s]\n"
     ]
    },
    {
     "data": {
      "text/html": [
       "<style>\n",
       "    table.wandb td:nth-child(1) { padding: 0 10px; text-align: left ; width: auto;} td:nth-child(2) {text-align: left ; width: 100%}\n",
       "    .wandb-row { display: flex; flex-direction: row; flex-wrap: wrap; justify-content: flex-start; width: 100% }\n",
       "    .wandb-col { display: flex; flex-direction: column; flex-basis: 100%; flex: 1; padding: 10px; }\n",
       "    </style>\n",
       "<div class=\"wandb-row\"><div class=\"wandb-col\"><h3>Run history:</h3><br/><table class=\"wandb\"><tr><td>reward</td><td>▁</td></tr></table><br/></div><div class=\"wandb-col\"><h3>Run summary:</h3><br/><table class=\"wandb\"><tr><td>reward</td><td>4.0</td></tr></table><br/></div></div>"
      ],
      "text/plain": [
       "<IPython.core.display.HTML object>"
      ]
     },
     "metadata": {},
     "output_type": "display_data"
    },
    {
     "data": {
      "text/html": [
       " View run <strong style=\"color:#cdcd00\">snowy-sweep-5</strong> at: <a href='https://wandb.ai/pnikitits_1/flappy-bird-sarsa/runs/b4sm9lye' target=\"_blank\">https://wandb.ai/pnikitits_1/flappy-bird-sarsa/runs/b4sm9lye</a><br/> View project at: <a href='https://wandb.ai/pnikitits_1/flappy-bird-sarsa' target=\"_blank\">https://wandb.ai/pnikitits_1/flappy-bird-sarsa</a><br/>Synced 6 W&B file(s), 0 media file(s), 0 artifact file(s) and 0 other file(s)"
      ],
      "text/plain": [
       "<IPython.core.display.HTML object>"
      ]
     },
     "metadata": {},
     "output_type": "display_data"
    },
    {
     "data": {
      "text/html": [
       "Find logs at: <code>./wandb/run-20240412_233134-b4sm9lye/logs</code>"
      ],
      "text/plain": [
       "<IPython.core.display.HTML object>"
      ]
     },
     "metadata": {},
     "output_type": "display_data"
    },
    {
     "name": "stderr",
     "output_type": "stream",
     "text": [
      "\u001b[34m\u001b[1mwandb\u001b[0m: Agent Starting Run: mloqgj4x with config:\n",
      "\u001b[34m\u001b[1mwandb\u001b[0m: \talpha: 0.9\n",
      "\u001b[34m\u001b[1mwandb\u001b[0m: \tepsilon: 0.5\n",
      "\u001b[34m\u001b[1mwandb\u001b[0m: \tepsilon_decay: 0.1\n",
      "\u001b[34m\u001b[1mwandb\u001b[0m: \tepsilon_min: 1e-05\n",
      "\u001b[34m\u001b[1mwandb\u001b[0m: \tgamma: 0.9\n",
      "\u001b[34m\u001b[1mwandb\u001b[0m: \tlam: 0.9\n",
      "Failed to detect the name of this notebook, you can set it manually with the WANDB_NOTEBOOK_NAME environment variable to enable code saving.\n"
     ]
    },
    {
     "data": {
      "text/html": [
       "Tracking run with wandb version 0.16.6"
      ],
      "text/plain": [
       "<IPython.core.display.HTML object>"
      ]
     },
     "metadata": {},
     "output_type": "display_data"
    },
    {
     "data": {
      "text/html": [
       "Run data is saved locally in <code>/Users/pierre/Documents/GitHub/RL_Assignment/wandb/run-20240412_233145-mloqgj4x</code>"
      ],
      "text/plain": [
       "<IPython.core.display.HTML object>"
      ]
     },
     "metadata": {},
     "output_type": "display_data"
    },
    {
     "data": {
      "text/html": [
       "Syncing run <strong><a href='https://wandb.ai/pnikitits_1/flappy-bird-sarsa/runs/mloqgj4x' target=\"_blank\">astral-sweep-6</a></strong> to <a href='https://wandb.ai/pnikitits_1/flappy-bird-sarsa' target=\"_blank\">Weights & Biases</a> (<a href='https://wandb.me/run' target=\"_blank\">docs</a>)<br/>Sweep page: <a href='https://wandb.ai/pnikitits_1/flappy-bird-sarsa/sweeps/4zn6ispr' target=\"_blank\">https://wandb.ai/pnikitits_1/flappy-bird-sarsa/sweeps/4zn6ispr</a>"
      ],
      "text/plain": [
       "<IPython.core.display.HTML object>"
      ]
     },
     "metadata": {},
     "output_type": "display_data"
    },
    {
     "data": {
      "text/html": [
       " View project at <a href='https://wandb.ai/pnikitits_1/flappy-bird-sarsa' target=\"_blank\">https://wandb.ai/pnikitits_1/flappy-bird-sarsa</a>"
      ],
      "text/plain": [
       "<IPython.core.display.HTML object>"
      ]
     },
     "metadata": {},
     "output_type": "display_data"
    },
    {
     "data": {
      "text/html": [
       " View sweep at <a href='https://wandb.ai/pnikitits_1/flappy-bird-sarsa/sweeps/4zn6ispr' target=\"_blank\">https://wandb.ai/pnikitits_1/flappy-bird-sarsa/sweeps/4zn6ispr</a>"
      ],
      "text/plain": [
       "<IPython.core.display.HTML object>"
      ]
     },
     "metadata": {},
     "output_type": "display_data"
    },
    {
     "data": {
      "text/html": [
       " View run at <a href='https://wandb.ai/pnikitits_1/flappy-bird-sarsa/runs/mloqgj4x' target=\"_blank\">https://wandb.ai/pnikitits_1/flappy-bird-sarsa/runs/mloqgj4x</a>"
      ],
      "text/plain": [
       "<IPython.core.display.HTML object>"
      ]
     },
     "metadata": {},
     "output_type": "display_data"
    },
    {
     "name": "stderr",
     "output_type": "stream",
     "text": [
      "100%|██████████| 1000/1000 [00:00<00:00, 4594.37it/s]\n"
     ]
    },
    {
     "data": {
      "text/html": [
       "<style>\n",
       "    table.wandb td:nth-child(1) { padding: 0 10px; text-align: left ; width: auto;} td:nth-child(2) {text-align: left ; width: 100%}\n",
       "    .wandb-row { display: flex; flex-direction: row; flex-wrap: wrap; justify-content: flex-start; width: 100% }\n",
       "    .wandb-col { display: flex; flex-direction: column; flex-basis: 100%; flex: 1; padding: 10px; }\n",
       "    </style>\n",
       "<div class=\"wandb-row\"><div class=\"wandb-col\"><h3>Run history:</h3><br/><table class=\"wandb\"><tr><td>reward</td><td>▁</td></tr></table><br/></div><div class=\"wandb-col\"><h3>Run summary:</h3><br/><table class=\"wandb\"><tr><td>reward</td><td>5.425</td></tr></table><br/></div></div>"
      ],
      "text/plain": [
       "<IPython.core.display.HTML object>"
      ]
     },
     "metadata": {},
     "output_type": "display_data"
    },
    {
     "data": {
      "text/html": [
       " View run <strong style=\"color:#cdcd00\">astral-sweep-6</strong> at: <a href='https://wandb.ai/pnikitits_1/flappy-bird-sarsa/runs/mloqgj4x' target=\"_blank\">https://wandb.ai/pnikitits_1/flappy-bird-sarsa/runs/mloqgj4x</a><br/> View project at: <a href='https://wandb.ai/pnikitits_1/flappy-bird-sarsa' target=\"_blank\">https://wandb.ai/pnikitits_1/flappy-bird-sarsa</a><br/>Synced 6 W&B file(s), 0 media file(s), 0 artifact file(s) and 0 other file(s)"
      ],
      "text/plain": [
       "<IPython.core.display.HTML object>"
      ]
     },
     "metadata": {},
     "output_type": "display_data"
    },
    {
     "data": {
      "text/html": [
       "Find logs at: <code>./wandb/run-20240412_233145-mloqgj4x/logs</code>"
      ],
      "text/plain": [
       "<IPython.core.display.HTML object>"
      ]
     },
     "metadata": {},
     "output_type": "display_data"
    },
    {
     "name": "stderr",
     "output_type": "stream",
     "text": [
      "\u001b[34m\u001b[1mwandb\u001b[0m: Agent Starting Run: gqwraclx with config:\n",
      "\u001b[34m\u001b[1mwandb\u001b[0m: \talpha: 0.9\n",
      "\u001b[34m\u001b[1mwandb\u001b[0m: \tepsilon: 0.5\n",
      "\u001b[34m\u001b[1mwandb\u001b[0m: \tepsilon_decay: 0.1\n",
      "\u001b[34m\u001b[1mwandb\u001b[0m: \tepsilon_min: 1e-05\n",
      "\u001b[34m\u001b[1mwandb\u001b[0m: \tgamma: 0.9\n",
      "\u001b[34m\u001b[1mwandb\u001b[0m: \tlam: 0.9\n",
      "Failed to detect the name of this notebook, you can set it manually with the WANDB_NOTEBOOK_NAME environment variable to enable code saving.\n"
     ]
    },
    {
     "data": {
      "text/html": [
       "Tracking run with wandb version 0.16.6"
      ],
      "text/plain": [
       "<IPython.core.display.HTML object>"
      ]
     },
     "metadata": {},
     "output_type": "display_data"
    },
    {
     "data": {
      "text/html": [
       "Run data is saved locally in <code>/Users/pierre/Documents/GitHub/RL_Assignment/wandb/run-20240412_233201-gqwraclx</code>"
      ],
      "text/plain": [
       "<IPython.core.display.HTML object>"
      ]
     },
     "metadata": {},
     "output_type": "display_data"
    },
    {
     "data": {
      "text/html": [
       "Syncing run <strong><a href='https://wandb.ai/pnikitits_1/flappy-bird-sarsa/runs/gqwraclx' target=\"_blank\">celestial-sweep-7</a></strong> to <a href='https://wandb.ai/pnikitits_1/flappy-bird-sarsa' target=\"_blank\">Weights & Biases</a> (<a href='https://wandb.me/run' target=\"_blank\">docs</a>)<br/>Sweep page: <a href='https://wandb.ai/pnikitits_1/flappy-bird-sarsa/sweeps/4zn6ispr' target=\"_blank\">https://wandb.ai/pnikitits_1/flappy-bird-sarsa/sweeps/4zn6ispr</a>"
      ],
      "text/plain": [
       "<IPython.core.display.HTML object>"
      ]
     },
     "metadata": {},
     "output_type": "display_data"
    },
    {
     "data": {
      "text/html": [
       " View project at <a href='https://wandb.ai/pnikitits_1/flappy-bird-sarsa' target=\"_blank\">https://wandb.ai/pnikitits_1/flappy-bird-sarsa</a>"
      ],
      "text/plain": [
       "<IPython.core.display.HTML object>"
      ]
     },
     "metadata": {},
     "output_type": "display_data"
    },
    {
     "data": {
      "text/html": [
       " View sweep at <a href='https://wandb.ai/pnikitits_1/flappy-bird-sarsa/sweeps/4zn6ispr' target=\"_blank\">https://wandb.ai/pnikitits_1/flappy-bird-sarsa/sweeps/4zn6ispr</a>"
      ],
      "text/plain": [
       "<IPython.core.display.HTML object>"
      ]
     },
     "metadata": {},
     "output_type": "display_data"
    },
    {
     "data": {
      "text/html": [
       " View run at <a href='https://wandb.ai/pnikitits_1/flappy-bird-sarsa/runs/gqwraclx' target=\"_blank\">https://wandb.ai/pnikitits_1/flappy-bird-sarsa/runs/gqwraclx</a>"
      ],
      "text/plain": [
       "<IPython.core.display.HTML object>"
      ]
     },
     "metadata": {},
     "output_type": "display_data"
    },
    {
     "name": "stderr",
     "output_type": "stream",
     "text": [
      "100%|██████████| 1000/1000 [00:00<00:00, 5747.76it/s]\n"
     ]
    },
    {
     "data": {
      "text/html": [
       "<style>\n",
       "    table.wandb td:nth-child(1) { padding: 0 10px; text-align: left ; width: auto;} td:nth-child(2) {text-align: left ; width: 100%}\n",
       "    .wandb-row { display: flex; flex-direction: row; flex-wrap: wrap; justify-content: flex-start; width: 100% }\n",
       "    .wandb-col { display: flex; flex-direction: column; flex-basis: 100%; flex: 1; padding: 10px; }\n",
       "    </style>\n",
       "<div class=\"wandb-row\"><div class=\"wandb-col\"><h3>Run history:</h3><br/><table class=\"wandb\"><tr><td>reward</td><td>▁</td></tr></table><br/></div><div class=\"wandb-col\"><h3>Run summary:</h3><br/><table class=\"wandb\"><tr><td>reward</td><td>4.515</td></tr></table><br/></div></div>"
      ],
      "text/plain": [
       "<IPython.core.display.HTML object>"
      ]
     },
     "metadata": {},
     "output_type": "display_data"
    },
    {
     "data": {
      "text/html": [
       " View run <strong style=\"color:#cdcd00\">celestial-sweep-7</strong> at: <a href='https://wandb.ai/pnikitits_1/flappy-bird-sarsa/runs/gqwraclx' target=\"_blank\">https://wandb.ai/pnikitits_1/flappy-bird-sarsa/runs/gqwraclx</a><br/> View project at: <a href='https://wandb.ai/pnikitits_1/flappy-bird-sarsa' target=\"_blank\">https://wandb.ai/pnikitits_1/flappy-bird-sarsa</a><br/>Synced 6 W&B file(s), 0 media file(s), 0 artifact file(s) and 0 other file(s)"
      ],
      "text/plain": [
       "<IPython.core.display.HTML object>"
      ]
     },
     "metadata": {},
     "output_type": "display_data"
    },
    {
     "data": {
      "text/html": [
       "Find logs at: <code>./wandb/run-20240412_233201-gqwraclx/logs</code>"
      ],
      "text/plain": [
       "<IPython.core.display.HTML object>"
      ]
     },
     "metadata": {},
     "output_type": "display_data"
    },
    {
     "name": "stderr",
     "output_type": "stream",
     "text": [
      "\u001b[34m\u001b[1mwandb\u001b[0m: Agent Starting Run: jt1bd2t5 with config:\n",
      "\u001b[34m\u001b[1mwandb\u001b[0m: \talpha: 0.9\n",
      "\u001b[34m\u001b[1mwandb\u001b[0m: \tepsilon: 0.9\n",
      "\u001b[34m\u001b[1mwandb\u001b[0m: \tepsilon_decay: 0.5\n",
      "\u001b[34m\u001b[1mwandb\u001b[0m: \tepsilon_min: 1e-05\n",
      "\u001b[34m\u001b[1mwandb\u001b[0m: \tgamma: 0.9\n",
      "\u001b[34m\u001b[1mwandb\u001b[0m: \tlam: 0.9\n",
      "Failed to detect the name of this notebook, you can set it manually with the WANDB_NOTEBOOK_NAME environment variable to enable code saving.\n"
     ]
    },
    {
     "data": {
      "text/html": [
       "Tracking run with wandb version 0.16.6"
      ],
      "text/plain": [
       "<IPython.core.display.HTML object>"
      ]
     },
     "metadata": {},
     "output_type": "display_data"
    },
    {
     "data": {
      "text/html": [
       "Run data is saved locally in <code>/Users/pierre/Documents/GitHub/RL_Assignment/wandb/run-20240412_233217-jt1bd2t5</code>"
      ],
      "text/plain": [
       "<IPython.core.display.HTML object>"
      ]
     },
     "metadata": {},
     "output_type": "display_data"
    },
    {
     "data": {
      "text/html": [
       "Syncing run <strong><a href='https://wandb.ai/pnikitits_1/flappy-bird-sarsa/runs/jt1bd2t5' target=\"_blank\">clean-sweep-8</a></strong> to <a href='https://wandb.ai/pnikitits_1/flappy-bird-sarsa' target=\"_blank\">Weights & Biases</a> (<a href='https://wandb.me/run' target=\"_blank\">docs</a>)<br/>Sweep page: <a href='https://wandb.ai/pnikitits_1/flappy-bird-sarsa/sweeps/4zn6ispr' target=\"_blank\">https://wandb.ai/pnikitits_1/flappy-bird-sarsa/sweeps/4zn6ispr</a>"
      ],
      "text/plain": [
       "<IPython.core.display.HTML object>"
      ]
     },
     "metadata": {},
     "output_type": "display_data"
    },
    {
     "data": {
      "text/html": [
       " View project at <a href='https://wandb.ai/pnikitits_1/flappy-bird-sarsa' target=\"_blank\">https://wandb.ai/pnikitits_1/flappy-bird-sarsa</a>"
      ],
      "text/plain": [
       "<IPython.core.display.HTML object>"
      ]
     },
     "metadata": {},
     "output_type": "display_data"
    },
    {
     "data": {
      "text/html": [
       " View sweep at <a href='https://wandb.ai/pnikitits_1/flappy-bird-sarsa/sweeps/4zn6ispr' target=\"_blank\">https://wandb.ai/pnikitits_1/flappy-bird-sarsa/sweeps/4zn6ispr</a>"
      ],
      "text/plain": [
       "<IPython.core.display.HTML object>"
      ]
     },
     "metadata": {},
     "output_type": "display_data"
    },
    {
     "data": {
      "text/html": [
       " View run at <a href='https://wandb.ai/pnikitits_1/flappy-bird-sarsa/runs/jt1bd2t5' target=\"_blank\">https://wandb.ai/pnikitits_1/flappy-bird-sarsa/runs/jt1bd2t5</a>"
      ],
      "text/plain": [
       "<IPython.core.display.HTML object>"
      ]
     },
     "metadata": {},
     "output_type": "display_data"
    },
    {
     "name": "stderr",
     "output_type": "stream",
     "text": [
      "100%|██████████| 1000/1000 [00:00<00:00, 4723.75it/s]\n"
     ]
    },
    {
     "data": {
      "text/html": [
       "<style>\n",
       "    table.wandb td:nth-child(1) { padding: 0 10px; text-align: left ; width: auto;} td:nth-child(2) {text-align: left ; width: 100%}\n",
       "    .wandb-row { display: flex; flex-direction: row; flex-wrap: wrap; justify-content: flex-start; width: 100% }\n",
       "    .wandb-col { display: flex; flex-direction: column; flex-basis: 100%; flex: 1; padding: 10px; }\n",
       "    </style>\n",
       "<div class=\"wandb-row\"><div class=\"wandb-col\"><h3>Run history:</h3><br/><table class=\"wandb\"><tr><td>reward</td><td>▁</td></tr></table><br/></div><div class=\"wandb-col\"><h3>Run summary:</h3><br/><table class=\"wandb\"><tr><td>reward</td><td>5.306</td></tr></table><br/></div></div>"
      ],
      "text/plain": [
       "<IPython.core.display.HTML object>"
      ]
     },
     "metadata": {},
     "output_type": "display_data"
    },
    {
     "data": {
      "text/html": [
       " View run <strong style=\"color:#cdcd00\">clean-sweep-8</strong> at: <a href='https://wandb.ai/pnikitits_1/flappy-bird-sarsa/runs/jt1bd2t5' target=\"_blank\">https://wandb.ai/pnikitits_1/flappy-bird-sarsa/runs/jt1bd2t5</a><br/> View project at: <a href='https://wandb.ai/pnikitits_1/flappy-bird-sarsa' target=\"_blank\">https://wandb.ai/pnikitits_1/flappy-bird-sarsa</a><br/>Synced 6 W&B file(s), 0 media file(s), 0 artifact file(s) and 0 other file(s)"
      ],
      "text/plain": [
       "<IPython.core.display.HTML object>"
      ]
     },
     "metadata": {},
     "output_type": "display_data"
    },
    {
     "data": {
      "text/html": [
       "Find logs at: <code>./wandb/run-20240412_233217-jt1bd2t5/logs</code>"
      ],
      "text/plain": [
       "<IPython.core.display.HTML object>"
      ]
     },
     "metadata": {},
     "output_type": "display_data"
    },
    {
     "name": "stderr",
     "output_type": "stream",
     "text": [
      "\u001b[34m\u001b[1mwandb\u001b[0m: Sweep Agent: Waiting for job.\n",
      "\u001b[34m\u001b[1mwandb\u001b[0m: Job received.\n",
      "\u001b[34m\u001b[1mwandb\u001b[0m: Agent Starting Run: 7xbf2kun with config:\n",
      "\u001b[34m\u001b[1mwandb\u001b[0m: \talpha: 0.5\n",
      "\u001b[34m\u001b[1mwandb\u001b[0m: \tepsilon: 0.9\n",
      "\u001b[34m\u001b[1mwandb\u001b[0m: \tepsilon_decay: 0.9\n",
      "\u001b[34m\u001b[1mwandb\u001b[0m: \tepsilon_min: 0.0001\n",
      "\u001b[34m\u001b[1mwandb\u001b[0m: \tgamma: 0.9\n",
      "\u001b[34m\u001b[1mwandb\u001b[0m: \tlam: 0.9\n",
      "Failed to detect the name of this notebook, you can set it manually with the WANDB_NOTEBOOK_NAME environment variable to enable code saving.\n"
     ]
    },
    {
     "data": {
      "text/html": [
       "Tracking run with wandb version 0.16.6"
      ],
      "text/plain": [
       "<IPython.core.display.HTML object>"
      ]
     },
     "metadata": {},
     "output_type": "display_data"
    },
    {
     "data": {
      "text/html": [
       "Run data is saved locally in <code>/Users/pierre/Documents/GitHub/RL_Assignment/wandb/run-20240412_233237-7xbf2kun</code>"
      ],
      "text/plain": [
       "<IPython.core.display.HTML object>"
      ]
     },
     "metadata": {},
     "output_type": "display_data"
    },
    {
     "data": {
      "text/html": [
       "Syncing run <strong><a href='https://wandb.ai/pnikitits_1/flappy-bird-sarsa/runs/7xbf2kun' target=\"_blank\">stilted-sweep-9</a></strong> to <a href='https://wandb.ai/pnikitits_1/flappy-bird-sarsa' target=\"_blank\">Weights & Biases</a> (<a href='https://wandb.me/run' target=\"_blank\">docs</a>)<br/>Sweep page: <a href='https://wandb.ai/pnikitits_1/flappy-bird-sarsa/sweeps/4zn6ispr' target=\"_blank\">https://wandb.ai/pnikitits_1/flappy-bird-sarsa/sweeps/4zn6ispr</a>"
      ],
      "text/plain": [
       "<IPython.core.display.HTML object>"
      ]
     },
     "metadata": {},
     "output_type": "display_data"
    },
    {
     "data": {
      "text/html": [
       " View project at <a href='https://wandb.ai/pnikitits_1/flappy-bird-sarsa' target=\"_blank\">https://wandb.ai/pnikitits_1/flappy-bird-sarsa</a>"
      ],
      "text/plain": [
       "<IPython.core.display.HTML object>"
      ]
     },
     "metadata": {},
     "output_type": "display_data"
    },
    {
     "data": {
      "text/html": [
       " View sweep at <a href='https://wandb.ai/pnikitits_1/flappy-bird-sarsa/sweeps/4zn6ispr' target=\"_blank\">https://wandb.ai/pnikitits_1/flappy-bird-sarsa/sweeps/4zn6ispr</a>"
      ],
      "text/plain": [
       "<IPython.core.display.HTML object>"
      ]
     },
     "metadata": {},
     "output_type": "display_data"
    },
    {
     "data": {
      "text/html": [
       " View run at <a href='https://wandb.ai/pnikitits_1/flappy-bird-sarsa/runs/7xbf2kun' target=\"_blank\">https://wandb.ai/pnikitits_1/flappy-bird-sarsa/runs/7xbf2kun</a>"
      ],
      "text/plain": [
       "<IPython.core.display.HTML object>"
      ]
     },
     "metadata": {},
     "output_type": "display_data"
    },
    {
     "name": "stderr",
     "output_type": "stream",
     "text": [
      "100%|██████████| 1000/1000 [00:00<00:00, 5231.33it/s]\n"
     ]
    },
    {
     "data": {
      "text/html": [
       "<style>\n",
       "    table.wandb td:nth-child(1) { padding: 0 10px; text-align: left ; width: auto;} td:nth-child(2) {text-align: left ; width: 100%}\n",
       "    .wandb-row { display: flex; flex-direction: row; flex-wrap: wrap; justify-content: flex-start; width: 100% }\n",
       "    .wandb-col { display: flex; flex-direction: column; flex-basis: 100%; flex: 1; padding: 10px; }\n",
       "    </style>\n",
       "<div class=\"wandb-row\"><div class=\"wandb-col\"><h3>Run history:</h3><br/><table class=\"wandb\"><tr><td>reward</td><td>▁</td></tr></table><br/></div><div class=\"wandb-col\"><h3>Run summary:</h3><br/><table class=\"wandb\"><tr><td>reward</td><td>4.78</td></tr></table><br/></div></div>"
      ],
      "text/plain": [
       "<IPython.core.display.HTML object>"
      ]
     },
     "metadata": {},
     "output_type": "display_data"
    },
    {
     "data": {
      "text/html": [
       " View run <strong style=\"color:#cdcd00\">stilted-sweep-9</strong> at: <a href='https://wandb.ai/pnikitits_1/flappy-bird-sarsa/runs/7xbf2kun' target=\"_blank\">https://wandb.ai/pnikitits_1/flappy-bird-sarsa/runs/7xbf2kun</a><br/> View project at: <a href='https://wandb.ai/pnikitits_1/flappy-bird-sarsa' target=\"_blank\">https://wandb.ai/pnikitits_1/flappy-bird-sarsa</a><br/>Synced 6 W&B file(s), 0 media file(s), 0 artifact file(s) and 0 other file(s)"
      ],
      "text/plain": [
       "<IPython.core.display.HTML object>"
      ]
     },
     "metadata": {},
     "output_type": "display_data"
    },
    {
     "data": {
      "text/html": [
       "Find logs at: <code>./wandb/run-20240412_233237-7xbf2kun/logs</code>"
      ],
      "text/plain": [
       "<IPython.core.display.HTML object>"
      ]
     },
     "metadata": {},
     "output_type": "display_data"
    },
    {
     "name": "stderr",
     "output_type": "stream",
     "text": [
      "\u001b[34m\u001b[1mwandb\u001b[0m: Sweep Agent: Waiting for job.\n",
      "\u001b[34m\u001b[1mwandb\u001b[0m: Job received.\n",
      "\u001b[34m\u001b[1mwandb\u001b[0m: Agent Starting Run: pv5qnakk with config:\n",
      "\u001b[34m\u001b[1mwandb\u001b[0m: \talpha: 0.9\n",
      "\u001b[34m\u001b[1mwandb\u001b[0m: \tepsilon: 0.9\n",
      "\u001b[34m\u001b[1mwandb\u001b[0m: \tepsilon_decay: 0.9\n",
      "\u001b[34m\u001b[1mwandb\u001b[0m: \tepsilon_min: 1e-05\n",
      "\u001b[34m\u001b[1mwandb\u001b[0m: \tgamma: 0.9\n",
      "\u001b[34m\u001b[1mwandb\u001b[0m: \tlam: 0.9\n",
      "Failed to detect the name of this notebook, you can set it manually with the WANDB_NOTEBOOK_NAME environment variable to enable code saving.\n"
     ]
    },
    {
     "data": {
      "text/html": [
       "Tracking run with wandb version 0.16.6"
      ],
      "text/plain": [
       "<IPython.core.display.HTML object>"
      ]
     },
     "metadata": {},
     "output_type": "display_data"
    },
    {
     "data": {
      "text/html": [
       "Run data is saved locally in <code>/Users/pierre/Documents/GitHub/RL_Assignment/wandb/run-20240412_233258-pv5qnakk</code>"
      ],
      "text/plain": [
       "<IPython.core.display.HTML object>"
      ]
     },
     "metadata": {},
     "output_type": "display_data"
    },
    {
     "data": {
      "text/html": [
       "Syncing run <strong><a href='https://wandb.ai/pnikitits_1/flappy-bird-sarsa/runs/pv5qnakk' target=\"_blank\">peach-sweep-10</a></strong> to <a href='https://wandb.ai/pnikitits_1/flappy-bird-sarsa' target=\"_blank\">Weights & Biases</a> (<a href='https://wandb.me/run' target=\"_blank\">docs</a>)<br/>Sweep page: <a href='https://wandb.ai/pnikitits_1/flappy-bird-sarsa/sweeps/4zn6ispr' target=\"_blank\">https://wandb.ai/pnikitits_1/flappy-bird-sarsa/sweeps/4zn6ispr</a>"
      ],
      "text/plain": [
       "<IPython.core.display.HTML object>"
      ]
     },
     "metadata": {},
     "output_type": "display_data"
    },
    {
     "data": {
      "text/html": [
       " View project at <a href='https://wandb.ai/pnikitits_1/flappy-bird-sarsa' target=\"_blank\">https://wandb.ai/pnikitits_1/flappy-bird-sarsa</a>"
      ],
      "text/plain": [
       "<IPython.core.display.HTML object>"
      ]
     },
     "metadata": {},
     "output_type": "display_data"
    },
    {
     "data": {
      "text/html": [
       " View sweep at <a href='https://wandb.ai/pnikitits_1/flappy-bird-sarsa/sweeps/4zn6ispr' target=\"_blank\">https://wandb.ai/pnikitits_1/flappy-bird-sarsa/sweeps/4zn6ispr</a>"
      ],
      "text/plain": [
       "<IPython.core.display.HTML object>"
      ]
     },
     "metadata": {},
     "output_type": "display_data"
    },
    {
     "data": {
      "text/html": [
       " View run at <a href='https://wandb.ai/pnikitits_1/flappy-bird-sarsa/runs/pv5qnakk' target=\"_blank\">https://wandb.ai/pnikitits_1/flappy-bird-sarsa/runs/pv5qnakk</a>"
      ],
      "text/plain": [
       "<IPython.core.display.HTML object>"
      ]
     },
     "metadata": {},
     "output_type": "display_data"
    },
    {
     "name": "stderr",
     "output_type": "stream",
     "text": [
      "100%|██████████| 1000/1000 [00:00<00:00, 4805.62it/s]\n"
     ]
    },
    {
     "data": {
      "text/html": [
       "<style>\n",
       "    table.wandb td:nth-child(1) { padding: 0 10px; text-align: left ; width: auto;} td:nth-child(2) {text-align: left ; width: 100%}\n",
       "    .wandb-row { display: flex; flex-direction: row; flex-wrap: wrap; justify-content: flex-start; width: 100% }\n",
       "    .wandb-col { display: flex; flex-direction: column; flex-basis: 100%; flex: 1; padding: 10px; }\n",
       "    </style>\n",
       "<div class=\"wandb-row\"><div class=\"wandb-col\"><h3>Run history:</h3><br/><table class=\"wandb\"><tr><td>reward</td><td>▁</td></tr></table><br/></div><div class=\"wandb-col\"><h3>Run summary:</h3><br/><table class=\"wandb\"><tr><td>reward</td><td>4.565</td></tr></table><br/></div></div>"
      ],
      "text/plain": [
       "<IPython.core.display.HTML object>"
      ]
     },
     "metadata": {},
     "output_type": "display_data"
    },
    {
     "data": {
      "text/html": [
       " View run <strong style=\"color:#cdcd00\">peach-sweep-10</strong> at: <a href='https://wandb.ai/pnikitits_1/flappy-bird-sarsa/runs/pv5qnakk' target=\"_blank\">https://wandb.ai/pnikitits_1/flappy-bird-sarsa/runs/pv5qnakk</a><br/> View project at: <a href='https://wandb.ai/pnikitits_1/flappy-bird-sarsa' target=\"_blank\">https://wandb.ai/pnikitits_1/flappy-bird-sarsa</a><br/>Synced 6 W&B file(s), 0 media file(s), 0 artifact file(s) and 0 other file(s)"
      ],
      "text/plain": [
       "<IPython.core.display.HTML object>"
      ]
     },
     "metadata": {},
     "output_type": "display_data"
    },
    {
     "data": {
      "text/html": [
       "Find logs at: <code>./wandb/run-20240412_233258-pv5qnakk/logs</code>"
      ],
      "text/plain": [
       "<IPython.core.display.HTML object>"
      ]
     },
     "metadata": {},
     "output_type": "display_data"
    },
    {
     "name": "stderr",
     "output_type": "stream",
     "text": [
      "\u001b[34m\u001b[1mwandb\u001b[0m: Agent Starting Run: wgj6blvq with config:\n",
      "\u001b[34m\u001b[1mwandb\u001b[0m: \talpha: 0.9\n",
      "\u001b[34m\u001b[1mwandb\u001b[0m: \tepsilon: 0.9\n",
      "\u001b[34m\u001b[1mwandb\u001b[0m: \tepsilon_decay: 0.9\n",
      "\u001b[34m\u001b[1mwandb\u001b[0m: \tepsilon_min: 1e-05\n",
      "\u001b[34m\u001b[1mwandb\u001b[0m: \tgamma: 0.9\n",
      "\u001b[34m\u001b[1mwandb\u001b[0m: \tlam: 0.9\n",
      "Failed to detect the name of this notebook, you can set it manually with the WANDB_NOTEBOOK_NAME environment variable to enable code saving.\n"
     ]
    },
    {
     "data": {
      "text/html": [
       "Tracking run with wandb version 0.16.6"
      ],
      "text/plain": [
       "<IPython.core.display.HTML object>"
      ]
     },
     "metadata": {},
     "output_type": "display_data"
    },
    {
     "data": {
      "text/html": [
       "Run data is saved locally in <code>/Users/pierre/Documents/GitHub/RL_Assignment/wandb/run-20240412_233309-wgj6blvq</code>"
      ],
      "text/plain": [
       "<IPython.core.display.HTML object>"
      ]
     },
     "metadata": {},
     "output_type": "display_data"
    },
    {
     "data": {
      "text/html": [
       "Syncing run <strong><a href='https://wandb.ai/pnikitits_1/flappy-bird-sarsa/runs/wgj6blvq' target=\"_blank\">fallen-sweep-11</a></strong> to <a href='https://wandb.ai/pnikitits_1/flappy-bird-sarsa' target=\"_blank\">Weights & Biases</a> (<a href='https://wandb.me/run' target=\"_blank\">docs</a>)<br/>Sweep page: <a href='https://wandb.ai/pnikitits_1/flappy-bird-sarsa/sweeps/4zn6ispr' target=\"_blank\">https://wandb.ai/pnikitits_1/flappy-bird-sarsa/sweeps/4zn6ispr</a>"
      ],
      "text/plain": [
       "<IPython.core.display.HTML object>"
      ]
     },
     "metadata": {},
     "output_type": "display_data"
    },
    {
     "data": {
      "text/html": [
       " View project at <a href='https://wandb.ai/pnikitits_1/flappy-bird-sarsa' target=\"_blank\">https://wandb.ai/pnikitits_1/flappy-bird-sarsa</a>"
      ],
      "text/plain": [
       "<IPython.core.display.HTML object>"
      ]
     },
     "metadata": {},
     "output_type": "display_data"
    },
    {
     "data": {
      "text/html": [
       " View sweep at <a href='https://wandb.ai/pnikitits_1/flappy-bird-sarsa/sweeps/4zn6ispr' target=\"_blank\">https://wandb.ai/pnikitits_1/flappy-bird-sarsa/sweeps/4zn6ispr</a>"
      ],
      "text/plain": [
       "<IPython.core.display.HTML object>"
      ]
     },
     "metadata": {},
     "output_type": "display_data"
    },
    {
     "data": {
      "text/html": [
       " View run at <a href='https://wandb.ai/pnikitits_1/flappy-bird-sarsa/runs/wgj6blvq' target=\"_blank\">https://wandb.ai/pnikitits_1/flappy-bird-sarsa/runs/wgj6blvq</a>"
      ],
      "text/plain": [
       "<IPython.core.display.HTML object>"
      ]
     },
     "metadata": {},
     "output_type": "display_data"
    },
    {
     "name": "stderr",
     "output_type": "stream",
     "text": [
      "100%|██████████| 1000/1000 [00:00<00:00, 4435.55it/s]\n"
     ]
    },
    {
     "data": {
      "text/html": [
       "<style>\n",
       "    table.wandb td:nth-child(1) { padding: 0 10px; text-align: left ; width: auto;} td:nth-child(2) {text-align: left ; width: 100%}\n",
       "    .wandb-row { display: flex; flex-direction: row; flex-wrap: wrap; justify-content: flex-start; width: 100% }\n",
       "    .wandb-col { display: flex; flex-direction: column; flex-basis: 100%; flex: 1; padding: 10px; }\n",
       "    </style>\n",
       "<div class=\"wandb-row\"><div class=\"wandb-col\"><h3>Run history:</h3><br/><table class=\"wandb\"><tr><td>reward</td><td>▁</td></tr></table><br/></div><div class=\"wandb-col\"><h3>Run summary:</h3><br/><table class=\"wandb\"><tr><td>reward</td><td>5.134</td></tr></table><br/></div></div>"
      ],
      "text/plain": [
       "<IPython.core.display.HTML object>"
      ]
     },
     "metadata": {},
     "output_type": "display_data"
    },
    {
     "data": {
      "text/html": [
       " View run <strong style=\"color:#cdcd00\">fallen-sweep-11</strong> at: <a href='https://wandb.ai/pnikitits_1/flappy-bird-sarsa/runs/wgj6blvq' target=\"_blank\">https://wandb.ai/pnikitits_1/flappy-bird-sarsa/runs/wgj6blvq</a><br/> View project at: <a href='https://wandb.ai/pnikitits_1/flappy-bird-sarsa' target=\"_blank\">https://wandb.ai/pnikitits_1/flappy-bird-sarsa</a><br/>Synced 6 W&B file(s), 0 media file(s), 0 artifact file(s) and 0 other file(s)"
      ],
      "text/plain": [
       "<IPython.core.display.HTML object>"
      ]
     },
     "metadata": {},
     "output_type": "display_data"
    },
    {
     "data": {
      "text/html": [
       "Find logs at: <code>./wandb/run-20240412_233309-wgj6blvq/logs</code>"
      ],
      "text/plain": [
       "<IPython.core.display.HTML object>"
      ]
     },
     "metadata": {},
     "output_type": "display_data"
    },
    {
     "name": "stderr",
     "output_type": "stream",
     "text": [
      "\u001b[34m\u001b[1mwandb\u001b[0m: Agent Starting Run: 09cdsctq with config:\n",
      "\u001b[34m\u001b[1mwandb\u001b[0m: \talpha: 0.9\n",
      "\u001b[34m\u001b[1mwandb\u001b[0m: \tepsilon: 0.9\n",
      "\u001b[34m\u001b[1mwandb\u001b[0m: \tepsilon_decay: 0.5\n",
      "\u001b[34m\u001b[1mwandb\u001b[0m: \tepsilon_min: 1e-05\n",
      "\u001b[34m\u001b[1mwandb\u001b[0m: \tgamma: 0.9\n",
      "\u001b[34m\u001b[1mwandb\u001b[0m: \tlam: 0.9\n",
      "Failed to detect the name of this notebook, you can set it manually with the WANDB_NOTEBOOK_NAME environment variable to enable code saving.\n"
     ]
    },
    {
     "data": {
      "text/html": [
       "Tracking run with wandb version 0.16.6"
      ],
      "text/plain": [
       "<IPython.core.display.HTML object>"
      ]
     },
     "metadata": {},
     "output_type": "display_data"
    },
    {
     "data": {
      "text/html": [
       "Run data is saved locally in <code>/Users/pierre/Documents/GitHub/RL_Assignment/wandb/run-20240412_233325-09cdsctq</code>"
      ],
      "text/plain": [
       "<IPython.core.display.HTML object>"
      ]
     },
     "metadata": {},
     "output_type": "display_data"
    },
    {
     "data": {
      "text/html": [
       "Syncing run <strong><a href='https://wandb.ai/pnikitits_1/flappy-bird-sarsa/runs/09cdsctq' target=\"_blank\">grateful-sweep-12</a></strong> to <a href='https://wandb.ai/pnikitits_1/flappy-bird-sarsa' target=\"_blank\">Weights & Biases</a> (<a href='https://wandb.me/run' target=\"_blank\">docs</a>)<br/>Sweep page: <a href='https://wandb.ai/pnikitits_1/flappy-bird-sarsa/sweeps/4zn6ispr' target=\"_blank\">https://wandb.ai/pnikitits_1/flappy-bird-sarsa/sweeps/4zn6ispr</a>"
      ],
      "text/plain": [
       "<IPython.core.display.HTML object>"
      ]
     },
     "metadata": {},
     "output_type": "display_data"
    },
    {
     "data": {
      "text/html": [
       " View project at <a href='https://wandb.ai/pnikitits_1/flappy-bird-sarsa' target=\"_blank\">https://wandb.ai/pnikitits_1/flappy-bird-sarsa</a>"
      ],
      "text/plain": [
       "<IPython.core.display.HTML object>"
      ]
     },
     "metadata": {},
     "output_type": "display_data"
    },
    {
     "data": {
      "text/html": [
       " View sweep at <a href='https://wandb.ai/pnikitits_1/flappy-bird-sarsa/sweeps/4zn6ispr' target=\"_blank\">https://wandb.ai/pnikitits_1/flappy-bird-sarsa/sweeps/4zn6ispr</a>"
      ],
      "text/plain": [
       "<IPython.core.display.HTML object>"
      ]
     },
     "metadata": {},
     "output_type": "display_data"
    },
    {
     "data": {
      "text/html": [
       " View run at <a href='https://wandb.ai/pnikitits_1/flappy-bird-sarsa/runs/09cdsctq' target=\"_blank\">https://wandb.ai/pnikitits_1/flappy-bird-sarsa/runs/09cdsctq</a>"
      ],
      "text/plain": [
       "<IPython.core.display.HTML object>"
      ]
     },
     "metadata": {},
     "output_type": "display_data"
    },
    {
     "name": "stderr",
     "output_type": "stream",
     "text": [
      "100%|██████████| 1000/1000 [00:00<00:00, 3610.98it/s]\n"
     ]
    },
    {
     "data": {
      "text/html": [
       "<style>\n",
       "    table.wandb td:nth-child(1) { padding: 0 10px; text-align: left ; width: auto;} td:nth-child(2) {text-align: left ; width: 100%}\n",
       "    .wandb-row { display: flex; flex-direction: row; flex-wrap: wrap; justify-content: flex-start; width: 100% }\n",
       "    .wandb-col { display: flex; flex-direction: column; flex-basis: 100%; flex: 1; padding: 10px; }\n",
       "    </style>\n",
       "<div class=\"wandb-row\"><div class=\"wandb-col\"><h3>Run history:</h3><br/><table class=\"wandb\"><tr><td>reward</td><td>▁</td></tr></table><br/></div><div class=\"wandb-col\"><h3>Run summary:</h3><br/><table class=\"wandb\"><tr><td>reward</td><td>6.551</td></tr></table><br/></div></div>"
      ],
      "text/plain": [
       "<IPython.core.display.HTML object>"
      ]
     },
     "metadata": {},
     "output_type": "display_data"
    },
    {
     "data": {
      "text/html": [
       " View run <strong style=\"color:#cdcd00\">grateful-sweep-12</strong> at: <a href='https://wandb.ai/pnikitits_1/flappy-bird-sarsa/runs/09cdsctq' target=\"_blank\">https://wandb.ai/pnikitits_1/flappy-bird-sarsa/runs/09cdsctq</a><br/> View project at: <a href='https://wandb.ai/pnikitits_1/flappy-bird-sarsa' target=\"_blank\">https://wandb.ai/pnikitits_1/flappy-bird-sarsa</a><br/>Synced 6 W&B file(s), 0 media file(s), 0 artifact file(s) and 0 other file(s)"
      ],
      "text/plain": [
       "<IPython.core.display.HTML object>"
      ]
     },
     "metadata": {},
     "output_type": "display_data"
    },
    {
     "data": {
      "text/html": [
       "Find logs at: <code>./wandb/run-20240412_233325-09cdsctq/logs</code>"
      ],
      "text/plain": [
       "<IPython.core.display.HTML object>"
      ]
     },
     "metadata": {},
     "output_type": "display_data"
    },
    {
     "name": "stderr",
     "output_type": "stream",
     "text": [
      "\u001b[34m\u001b[1mwandb\u001b[0m: Sweep Agent: Waiting for job.\n",
      "\u001b[34m\u001b[1mwandb\u001b[0m: Job received.\n",
      "\u001b[34m\u001b[1mwandb\u001b[0m: Agent Starting Run: ud4zvxaf with config:\n",
      "\u001b[34m\u001b[1mwandb\u001b[0m: \talpha: 0.9\n",
      "\u001b[34m\u001b[1mwandb\u001b[0m: \tepsilon: 0.9\n",
      "\u001b[34m\u001b[1mwandb\u001b[0m: \tepsilon_decay: 0.9\n",
      "\u001b[34m\u001b[1mwandb\u001b[0m: \tepsilon_min: 1e-05\n",
      "\u001b[34m\u001b[1mwandb\u001b[0m: \tgamma: 0.9\n",
      "\u001b[34m\u001b[1mwandb\u001b[0m: \tlam: 0.9\n",
      "Failed to detect the name of this notebook, you can set it manually with the WANDB_NOTEBOOK_NAME environment variable to enable code saving.\n"
     ]
    },
    {
     "data": {
      "text/html": [
       "Tracking run with wandb version 0.16.6"
      ],
      "text/plain": [
       "<IPython.core.display.HTML object>"
      ]
     },
     "metadata": {},
     "output_type": "display_data"
    },
    {
     "data": {
      "text/html": [
       "Run data is saved locally in <code>/Users/pierre/Documents/GitHub/RL_Assignment/wandb/run-20240412_233346-ud4zvxaf</code>"
      ],
      "text/plain": [
       "<IPython.core.display.HTML object>"
      ]
     },
     "metadata": {},
     "output_type": "display_data"
    },
    {
     "data": {
      "text/html": [
       "Syncing run <strong><a href='https://wandb.ai/pnikitits_1/flappy-bird-sarsa/runs/ud4zvxaf' target=\"_blank\">colorful-sweep-13</a></strong> to <a href='https://wandb.ai/pnikitits_1/flappy-bird-sarsa' target=\"_blank\">Weights & Biases</a> (<a href='https://wandb.me/run' target=\"_blank\">docs</a>)<br/>Sweep page: <a href='https://wandb.ai/pnikitits_1/flappy-bird-sarsa/sweeps/4zn6ispr' target=\"_blank\">https://wandb.ai/pnikitits_1/flappy-bird-sarsa/sweeps/4zn6ispr</a>"
      ],
      "text/plain": [
       "<IPython.core.display.HTML object>"
      ]
     },
     "metadata": {},
     "output_type": "display_data"
    },
    {
     "data": {
      "text/html": [
       " View project at <a href='https://wandb.ai/pnikitits_1/flappy-bird-sarsa' target=\"_blank\">https://wandb.ai/pnikitits_1/flappy-bird-sarsa</a>"
      ],
      "text/plain": [
       "<IPython.core.display.HTML object>"
      ]
     },
     "metadata": {},
     "output_type": "display_data"
    },
    {
     "data": {
      "text/html": [
       " View sweep at <a href='https://wandb.ai/pnikitits_1/flappy-bird-sarsa/sweeps/4zn6ispr' target=\"_blank\">https://wandb.ai/pnikitits_1/flappy-bird-sarsa/sweeps/4zn6ispr</a>"
      ],
      "text/plain": [
       "<IPython.core.display.HTML object>"
      ]
     },
     "metadata": {},
     "output_type": "display_data"
    },
    {
     "data": {
      "text/html": [
       " View run at <a href='https://wandb.ai/pnikitits_1/flappy-bird-sarsa/runs/ud4zvxaf' target=\"_blank\">https://wandb.ai/pnikitits_1/flappy-bird-sarsa/runs/ud4zvxaf</a>"
      ],
      "text/plain": [
       "<IPython.core.display.HTML object>"
      ]
     },
     "metadata": {},
     "output_type": "display_data"
    },
    {
     "name": "stderr",
     "output_type": "stream",
     "text": [
      "100%|██████████| 1000/1000 [00:00<00:00, 3827.86it/s]\n"
     ]
    },
    {
     "data": {
      "text/html": [
       "<style>\n",
       "    table.wandb td:nth-child(1) { padding: 0 10px; text-align: left ; width: auto;} td:nth-child(2) {text-align: left ; width: 100%}\n",
       "    .wandb-row { display: flex; flex-direction: row; flex-wrap: wrap; justify-content: flex-start; width: 100% }\n",
       "    .wandb-col { display: flex; flex-direction: column; flex-basis: 100%; flex: 1; padding: 10px; }\n",
       "    </style>\n",
       "<div class=\"wandb-row\"><div class=\"wandb-col\"><h3>Run history:</h3><br/><table class=\"wandb\"><tr><td>reward</td><td>▁</td></tr></table><br/></div><div class=\"wandb-col\"><h3>Run summary:</h3><br/><table class=\"wandb\"><tr><td>reward</td><td>6.375</td></tr></table><br/></div></div>"
      ],
      "text/plain": [
       "<IPython.core.display.HTML object>"
      ]
     },
     "metadata": {},
     "output_type": "display_data"
    },
    {
     "data": {
      "text/html": [
       " View run <strong style=\"color:#cdcd00\">colorful-sweep-13</strong> at: <a href='https://wandb.ai/pnikitits_1/flappy-bird-sarsa/runs/ud4zvxaf' target=\"_blank\">https://wandb.ai/pnikitits_1/flappy-bird-sarsa/runs/ud4zvxaf</a><br/> View project at: <a href='https://wandb.ai/pnikitits_1/flappy-bird-sarsa' target=\"_blank\">https://wandb.ai/pnikitits_1/flappy-bird-sarsa</a><br/>Synced 6 W&B file(s), 0 media file(s), 0 artifact file(s) and 0 other file(s)"
      ],
      "text/plain": [
       "<IPython.core.display.HTML object>"
      ]
     },
     "metadata": {},
     "output_type": "display_data"
    },
    {
     "data": {
      "text/html": [
       "Find logs at: <code>./wandb/run-20240412_233346-ud4zvxaf/logs</code>"
      ],
      "text/plain": [
       "<IPython.core.display.HTML object>"
      ]
     },
     "metadata": {},
     "output_type": "display_data"
    },
    {
     "name": "stderr",
     "output_type": "stream",
     "text": [
      "\u001b[34m\u001b[1mwandb\u001b[0m: Sweep Agent: Waiting for job.\n",
      "\u001b[34m\u001b[1mwandb\u001b[0m: Job received.\n",
      "\u001b[34m\u001b[1mwandb\u001b[0m: Agent Starting Run: op78pfzk with config:\n",
      "\u001b[34m\u001b[1mwandb\u001b[0m: \talpha: 0.9\n",
      "\u001b[34m\u001b[1mwandb\u001b[0m: \tepsilon: 0.9\n",
      "\u001b[34m\u001b[1mwandb\u001b[0m: \tepsilon_decay: 0.5\n",
      "\u001b[34m\u001b[1mwandb\u001b[0m: \tepsilon_min: 1e-05\n",
      "\u001b[34m\u001b[1mwandb\u001b[0m: \tgamma: 0.5\n",
      "\u001b[34m\u001b[1mwandb\u001b[0m: \tlam: 0.9\n",
      "Failed to detect the name of this notebook, you can set it manually with the WANDB_NOTEBOOK_NAME environment variable to enable code saving.\n"
     ]
    },
    {
     "data": {
      "text/html": [
       "Tracking run with wandb version 0.16.6"
      ],
      "text/plain": [
       "<IPython.core.display.HTML object>"
      ]
     },
     "metadata": {},
     "output_type": "display_data"
    },
    {
     "data": {
      "text/html": [
       "Run data is saved locally in <code>/Users/pierre/Documents/GitHub/RL_Assignment/wandb/run-20240412_233415-op78pfzk</code>"
      ],
      "text/plain": [
       "<IPython.core.display.HTML object>"
      ]
     },
     "metadata": {},
     "output_type": "display_data"
    },
    {
     "data": {
      "text/html": [
       "Syncing run <strong><a href='https://wandb.ai/pnikitits_1/flappy-bird-sarsa/runs/op78pfzk' target=\"_blank\">scarlet-sweep-14</a></strong> to <a href='https://wandb.ai/pnikitits_1/flappy-bird-sarsa' target=\"_blank\">Weights & Biases</a> (<a href='https://wandb.me/run' target=\"_blank\">docs</a>)<br/>Sweep page: <a href='https://wandb.ai/pnikitits_1/flappy-bird-sarsa/sweeps/4zn6ispr' target=\"_blank\">https://wandb.ai/pnikitits_1/flappy-bird-sarsa/sweeps/4zn6ispr</a>"
      ],
      "text/plain": [
       "<IPython.core.display.HTML object>"
      ]
     },
     "metadata": {},
     "output_type": "display_data"
    },
    {
     "data": {
      "text/html": [
       " View project at <a href='https://wandb.ai/pnikitits_1/flappy-bird-sarsa' target=\"_blank\">https://wandb.ai/pnikitits_1/flappy-bird-sarsa</a>"
      ],
      "text/plain": [
       "<IPython.core.display.HTML object>"
      ]
     },
     "metadata": {},
     "output_type": "display_data"
    },
    {
     "data": {
      "text/html": [
       " View sweep at <a href='https://wandb.ai/pnikitits_1/flappy-bird-sarsa/sweeps/4zn6ispr' target=\"_blank\">https://wandb.ai/pnikitits_1/flappy-bird-sarsa/sweeps/4zn6ispr</a>"
      ],
      "text/plain": [
       "<IPython.core.display.HTML object>"
      ]
     },
     "metadata": {},
     "output_type": "display_data"
    },
    {
     "data": {
      "text/html": [
       " View run at <a href='https://wandb.ai/pnikitits_1/flappy-bird-sarsa/runs/op78pfzk' target=\"_blank\">https://wandb.ai/pnikitits_1/flappy-bird-sarsa/runs/op78pfzk</a>"
      ],
      "text/plain": [
       "<IPython.core.display.HTML object>"
      ]
     },
     "metadata": {},
     "output_type": "display_data"
    },
    {
     "name": "stderr",
     "output_type": "stream",
     "text": [
      "100%|██████████| 1000/1000 [00:00<00:00, 5991.39it/s]\n"
     ]
    },
    {
     "data": {
      "text/html": [
       "<style>\n",
       "    table.wandb td:nth-child(1) { padding: 0 10px; text-align: left ; width: auto;} td:nth-child(2) {text-align: left ; width: 100%}\n",
       "    .wandb-row { display: flex; flex-direction: row; flex-wrap: wrap; justify-content: flex-start; width: 100% }\n",
       "    .wandb-col { display: flex; flex-direction: column; flex-basis: 100%; flex: 1; padding: 10px; }\n",
       "    </style>\n",
       "<div class=\"wandb-row\"><div class=\"wandb-col\"><h3>Run history:</h3><br/><table class=\"wandb\"><tr><td>reward</td><td>▁</td></tr></table><br/></div><div class=\"wandb-col\"><h3>Run summary:</h3><br/><table class=\"wandb\"><tr><td>reward</td><td>4.0</td></tr></table><br/></div></div>"
      ],
      "text/plain": [
       "<IPython.core.display.HTML object>"
      ]
     },
     "metadata": {},
     "output_type": "display_data"
    },
    {
     "data": {
      "text/html": [
       " View run <strong style=\"color:#cdcd00\">scarlet-sweep-14</strong> at: <a href='https://wandb.ai/pnikitits_1/flappy-bird-sarsa/runs/op78pfzk' target=\"_blank\">https://wandb.ai/pnikitits_1/flappy-bird-sarsa/runs/op78pfzk</a><br/> View project at: <a href='https://wandb.ai/pnikitits_1/flappy-bird-sarsa' target=\"_blank\">https://wandb.ai/pnikitits_1/flappy-bird-sarsa</a><br/>Synced 6 W&B file(s), 0 media file(s), 0 artifact file(s) and 0 other file(s)"
      ],
      "text/plain": [
       "<IPython.core.display.HTML object>"
      ]
     },
     "metadata": {},
     "output_type": "display_data"
    },
    {
     "data": {
      "text/html": [
       "Find logs at: <code>./wandb/run-20240412_233415-op78pfzk/logs</code>"
      ],
      "text/plain": [
       "<IPython.core.display.HTML object>"
      ]
     },
     "metadata": {},
     "output_type": "display_data"
    },
    {
     "name": "stderr",
     "output_type": "stream",
     "text": [
      "\u001b[34m\u001b[1mwandb\u001b[0m: Agent Starting Run: igwmjwdy with config:\n",
      "\u001b[34m\u001b[1mwandb\u001b[0m: \talpha: 0.5\n",
      "\u001b[34m\u001b[1mwandb\u001b[0m: \tepsilon: 0.1\n",
      "\u001b[34m\u001b[1mwandb\u001b[0m: \tepsilon_decay: 0.9\n",
      "\u001b[34m\u001b[1mwandb\u001b[0m: \tepsilon_min: 1e-05\n",
      "\u001b[34m\u001b[1mwandb\u001b[0m: \tgamma: 0.5\n",
      "\u001b[34m\u001b[1mwandb\u001b[0m: \tlam: 0.5\n",
      "Failed to detect the name of this notebook, you can set it manually with the WANDB_NOTEBOOK_NAME environment variable to enable code saving.\n"
     ]
    },
    {
     "data": {
      "text/html": [
       "Tracking run with wandb version 0.16.6"
      ],
      "text/plain": [
       "<IPython.core.display.HTML object>"
      ]
     },
     "metadata": {},
     "output_type": "display_data"
    },
    {
     "data": {
      "text/html": [
       "Run data is saved locally in <code>/Users/pierre/Documents/GitHub/RL_Assignment/wandb/run-20240412_233430-igwmjwdy</code>"
      ],
      "text/plain": [
       "<IPython.core.display.HTML object>"
      ]
     },
     "metadata": {},
     "output_type": "display_data"
    },
    {
     "data": {
      "text/html": [
       "Syncing run <strong><a href='https://wandb.ai/pnikitits_1/flappy-bird-sarsa/runs/igwmjwdy' target=\"_blank\">volcanic-sweep-15</a></strong> to <a href='https://wandb.ai/pnikitits_1/flappy-bird-sarsa' target=\"_blank\">Weights & Biases</a> (<a href='https://wandb.me/run' target=\"_blank\">docs</a>)<br/>Sweep page: <a href='https://wandb.ai/pnikitits_1/flappy-bird-sarsa/sweeps/4zn6ispr' target=\"_blank\">https://wandb.ai/pnikitits_1/flappy-bird-sarsa/sweeps/4zn6ispr</a>"
      ],
      "text/plain": [
       "<IPython.core.display.HTML object>"
      ]
     },
     "metadata": {},
     "output_type": "display_data"
    },
    {
     "data": {
      "text/html": [
       " View project at <a href='https://wandb.ai/pnikitits_1/flappy-bird-sarsa' target=\"_blank\">https://wandb.ai/pnikitits_1/flappy-bird-sarsa</a>"
      ],
      "text/plain": [
       "<IPython.core.display.HTML object>"
      ]
     },
     "metadata": {},
     "output_type": "display_data"
    },
    {
     "data": {
      "text/html": [
       " View sweep at <a href='https://wandb.ai/pnikitits_1/flappy-bird-sarsa/sweeps/4zn6ispr' target=\"_blank\">https://wandb.ai/pnikitits_1/flappy-bird-sarsa/sweeps/4zn6ispr</a>"
      ],
      "text/plain": [
       "<IPython.core.display.HTML object>"
      ]
     },
     "metadata": {},
     "output_type": "display_data"
    },
    {
     "data": {
      "text/html": [
       " View run at <a href='https://wandb.ai/pnikitits_1/flappy-bird-sarsa/runs/igwmjwdy' target=\"_blank\">https://wandb.ai/pnikitits_1/flappy-bird-sarsa/runs/igwmjwdy</a>"
      ],
      "text/plain": [
       "<IPython.core.display.HTML object>"
      ]
     },
     "metadata": {},
     "output_type": "display_data"
    },
    {
     "name": "stderr",
     "output_type": "stream",
     "text": [
      "100%|██████████| 1000/1000 [00:00<00:00, 3605.39it/s]\n"
     ]
    },
    {
     "data": {
      "text/html": [
       "<style>\n",
       "    table.wandb td:nth-child(1) { padding: 0 10px; text-align: left ; width: auto;} td:nth-child(2) {text-align: left ; width: 100%}\n",
       "    .wandb-row { display: flex; flex-direction: row; flex-wrap: wrap; justify-content: flex-start; width: 100% }\n",
       "    .wandb-col { display: flex; flex-direction: column; flex-basis: 100%; flex: 1; padding: 10px; }\n",
       "    </style>\n",
       "<div class=\"wandb-row\"><div class=\"wandb-col\"><h3>Run history:</h3><br/><table class=\"wandb\"><tr><td>reward</td><td>▁</td></tr></table><br/></div><div class=\"wandb-col\"><h3>Run summary:</h3><br/><table class=\"wandb\"><tr><td>reward</td><td>4.0</td></tr></table><br/></div></div>"
      ],
      "text/plain": [
       "<IPython.core.display.HTML object>"
      ]
     },
     "metadata": {},
     "output_type": "display_data"
    },
    {
     "data": {
      "text/html": [
       " View run <strong style=\"color:#cdcd00\">volcanic-sweep-15</strong> at: <a href='https://wandb.ai/pnikitits_1/flappy-bird-sarsa/runs/igwmjwdy' target=\"_blank\">https://wandb.ai/pnikitits_1/flappy-bird-sarsa/runs/igwmjwdy</a><br/> View project at: <a href='https://wandb.ai/pnikitits_1/flappy-bird-sarsa' target=\"_blank\">https://wandb.ai/pnikitits_1/flappy-bird-sarsa</a><br/>Synced 6 W&B file(s), 0 media file(s), 0 artifact file(s) and 0 other file(s)"
      ],
      "text/plain": [
       "<IPython.core.display.HTML object>"
      ]
     },
     "metadata": {},
     "output_type": "display_data"
    },
    {
     "data": {
      "text/html": [
       "Find logs at: <code>./wandb/run-20240412_233430-igwmjwdy/logs</code>"
      ],
      "text/plain": [
       "<IPython.core.display.HTML object>"
      ]
     },
     "metadata": {},
     "output_type": "display_data"
    },
    {
     "name": "stderr",
     "output_type": "stream",
     "text": [
      "\u001b[34m\u001b[1mwandb\u001b[0m: Agent Starting Run: d4k78uy4 with config:\n",
      "\u001b[34m\u001b[1mwandb\u001b[0m: \talpha: 0.9\n",
      "\u001b[34m\u001b[1mwandb\u001b[0m: \tepsilon: 0.5\n",
      "\u001b[34m\u001b[1mwandb\u001b[0m: \tepsilon_decay: 0.5\n",
      "\u001b[34m\u001b[1mwandb\u001b[0m: \tepsilon_min: 0.0001\n",
      "\u001b[34m\u001b[1mwandb\u001b[0m: \tgamma: 0.5\n",
      "\u001b[34m\u001b[1mwandb\u001b[0m: \tlam: 0.1\n",
      "Failed to detect the name of this notebook, you can set it manually with the WANDB_NOTEBOOK_NAME environment variable to enable code saving.\n"
     ]
    },
    {
     "data": {
      "text/html": [
       "Tracking run with wandb version 0.16.6"
      ],
      "text/plain": [
       "<IPython.core.display.HTML object>"
      ]
     },
     "metadata": {},
     "output_type": "display_data"
    },
    {
     "data": {
      "text/html": [
       "Run data is saved locally in <code>/Users/pierre/Documents/GitHub/RL_Assignment/wandb/run-20240412_233442-d4k78uy4</code>"
      ],
      "text/plain": [
       "<IPython.core.display.HTML object>"
      ]
     },
     "metadata": {},
     "output_type": "display_data"
    },
    {
     "data": {
      "text/html": [
       "Syncing run <strong><a href='https://wandb.ai/pnikitits_1/flappy-bird-sarsa/runs/d4k78uy4' target=\"_blank\">deft-sweep-16</a></strong> to <a href='https://wandb.ai/pnikitits_1/flappy-bird-sarsa' target=\"_blank\">Weights & Biases</a> (<a href='https://wandb.me/run' target=\"_blank\">docs</a>)<br/>Sweep page: <a href='https://wandb.ai/pnikitits_1/flappy-bird-sarsa/sweeps/4zn6ispr' target=\"_blank\">https://wandb.ai/pnikitits_1/flappy-bird-sarsa/sweeps/4zn6ispr</a>"
      ],
      "text/plain": [
       "<IPython.core.display.HTML object>"
      ]
     },
     "metadata": {},
     "output_type": "display_data"
    },
    {
     "data": {
      "text/html": [
       " View project at <a href='https://wandb.ai/pnikitits_1/flappy-bird-sarsa' target=\"_blank\">https://wandb.ai/pnikitits_1/flappy-bird-sarsa</a>"
      ],
      "text/plain": [
       "<IPython.core.display.HTML object>"
      ]
     },
     "metadata": {},
     "output_type": "display_data"
    },
    {
     "data": {
      "text/html": [
       " View sweep at <a href='https://wandb.ai/pnikitits_1/flappy-bird-sarsa/sweeps/4zn6ispr' target=\"_blank\">https://wandb.ai/pnikitits_1/flappy-bird-sarsa/sweeps/4zn6ispr</a>"
      ],
      "text/plain": [
       "<IPython.core.display.HTML object>"
      ]
     },
     "metadata": {},
     "output_type": "display_data"
    },
    {
     "data": {
      "text/html": [
       " View run at <a href='https://wandb.ai/pnikitits_1/flappy-bird-sarsa/runs/d4k78uy4' target=\"_blank\">https://wandb.ai/pnikitits_1/flappy-bird-sarsa/runs/d4k78uy4</a>"
      ],
      "text/plain": [
       "<IPython.core.display.HTML object>"
      ]
     },
     "metadata": {},
     "output_type": "display_data"
    },
    {
     "name": "stderr",
     "output_type": "stream",
     "text": [
      "100%|██████████| 1000/1000 [00:00<00:00, 5551.08it/s]\n"
     ]
    },
    {
     "data": {
      "text/html": [
       "<style>\n",
       "    table.wandb td:nth-child(1) { padding: 0 10px; text-align: left ; width: auto;} td:nth-child(2) {text-align: left ; width: 100%}\n",
       "    .wandb-row { display: flex; flex-direction: row; flex-wrap: wrap; justify-content: flex-start; width: 100% }\n",
       "    .wandb-col { display: flex; flex-direction: column; flex-basis: 100%; flex: 1; padding: 10px; }\n",
       "    </style>\n",
       "<div class=\"wandb-row\"><div class=\"wandb-col\"><h3>Run history:</h3><br/><table class=\"wandb\"><tr><td>reward</td><td>▁</td></tr></table><br/></div><div class=\"wandb-col\"><h3>Run summary:</h3><br/><table class=\"wandb\"><tr><td>reward</td><td>4.21</td></tr></table><br/></div></div>"
      ],
      "text/plain": [
       "<IPython.core.display.HTML object>"
      ]
     },
     "metadata": {},
     "output_type": "display_data"
    },
    {
     "data": {
      "text/html": [
       " View run <strong style=\"color:#cdcd00\">deft-sweep-16</strong> at: <a href='https://wandb.ai/pnikitits_1/flappy-bird-sarsa/runs/d4k78uy4' target=\"_blank\">https://wandb.ai/pnikitits_1/flappy-bird-sarsa/runs/d4k78uy4</a><br/> View project at: <a href='https://wandb.ai/pnikitits_1/flappy-bird-sarsa' target=\"_blank\">https://wandb.ai/pnikitits_1/flappy-bird-sarsa</a><br/>Synced 6 W&B file(s), 0 media file(s), 0 artifact file(s) and 0 other file(s)"
      ],
      "text/plain": [
       "<IPython.core.display.HTML object>"
      ]
     },
     "metadata": {},
     "output_type": "display_data"
    },
    {
     "data": {
      "text/html": [
       "Find logs at: <code>./wandb/run-20240412_233442-d4k78uy4/logs</code>"
      ],
      "text/plain": [
       "<IPython.core.display.HTML object>"
      ]
     },
     "metadata": {},
     "output_type": "display_data"
    },
    {
     "name": "stderr",
     "output_type": "stream",
     "text": [
      "\u001b[34m\u001b[1mwandb\u001b[0m: Sweep Agent: Waiting for job.\n",
      "\u001b[34m\u001b[1mwandb\u001b[0m: Job received.\n",
      "\u001b[34m\u001b[1mwandb\u001b[0m: Agent Starting Run: 7fspfdb9 with config:\n",
      "\u001b[34m\u001b[1mwandb\u001b[0m: \talpha: 0.9\n",
      "\u001b[34m\u001b[1mwandb\u001b[0m: \tepsilon: 0.9\n",
      "\u001b[34m\u001b[1mwandb\u001b[0m: \tepsilon_decay: 0.1\n",
      "\u001b[34m\u001b[1mwandb\u001b[0m: \tepsilon_min: 1e-05\n",
      "\u001b[34m\u001b[1mwandb\u001b[0m: \tgamma: 0.9\n",
      "\u001b[34m\u001b[1mwandb\u001b[0m: \tlam: 0.9\n",
      "Failed to detect the name of this notebook, you can set it manually with the WANDB_NOTEBOOK_NAME environment variable to enable code saving.\n"
     ]
    },
    {
     "data": {
      "text/html": [
       "Tracking run with wandb version 0.16.6"
      ],
      "text/plain": [
       "<IPython.core.display.HTML object>"
      ]
     },
     "metadata": {},
     "output_type": "display_data"
    },
    {
     "data": {
      "text/html": [
       "Run data is saved locally in <code>/Users/pierre/Documents/GitHub/RL_Assignment/wandb/run-20240412_233502-7fspfdb9</code>"
      ],
      "text/plain": [
       "<IPython.core.display.HTML object>"
      ]
     },
     "metadata": {},
     "output_type": "display_data"
    },
    {
     "data": {
      "text/html": [
       "Syncing run <strong><a href='https://wandb.ai/pnikitits_1/flappy-bird-sarsa/runs/7fspfdb9' target=\"_blank\">vital-sweep-17</a></strong> to <a href='https://wandb.ai/pnikitits_1/flappy-bird-sarsa' target=\"_blank\">Weights & Biases</a> (<a href='https://wandb.me/run' target=\"_blank\">docs</a>)<br/>Sweep page: <a href='https://wandb.ai/pnikitits_1/flappy-bird-sarsa/sweeps/4zn6ispr' target=\"_blank\">https://wandb.ai/pnikitits_1/flappy-bird-sarsa/sweeps/4zn6ispr</a>"
      ],
      "text/plain": [
       "<IPython.core.display.HTML object>"
      ]
     },
     "metadata": {},
     "output_type": "display_data"
    },
    {
     "data": {
      "text/html": [
       " View project at <a href='https://wandb.ai/pnikitits_1/flappy-bird-sarsa' target=\"_blank\">https://wandb.ai/pnikitits_1/flappy-bird-sarsa</a>"
      ],
      "text/plain": [
       "<IPython.core.display.HTML object>"
      ]
     },
     "metadata": {},
     "output_type": "display_data"
    },
    {
     "data": {
      "text/html": [
       " View sweep at <a href='https://wandb.ai/pnikitits_1/flappy-bird-sarsa/sweeps/4zn6ispr' target=\"_blank\">https://wandb.ai/pnikitits_1/flappy-bird-sarsa/sweeps/4zn6ispr</a>"
      ],
      "text/plain": [
       "<IPython.core.display.HTML object>"
      ]
     },
     "metadata": {},
     "output_type": "display_data"
    },
    {
     "data": {
      "text/html": [
       " View run at <a href='https://wandb.ai/pnikitits_1/flappy-bird-sarsa/runs/7fspfdb9' target=\"_blank\">https://wandb.ai/pnikitits_1/flappy-bird-sarsa/runs/7fspfdb9</a>"
      ],
      "text/plain": [
       "<IPython.core.display.HTML object>"
      ]
     },
     "metadata": {},
     "output_type": "display_data"
    },
    {
     "name": "stderr",
     "output_type": "stream",
     "text": [
      "100%|██████████| 1000/1000 [00:00<00:00, 5015.77it/s]\n"
     ]
    },
    {
     "data": {
      "text/html": [
       "<style>\n",
       "    table.wandb td:nth-child(1) { padding: 0 10px; text-align: left ; width: auto;} td:nth-child(2) {text-align: left ; width: 100%}\n",
       "    .wandb-row { display: flex; flex-direction: row; flex-wrap: wrap; justify-content: flex-start; width: 100% }\n",
       "    .wandb-col { display: flex; flex-direction: column; flex-basis: 100%; flex: 1; padding: 10px; }\n",
       "    </style>\n",
       "<div class=\"wandb-row\"><div class=\"wandb-col\"><h3>Run history:</h3><br/><table class=\"wandb\"><tr><td>reward</td><td>▁</td></tr></table><br/></div><div class=\"wandb-col\"><h3>Run summary:</h3><br/><table class=\"wandb\"><tr><td>reward</td><td>4.35</td></tr></table><br/></div></div>"
      ],
      "text/plain": [
       "<IPython.core.display.HTML object>"
      ]
     },
     "metadata": {},
     "output_type": "display_data"
    },
    {
     "data": {
      "text/html": [
       " View run <strong style=\"color:#cdcd00\">vital-sweep-17</strong> at: <a href='https://wandb.ai/pnikitits_1/flappy-bird-sarsa/runs/7fspfdb9' target=\"_blank\">https://wandb.ai/pnikitits_1/flappy-bird-sarsa/runs/7fspfdb9</a><br/> View project at: <a href='https://wandb.ai/pnikitits_1/flappy-bird-sarsa' target=\"_blank\">https://wandb.ai/pnikitits_1/flappy-bird-sarsa</a><br/>Synced 6 W&B file(s), 0 media file(s), 0 artifact file(s) and 0 other file(s)"
      ],
      "text/plain": [
       "<IPython.core.display.HTML object>"
      ]
     },
     "metadata": {},
     "output_type": "display_data"
    },
    {
     "data": {
      "text/html": [
       "Find logs at: <code>./wandb/run-20240412_233502-7fspfdb9/logs</code>"
      ],
      "text/plain": [
       "<IPython.core.display.HTML object>"
      ]
     },
     "metadata": {},
     "output_type": "display_data"
    },
    {
     "name": "stderr",
     "output_type": "stream",
     "text": [
      "\u001b[34m\u001b[1mwandb\u001b[0m: Sweep Agent: Waiting for job.\n",
      "\u001b[34m\u001b[1mwandb\u001b[0m: Job received.\n",
      "\u001b[34m\u001b[1mwandb\u001b[0m: Agent Starting Run: oobrll1n with config:\n",
      "\u001b[34m\u001b[1mwandb\u001b[0m: \talpha: 0.9\n",
      "\u001b[34m\u001b[1mwandb\u001b[0m: \tepsilon: 0.5\n",
      "\u001b[34m\u001b[1mwandb\u001b[0m: \tepsilon_decay: 0.5\n",
      "\u001b[34m\u001b[1mwandb\u001b[0m: \tepsilon_min: 0.0001\n",
      "\u001b[34m\u001b[1mwandb\u001b[0m: \tgamma: 0.9\n",
      "\u001b[34m\u001b[1mwandb\u001b[0m: \tlam: 0.9\n",
      "Failed to detect the name of this notebook, you can set it manually with the WANDB_NOTEBOOK_NAME environment variable to enable code saving.\n"
     ]
    },
    {
     "data": {
      "text/html": [
       "Tracking run with wandb version 0.16.6"
      ],
      "text/plain": [
       "<IPython.core.display.HTML object>"
      ]
     },
     "metadata": {},
     "output_type": "display_data"
    },
    {
     "data": {
      "text/html": [
       "Run data is saved locally in <code>/Users/pierre/Documents/GitHub/RL_Assignment/wandb/run-20240412_233523-oobrll1n</code>"
      ],
      "text/plain": [
       "<IPython.core.display.HTML object>"
      ]
     },
     "metadata": {},
     "output_type": "display_data"
    },
    {
     "data": {
      "text/html": [
       "Syncing run <strong><a href='https://wandb.ai/pnikitits_1/flappy-bird-sarsa/runs/oobrll1n' target=\"_blank\">glorious-sweep-18</a></strong> to <a href='https://wandb.ai/pnikitits_1/flappy-bird-sarsa' target=\"_blank\">Weights & Biases</a> (<a href='https://wandb.me/run' target=\"_blank\">docs</a>)<br/>Sweep page: <a href='https://wandb.ai/pnikitits_1/flappy-bird-sarsa/sweeps/4zn6ispr' target=\"_blank\">https://wandb.ai/pnikitits_1/flappy-bird-sarsa/sweeps/4zn6ispr</a>"
      ],
      "text/plain": [
       "<IPython.core.display.HTML object>"
      ]
     },
     "metadata": {},
     "output_type": "display_data"
    },
    {
     "data": {
      "text/html": [
       " View project at <a href='https://wandb.ai/pnikitits_1/flappy-bird-sarsa' target=\"_blank\">https://wandb.ai/pnikitits_1/flappy-bird-sarsa</a>"
      ],
      "text/plain": [
       "<IPython.core.display.HTML object>"
      ]
     },
     "metadata": {},
     "output_type": "display_data"
    },
    {
     "data": {
      "text/html": [
       " View sweep at <a href='https://wandb.ai/pnikitits_1/flappy-bird-sarsa/sweeps/4zn6ispr' target=\"_blank\">https://wandb.ai/pnikitits_1/flappy-bird-sarsa/sweeps/4zn6ispr</a>"
      ],
      "text/plain": [
       "<IPython.core.display.HTML object>"
      ]
     },
     "metadata": {},
     "output_type": "display_data"
    },
    {
     "data": {
      "text/html": [
       " View run at <a href='https://wandb.ai/pnikitits_1/flappy-bird-sarsa/runs/oobrll1n' target=\"_blank\">https://wandb.ai/pnikitits_1/flappy-bird-sarsa/runs/oobrll1n</a>"
      ],
      "text/plain": [
       "<IPython.core.display.HTML object>"
      ]
     },
     "metadata": {},
     "output_type": "display_data"
    },
    {
     "name": "stderr",
     "output_type": "stream",
     "text": [
      "100%|██████████| 1000/1000 [00:00<00:00, 5491.64it/s]\n"
     ]
    },
    {
     "data": {
      "text/html": [
       "<style>\n",
       "    table.wandb td:nth-child(1) { padding: 0 10px; text-align: left ; width: auto;} td:nth-child(2) {text-align: left ; width: 100%}\n",
       "    .wandb-row { display: flex; flex-direction: row; flex-wrap: wrap; justify-content: flex-start; width: 100% }\n",
       "    .wandb-col { display: flex; flex-direction: column; flex-basis: 100%; flex: 1; padding: 10px; }\n",
       "    </style>\n",
       "<div class=\"wandb-row\"><div class=\"wandb-col\"><h3>Run history:</h3><br/><table class=\"wandb\"><tr><td>reward</td><td>▁</td></tr></table><br/></div><div class=\"wandb-col\"><h3>Run summary:</h3><br/><table class=\"wandb\"><tr><td>reward</td><td>4.402</td></tr></table><br/></div></div>"
      ],
      "text/plain": [
       "<IPython.core.display.HTML object>"
      ]
     },
     "metadata": {},
     "output_type": "display_data"
    },
    {
     "data": {
      "text/html": [
       " View run <strong style=\"color:#cdcd00\">glorious-sweep-18</strong> at: <a href='https://wandb.ai/pnikitits_1/flappy-bird-sarsa/runs/oobrll1n' target=\"_blank\">https://wandb.ai/pnikitits_1/flappy-bird-sarsa/runs/oobrll1n</a><br/> View project at: <a href='https://wandb.ai/pnikitits_1/flappy-bird-sarsa' target=\"_blank\">https://wandb.ai/pnikitits_1/flappy-bird-sarsa</a><br/>Synced 6 W&B file(s), 0 media file(s), 0 artifact file(s) and 0 other file(s)"
      ],
      "text/plain": [
       "<IPython.core.display.HTML object>"
      ]
     },
     "metadata": {},
     "output_type": "display_data"
    },
    {
     "data": {
      "text/html": [
       "Find logs at: <code>./wandb/run-20240412_233523-oobrll1n/logs</code>"
      ],
      "text/plain": [
       "<IPython.core.display.HTML object>"
      ]
     },
     "metadata": {},
     "output_type": "display_data"
    },
    {
     "name": "stderr",
     "output_type": "stream",
     "text": [
      "\u001b[34m\u001b[1mwandb\u001b[0m: Sweep Agent: Waiting for job.\n",
      "\u001b[34m\u001b[1mwandb\u001b[0m: Job received.\n",
      "\u001b[34m\u001b[1mwandb\u001b[0m: Agent Starting Run: 5gpkpni9 with config:\n",
      "\u001b[34m\u001b[1mwandb\u001b[0m: \talpha: 0.1\n",
      "\u001b[34m\u001b[1mwandb\u001b[0m: \tepsilon: 0.5\n",
      "\u001b[34m\u001b[1mwandb\u001b[0m: \tepsilon_decay: 0.1\n",
      "\u001b[34m\u001b[1mwandb\u001b[0m: \tepsilon_min: 0.0001\n",
      "\u001b[34m\u001b[1mwandb\u001b[0m: \tgamma: 0.9\n",
      "\u001b[34m\u001b[1mwandb\u001b[0m: \tlam: 0.9\n",
      "Failed to detect the name of this notebook, you can set it manually with the WANDB_NOTEBOOK_NAME environment variable to enable code saving.\n"
     ]
    },
    {
     "data": {
      "text/html": [
       "Tracking run with wandb version 0.16.6"
      ],
      "text/plain": [
       "<IPython.core.display.HTML object>"
      ]
     },
     "metadata": {},
     "output_type": "display_data"
    },
    {
     "data": {
      "text/html": [
       "Run data is saved locally in <code>/Users/pierre/Documents/GitHub/RL_Assignment/wandb/run-20240412_233544-5gpkpni9</code>"
      ],
      "text/plain": [
       "<IPython.core.display.HTML object>"
      ]
     },
     "metadata": {},
     "output_type": "display_data"
    },
    {
     "data": {
      "text/html": [
       "Syncing run <strong><a href='https://wandb.ai/pnikitits_1/flappy-bird-sarsa/runs/5gpkpni9' target=\"_blank\">super-sweep-19</a></strong> to <a href='https://wandb.ai/pnikitits_1/flappy-bird-sarsa' target=\"_blank\">Weights & Biases</a> (<a href='https://wandb.me/run' target=\"_blank\">docs</a>)<br/>Sweep page: <a href='https://wandb.ai/pnikitits_1/flappy-bird-sarsa/sweeps/4zn6ispr' target=\"_blank\">https://wandb.ai/pnikitits_1/flappy-bird-sarsa/sweeps/4zn6ispr</a>"
      ],
      "text/plain": [
       "<IPython.core.display.HTML object>"
      ]
     },
     "metadata": {},
     "output_type": "display_data"
    },
    {
     "data": {
      "text/html": [
       " View project at <a href='https://wandb.ai/pnikitits_1/flappy-bird-sarsa' target=\"_blank\">https://wandb.ai/pnikitits_1/flappy-bird-sarsa</a>"
      ],
      "text/plain": [
       "<IPython.core.display.HTML object>"
      ]
     },
     "metadata": {},
     "output_type": "display_data"
    },
    {
     "data": {
      "text/html": [
       " View sweep at <a href='https://wandb.ai/pnikitits_1/flappy-bird-sarsa/sweeps/4zn6ispr' target=\"_blank\">https://wandb.ai/pnikitits_1/flappy-bird-sarsa/sweeps/4zn6ispr</a>"
      ],
      "text/plain": [
       "<IPython.core.display.HTML object>"
      ]
     },
     "metadata": {},
     "output_type": "display_data"
    },
    {
     "data": {
      "text/html": [
       " View run at <a href='https://wandb.ai/pnikitits_1/flappy-bird-sarsa/runs/5gpkpni9' target=\"_blank\">https://wandb.ai/pnikitits_1/flappy-bird-sarsa/runs/5gpkpni9</a>"
      ],
      "text/plain": [
       "<IPython.core.display.HTML object>"
      ]
     },
     "metadata": {},
     "output_type": "display_data"
    },
    {
     "name": "stderr",
     "output_type": "stream",
     "text": [
      "100%|██████████| 1000/1000 [00:00<00:00, 6329.63it/s]\n"
     ]
    },
    {
     "data": {
      "text/html": [
       "<style>\n",
       "    table.wandb td:nth-child(1) { padding: 0 10px; text-align: left ; width: auto;} td:nth-child(2) {text-align: left ; width: 100%}\n",
       "    .wandb-row { display: flex; flex-direction: row; flex-wrap: wrap; justify-content: flex-start; width: 100% }\n",
       "    .wandb-col { display: flex; flex-direction: column; flex-basis: 100%; flex: 1; padding: 10px; }\n",
       "    </style>\n",
       "<div class=\"wandb-row\"><div class=\"wandb-col\"><h3>Run history:</h3><br/><table class=\"wandb\"><tr><td>reward</td><td>▁</td></tr></table><br/></div><div class=\"wandb-col\"><h3>Run summary:</h3><br/><table class=\"wandb\"><tr><td>reward</td><td>4.0</td></tr></table><br/></div></div>"
      ],
      "text/plain": [
       "<IPython.core.display.HTML object>"
      ]
     },
     "metadata": {},
     "output_type": "display_data"
    },
    {
     "data": {
      "text/html": [
       " View run <strong style=\"color:#cdcd00\">super-sweep-19</strong> at: <a href='https://wandb.ai/pnikitits_1/flappy-bird-sarsa/runs/5gpkpni9' target=\"_blank\">https://wandb.ai/pnikitits_1/flappy-bird-sarsa/runs/5gpkpni9</a><br/> View project at: <a href='https://wandb.ai/pnikitits_1/flappy-bird-sarsa' target=\"_blank\">https://wandb.ai/pnikitits_1/flappy-bird-sarsa</a><br/>Synced 6 W&B file(s), 0 media file(s), 0 artifact file(s) and 0 other file(s)"
      ],
      "text/plain": [
       "<IPython.core.display.HTML object>"
      ]
     },
     "metadata": {},
     "output_type": "display_data"
    },
    {
     "data": {
      "text/html": [
       "Find logs at: <code>./wandb/run-20240412_233544-5gpkpni9/logs</code>"
      ],
      "text/plain": [
       "<IPython.core.display.HTML object>"
      ]
     },
     "metadata": {},
     "output_type": "display_data"
    },
    {
     "name": "stderr",
     "output_type": "stream",
     "text": [
      "\u001b[34m\u001b[1mwandb\u001b[0m: Agent Starting Run: it18efdz with config:\n",
      "\u001b[34m\u001b[1mwandb\u001b[0m: \talpha: 0.1\n",
      "\u001b[34m\u001b[1mwandb\u001b[0m: \tepsilon: 0.1\n",
      "\u001b[34m\u001b[1mwandb\u001b[0m: \tepsilon_decay: 0.5\n",
      "\u001b[34m\u001b[1mwandb\u001b[0m: \tepsilon_min: 0.0001\n",
      "\u001b[34m\u001b[1mwandb\u001b[0m: \tgamma: 0.5\n",
      "\u001b[34m\u001b[1mwandb\u001b[0m: \tlam: 0.9\n",
      "Failed to detect the name of this notebook, you can set it manually with the WANDB_NOTEBOOK_NAME environment variable to enable code saving.\n"
     ]
    },
    {
     "data": {
      "text/html": [
       "Tracking run with wandb version 0.16.6"
      ],
      "text/plain": [
       "<IPython.core.display.HTML object>"
      ]
     },
     "metadata": {},
     "output_type": "display_data"
    },
    {
     "data": {
      "text/html": [
       "Run data is saved locally in <code>/Users/pierre/Documents/GitHub/RL_Assignment/wandb/run-20240412_233555-it18efdz</code>"
      ],
      "text/plain": [
       "<IPython.core.display.HTML object>"
      ]
     },
     "metadata": {},
     "output_type": "display_data"
    },
    {
     "data": {
      "text/html": [
       "Syncing run <strong><a href='https://wandb.ai/pnikitits_1/flappy-bird-sarsa/runs/it18efdz' target=\"_blank\">stilted-sweep-20</a></strong> to <a href='https://wandb.ai/pnikitits_1/flappy-bird-sarsa' target=\"_blank\">Weights & Biases</a> (<a href='https://wandb.me/run' target=\"_blank\">docs</a>)<br/>Sweep page: <a href='https://wandb.ai/pnikitits_1/flappy-bird-sarsa/sweeps/4zn6ispr' target=\"_blank\">https://wandb.ai/pnikitits_1/flappy-bird-sarsa/sweeps/4zn6ispr</a>"
      ],
      "text/plain": [
       "<IPython.core.display.HTML object>"
      ]
     },
     "metadata": {},
     "output_type": "display_data"
    },
    {
     "data": {
      "text/html": [
       " View project at <a href='https://wandb.ai/pnikitits_1/flappy-bird-sarsa' target=\"_blank\">https://wandb.ai/pnikitits_1/flappy-bird-sarsa</a>"
      ],
      "text/plain": [
       "<IPython.core.display.HTML object>"
      ]
     },
     "metadata": {},
     "output_type": "display_data"
    },
    {
     "data": {
      "text/html": [
       " View sweep at <a href='https://wandb.ai/pnikitits_1/flappy-bird-sarsa/sweeps/4zn6ispr' target=\"_blank\">https://wandb.ai/pnikitits_1/flappy-bird-sarsa/sweeps/4zn6ispr</a>"
      ],
      "text/plain": [
       "<IPython.core.display.HTML object>"
      ]
     },
     "metadata": {},
     "output_type": "display_data"
    },
    {
     "data": {
      "text/html": [
       " View run at <a href='https://wandb.ai/pnikitits_1/flappy-bird-sarsa/runs/it18efdz' target=\"_blank\">https://wandb.ai/pnikitits_1/flappy-bird-sarsa/runs/it18efdz</a>"
      ],
      "text/plain": [
       "<IPython.core.display.HTML object>"
      ]
     },
     "metadata": {},
     "output_type": "display_data"
    },
    {
     "name": "stderr",
     "output_type": "stream",
     "text": [
      "100%|██████████| 1000/1000 [00:00<00:00, 7319.20it/s]\n"
     ]
    },
    {
     "data": {
      "text/html": [
       "<style>\n",
       "    table.wandb td:nth-child(1) { padding: 0 10px; text-align: left ; width: auto;} td:nth-child(2) {text-align: left ; width: 100%}\n",
       "    .wandb-row { display: flex; flex-direction: row; flex-wrap: wrap; justify-content: flex-start; width: 100% }\n",
       "    .wandb-col { display: flex; flex-direction: column; flex-basis: 100%; flex: 1; padding: 10px; }\n",
       "    </style>\n",
       "<div class=\"wandb-row\"><div class=\"wandb-col\"><h3>Run history:</h3><br/><table class=\"wandb\"><tr><td>reward</td><td>▁</td></tr></table><br/></div><div class=\"wandb-col\"><h3>Run summary:</h3><br/><table class=\"wandb\"><tr><td>reward</td><td>4.0</td></tr></table><br/></div></div>"
      ],
      "text/plain": [
       "<IPython.core.display.HTML object>"
      ]
     },
     "metadata": {},
     "output_type": "display_data"
    },
    {
     "data": {
      "text/html": [
       " View run <strong style=\"color:#cdcd00\">stilted-sweep-20</strong> at: <a href='https://wandb.ai/pnikitits_1/flappy-bird-sarsa/runs/it18efdz' target=\"_blank\">https://wandb.ai/pnikitits_1/flappy-bird-sarsa/runs/it18efdz</a><br/> View project at: <a href='https://wandb.ai/pnikitits_1/flappy-bird-sarsa' target=\"_blank\">https://wandb.ai/pnikitits_1/flappy-bird-sarsa</a><br/>Synced 6 W&B file(s), 0 media file(s), 0 artifact file(s) and 0 other file(s)"
      ],
      "text/plain": [
       "<IPython.core.display.HTML object>"
      ]
     },
     "metadata": {},
     "output_type": "display_data"
    },
    {
     "data": {
      "text/html": [
       "Find logs at: <code>./wandb/run-20240412_233555-it18efdz/logs</code>"
      ],
      "text/plain": [
       "<IPython.core.display.HTML object>"
      ]
     },
     "metadata": {},
     "output_type": "display_data"
    },
    {
     "name": "stderr",
     "output_type": "stream",
     "text": [
      "\u001b[34m\u001b[1mwandb\u001b[0m: Sorting runs by -summary_metrics.reward\n"
     ]
    },
    {
     "name": "stdout",
     "output_type": "stream",
     "text": [
      "Best config: {'lam': 0.9, 'alpha': 0.9, 'gamma': 0.9, 'epsilon': 0.9, 'epsilon_min': 1e-05, 'epsilon_decay': 0.5}\n"
     ]
    }
   ],
   "source": [
    "sweep_config = {\n",
    "    'method': 'bayes',\n",
    "    'metric': {\n",
    "        'name': 'reward',\n",
    "        'goal': 'maximize'\n",
    "    },\n",
    "    'parameters': {\n",
    "        'alpha': {\n",
    "            'values': [0.1 , 0.5 , 0.9]\n",
    "        },\n",
    "        'gamma': {\n",
    "            'values': [0.1 , 0.5 , 0.9]\n",
    "        },\n",
    "        'lam': {\n",
    "            'values': [0.1 , 0.5 , 0.9]\n",
    "        },\n",
    "        'epsilon': {\n",
    "            'values': [0.1 , 0.5 , 0.9]\n",
    "        },\n",
    "        'epsilon_decay': {\n",
    "            'values': [0.1 , 0.5 , 0.9]\n",
    "        },\n",
    "        'epsilon_min': {\n",
    "            'values': [0.00001 , 0.0001 , 0.001]\n",
    "        }\n",
    "    }\n",
    "}\n",
    "\n",
    "sweep_id = wandb.sweep(sweep_config , project=\"flappy-bird-sarsa\")\n",
    "\n",
    "def train_agent():\n",
    "    with wandb.init() as run:\n",
    "        config = wandb.config\n",
    "        env = gym.make('TextFlappyBird-v0' , height=15 , width=20 , pipe_gap=4)\n",
    "        agent = SarsaLambdaAgent(env.action_space , config)\n",
    "        _ , rewards , _ = train_sarsa(env , agent , 1000)\n",
    "        env.close()\n",
    "        wandb.log({'reward': np.mean(rewards)})\n",
    "        return np.mean(rewards)\n",
    "    \n",
    "# set to true to run the sweep (takes a long time)\n",
    "if True:\n",
    "    wandb.agent(sweep_id , train_agent , count=20)\n",
    "\n",
    "    sweep_results = wandb.Api().sweep(sweep_id)\n",
    "    best_run = sweep_results.best_run()\n",
    "    best_config = best_run.config\n",
    "\n",
    "    print(f\"Best config: {best_config}\")"
   ]
  }
 ],
 "metadata": {
  "kernelspec": {
   "display_name": "birdenv",
   "language": "python",
   "name": "python3"
  },
  "language_info": {
   "codemirror_mode": {
    "name": "ipython",
    "version": 3
   },
   "file_extension": ".py",
   "mimetype": "text/x-python",
   "name": "python",
   "nbconvert_exporter": "python",
   "pygments_lexer": "ipython3",
   "version": "3.11.0"
  }
 },
 "nbformat": 4,
 "nbformat_minor": 2
}
